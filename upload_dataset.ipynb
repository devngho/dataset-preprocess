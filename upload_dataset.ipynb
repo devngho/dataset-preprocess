{
 "cells": [
  {
   "cell_type": "code",
   "id": "initial_id",
   "metadata": {
    "collapsed": true,
    "ExecuteTime": {
     "end_time": "2024-11-24T08:15:51.741302Z",
     "start_time": "2024-11-24T08:15:51.738798Z"
    }
   },
   "source": [
    "from platform import system\n",
    "\n",
    "from datasets import Dataset, concatenate_datasets\n",
    "import os\n",
    "import itertools"
   ],
   "outputs": [],
   "execution_count": 5
  },
  {
   "metadata": {
    "ExecuteTime": {
     "end_time": "2024-11-24T08:15:51.940021Z",
     "start_time": "2024-11-24T08:15:51.935070Z"
    }
   },
   "cell_type": "code",
   "source": [
    "# Load the preprocessed dataset\n",
    "# The dataset is a dataframe json file, so we can load it using pandas\n",
    "# File structure: preprocessed/{task}/{dataset_name}.jsonl\n",
    "# task: CHAT, CORPUS, CORPUS_SPOKEN, DIALECT, TASK_SUMMARIZATION, TASK_TRANSLATION\n",
    "\n",
    "# Using walk to get all the files in the preprocessed folder\n",
    "\n",
    "preprocessed_folder = 'preprocessed'\n",
    "datasets = []\n",
    "\n",
    "for root, dirs, files in os.walk(preprocessed_folder):\n",
    "    for file in files:\n",
    "        if file.endswith('.jsonl'):\n",
    "            datasets.append(os.path.join(root, file))\n",
    "\n",
    "datasets"
   ],
   "id": "75d46b35e0474654",
   "outputs": [
    {
     "data": {
      "text/plain": [
       "['preprocessed\\\\CHAT\\\\009.전문분야_기술과학_한국어 멀티세션 데이터.jsonl',\n",
       " 'preprocessed\\\\CHAT\\\\010.전문분야_사회과학_한국어 멀티세션 데이터.jsonl',\n",
       " 'preprocessed\\\\CHAT\\\\044.페르소나 대화.jsonl',\n",
       " 'preprocessed\\\\CHAT\\\\045.지식검색 대화.jsonl',\n",
       " 'preprocessed\\\\CHAT\\\\046.공감형 대화.jsonl',\n",
       " 'preprocessed\\\\CHAT\\\\141.한국어 멀티세션 대화.jsonl',\n",
       " 'preprocessed\\\\CHAT\\\\NIKL_DIALOGUE_2020_v1.4.zip.jsonl',\n",
       " 'preprocessed\\\\CHAT\\\\NIKL_DIALOGUE_2021_v1.1.zip.jsonl',\n",
       " 'preprocessed\\\\CHAT\\\\NIKL_DIALOGUE_2022_v1.0_JSON.zip.jsonl',\n",
       " 'preprocessed\\\\CORPUS\\\\016.행정 문서 대상 기계독해 데이터.jsonl',\n",
       " 'preprocessed\\\\CORPUS\\\\017.뉴스 기사 기계독해 데이터.jsonl',\n",
       " 'preprocessed\\\\CORPUS\\\\018.논문자료 요약 데이터.jsonl',\n",
       " 'preprocessed\\\\CORPUS\\\\019.법률, 규정 (판결서, 약관 등) 텍스트 분석 데이터.jsonl',\n",
       " 'preprocessed\\\\CORPUS\\\\021.도서자료 기계독해.jsonl',\n",
       " 'preprocessed\\\\CORPUS\\\\022.요약문 및 레포트 생성 데이터.jsonl',\n",
       " 'preprocessed\\\\CORPUS\\\\023.방송 콘텐츠 대본 요약 데이터.jsonl',\n",
       " 'preprocessed\\\\CORPUS\\\\029.대규모 구매도서 기반 한국어 말뭉치 데이터.jsonl',\n",
       " 'preprocessed\\\\CORPUS\\\\030.웹데이터 기반 한국어 말뭉치 데이터.jsonl',\n",
       " 'preprocessed\\\\CORPUS\\\\048.일반상식 문장 생성 데이터.jsonl',\n",
       " 'preprocessed\\\\CORPUS\\\\119.국가기록물 대상 초거대AI 학습을 위한 말뭉치 데이터.jsonl',\n",
       " 'preprocessed\\\\CORPUS\\\\121.한국어 성능이 개선된 초거대AI 언어모델 개발 및 데이터.jsonl',\n",
       " 'preprocessed\\\\CORPUS\\\\150.숫자연산 기계독해 데이터.jsonl',\n",
       " 'preprocessed\\\\CORPUS\\\\152.기술과학 문서 기계독해 데이터.jsonl',\n",
       " 'preprocessed\\\\CORPUS\\\\153.기술과학 요약 데이터.jsonl',\n",
       " 'preprocessed\\\\CORPUS\\\\157.추상 요약 사실성 검증 데이터.jsonl',\n",
       " 'preprocessed\\\\CORPUS\\\\NIKLNEWSPAPER_2022_v1.0_JSON.zip.jsonl',\n",
       " 'preprocessed\\\\CORPUS\\\\NIKL_NEWSPAPER_2020_v1.1_JSON.zip.jsonl',\n",
       " 'preprocessed\\\\CORPUS\\\\NIKL_NEWSPAPER_2021_v1.0_JSON.zip.jsonl',\n",
       " 'preprocessed\\\\CORPUS\\\\NIKL_NEWSPAPER_2023_JSON_v1.0.zip.jsonl',\n",
       " 'preprocessed\\\\CORPUS\\\\NIKL_NEWSPAPER_v2.0_JSON.zip.jsonl',\n",
       " 'preprocessed\\\\CORPUS\\\\NIKL_WRITTEN_v1.2_JSON.zip.jsonl',\n",
       " 'preprocessed\\\\CORPUS\\\\기계독해.jsonl',\n",
       " 'preprocessed\\\\CORPUS\\\\도서자료 요약.jsonl',\n",
       " 'preprocessed\\\\CORPUS\\\\문서요약 텍스트.jsonl',\n",
       " 'preprocessed\\\\CORPUS_SPOKEN\\\\031.온라인 구어체 말뭉치 데이터.jsonl',\n",
       " 'preprocessed\\\\TASK_SUMMARIZATION\\\\018.논문자료 요약 데이터.jsonl',\n",
       " 'preprocessed\\\\TASK_SUMMARIZATION\\\\022.요약문 및 레포트 생성 데이터.jsonl',\n",
       " 'preprocessed\\\\TASK_SUMMARIZATION\\\\023.방송 콘텐츠 대본 요약 데이터.jsonl',\n",
       " 'preprocessed\\\\TASK_SUMMARIZATION\\\\153.기술과학 요약 데이터.jsonl',\n",
       " 'preprocessed\\\\TASK_SUMMARIZATION\\\\157.추상 요약 사실성 검증 데이터.jsonl',\n",
       " 'preprocessed\\\\TASK_SUMMARIZATION\\\\도서자료 요약.jsonl',\n",
       " 'preprocessed\\\\TASK_SUMMARIZATION\\\\문서요약 텍스트.jsonl',\n",
       " 'preprocessed\\\\TASK_TRANSLATION\\\\025.일상생활 및 구어체 한-영 번역 병렬 말뭉치 데이터.jsonl',\n",
       " 'preprocessed\\\\TASK_TRANSLATION\\\\026.기술과학 분야 한-영 번역 병렬 말뭉치 데이터.jsonl',\n",
       " 'preprocessed\\\\TASK_TRANSLATION\\\\027.일상생활 및 구어체 한-중, 한-일 번역 병렬 말뭉치 데이터.jsonl',\n",
       " 'preprocessed\\\\TASK_TRANSLATION\\\\028.다국어 구어체 번역 병렬 말뭉치 데이터.jsonl',\n",
       " 'preprocessed\\\\TASK_TRANSLATION\\\\032.방송콘텐츠 한국어-영어 번역 말뭉치.jsonl',\n",
       " 'preprocessed\\\\TASK_TRANSLATION\\\\034.방송콘텐츠 한국어-유럽어 번역 말뭉치.jsonl',\n",
       " 'preprocessed\\\\TASK_TRANSLATION\\\\036.방송콘텐츠 한국어-아시아어 번역 말뭉치.jsonl',\n",
       " 'preprocessed\\\\TASK_TRANSLATION\\\\053.한국어-다국어(영어 제외) 번역 말뭉치(기술과학).jsonl',\n",
       " 'preprocessed\\\\TASK_TRANSLATION\\\\054.한국어-다국어 번역 말뭉치(기초과학).jsonl',\n",
       " 'preprocessed\\\\TASK_TRANSLATION\\\\055.한국어-다국어 번역 말뭉치(인문학).jsonl',\n",
       " 'preprocessed\\\\TASK_TRANSLATION\\\\155.산업정보 연계 주요국 특허 영-한 데이터.jsonl',\n",
       " 'preprocessed\\\\TASK_TRANSLATION\\\\156.전문분야 영-한, 중-한 번역 말뭉치(식품).jsonl',\n",
       " 'preprocessed\\\\TASK_TRANSLATION\\\\157.방송 콘텐츠 한-중, 한-일 번역 병렬 말뭉치 데이터.jsonl']"
      ]
     },
     "execution_count": 6,
     "metadata": {},
     "output_type": "execute_result"
    }
   ],
   "execution_count": 6
  },
  {
   "metadata": {
    "ExecuteTime": {
     "end_time": "2024-11-24T08:15:52.296981Z",
     "start_time": "2024-11-24T08:15:52.291805Z"
    }
   },
   "cell_type": "code",
   "source": [
    "# classificate the datasets by task\n",
    "tasks = ['CHAT', 'CORPUS', 'CORPUS_SPOKEN', 'DIALECT', 'TASK_SUMMARIZATION', 'TASK_TRANSLATION']\n",
    "datasets_by_task = {task: [] for task in tasks}\n",
    "\n",
    "for dataset in datasets:\n",
    "    task = dataset.split('\\\\')[1]\n",
    "    datasets_by_task[task].append(dataset)\n",
    "\n",
    "datasets_by_task"
   ],
   "id": "bdaf1700d569c7d7",
   "outputs": [
    {
     "data": {
      "text/plain": [
       "{'CHAT': ['preprocessed\\\\CHAT\\\\009.전문분야_기술과학_한국어 멀티세션 데이터.jsonl',\n",
       "  'preprocessed\\\\CHAT\\\\010.전문분야_사회과학_한국어 멀티세션 데이터.jsonl',\n",
       "  'preprocessed\\\\CHAT\\\\044.페르소나 대화.jsonl',\n",
       "  'preprocessed\\\\CHAT\\\\045.지식검색 대화.jsonl',\n",
       "  'preprocessed\\\\CHAT\\\\046.공감형 대화.jsonl',\n",
       "  'preprocessed\\\\CHAT\\\\141.한국어 멀티세션 대화.jsonl',\n",
       "  'preprocessed\\\\CHAT\\\\NIKL_DIALOGUE_2020_v1.4.zip.jsonl',\n",
       "  'preprocessed\\\\CHAT\\\\NIKL_DIALOGUE_2021_v1.1.zip.jsonl',\n",
       "  'preprocessed\\\\CHAT\\\\NIKL_DIALOGUE_2022_v1.0_JSON.zip.jsonl'],\n",
       " 'CORPUS': ['preprocessed\\\\CORPUS\\\\016.행정 문서 대상 기계독해 데이터.jsonl',\n",
       "  'preprocessed\\\\CORPUS\\\\017.뉴스 기사 기계독해 데이터.jsonl',\n",
       "  'preprocessed\\\\CORPUS\\\\018.논문자료 요약 데이터.jsonl',\n",
       "  'preprocessed\\\\CORPUS\\\\019.법률, 규정 (판결서, 약관 등) 텍스트 분석 데이터.jsonl',\n",
       "  'preprocessed\\\\CORPUS\\\\021.도서자료 기계독해.jsonl',\n",
       "  'preprocessed\\\\CORPUS\\\\022.요약문 및 레포트 생성 데이터.jsonl',\n",
       "  'preprocessed\\\\CORPUS\\\\023.방송 콘텐츠 대본 요약 데이터.jsonl',\n",
       "  'preprocessed\\\\CORPUS\\\\029.대규모 구매도서 기반 한국어 말뭉치 데이터.jsonl',\n",
       "  'preprocessed\\\\CORPUS\\\\030.웹데이터 기반 한국어 말뭉치 데이터.jsonl',\n",
       "  'preprocessed\\\\CORPUS\\\\048.일반상식 문장 생성 데이터.jsonl',\n",
       "  'preprocessed\\\\CORPUS\\\\119.국가기록물 대상 초거대AI 학습을 위한 말뭉치 데이터.jsonl',\n",
       "  'preprocessed\\\\CORPUS\\\\121.한국어 성능이 개선된 초거대AI 언어모델 개발 및 데이터.jsonl',\n",
       "  'preprocessed\\\\CORPUS\\\\150.숫자연산 기계독해 데이터.jsonl',\n",
       "  'preprocessed\\\\CORPUS\\\\152.기술과학 문서 기계독해 데이터.jsonl',\n",
       "  'preprocessed\\\\CORPUS\\\\153.기술과학 요약 데이터.jsonl',\n",
       "  'preprocessed\\\\CORPUS\\\\157.추상 요약 사실성 검증 데이터.jsonl',\n",
       "  'preprocessed\\\\CORPUS\\\\NIKLNEWSPAPER_2022_v1.0_JSON.zip.jsonl',\n",
       "  'preprocessed\\\\CORPUS\\\\NIKL_NEWSPAPER_2020_v1.1_JSON.zip.jsonl',\n",
       "  'preprocessed\\\\CORPUS\\\\NIKL_NEWSPAPER_2021_v1.0_JSON.zip.jsonl',\n",
       "  'preprocessed\\\\CORPUS\\\\NIKL_NEWSPAPER_2023_JSON_v1.0.zip.jsonl',\n",
       "  'preprocessed\\\\CORPUS\\\\NIKL_NEWSPAPER_v2.0_JSON.zip.jsonl',\n",
       "  'preprocessed\\\\CORPUS\\\\NIKL_WRITTEN_v1.2_JSON.zip.jsonl',\n",
       "  'preprocessed\\\\CORPUS\\\\기계독해.jsonl',\n",
       "  'preprocessed\\\\CORPUS\\\\도서자료 요약.jsonl',\n",
       "  'preprocessed\\\\CORPUS\\\\문서요약 텍스트.jsonl'],\n",
       " 'CORPUS_SPOKEN': ['preprocessed\\\\CORPUS_SPOKEN\\\\031.온라인 구어체 말뭉치 데이터.jsonl'],\n",
       " 'DIALECT': [],\n",
       " 'TASK_SUMMARIZATION': ['preprocessed\\\\TASK_SUMMARIZATION\\\\018.논문자료 요약 데이터.jsonl',\n",
       "  'preprocessed\\\\TASK_SUMMARIZATION\\\\022.요약문 및 레포트 생성 데이터.jsonl',\n",
       "  'preprocessed\\\\TASK_SUMMARIZATION\\\\023.방송 콘텐츠 대본 요약 데이터.jsonl',\n",
       "  'preprocessed\\\\TASK_SUMMARIZATION\\\\153.기술과학 요약 데이터.jsonl',\n",
       "  'preprocessed\\\\TASK_SUMMARIZATION\\\\157.추상 요약 사실성 검증 데이터.jsonl',\n",
       "  'preprocessed\\\\TASK_SUMMARIZATION\\\\도서자료 요약.jsonl',\n",
       "  'preprocessed\\\\TASK_SUMMARIZATION\\\\문서요약 텍스트.jsonl'],\n",
       " 'TASK_TRANSLATION': ['preprocessed\\\\TASK_TRANSLATION\\\\025.일상생활 및 구어체 한-영 번역 병렬 말뭉치 데이터.jsonl',\n",
       "  'preprocessed\\\\TASK_TRANSLATION\\\\026.기술과학 분야 한-영 번역 병렬 말뭉치 데이터.jsonl',\n",
       "  'preprocessed\\\\TASK_TRANSLATION\\\\027.일상생활 및 구어체 한-중, 한-일 번역 병렬 말뭉치 데이터.jsonl',\n",
       "  'preprocessed\\\\TASK_TRANSLATION\\\\028.다국어 구어체 번역 병렬 말뭉치 데이터.jsonl',\n",
       "  'preprocessed\\\\TASK_TRANSLATION\\\\032.방송콘텐츠 한국어-영어 번역 말뭉치.jsonl',\n",
       "  'preprocessed\\\\TASK_TRANSLATION\\\\034.방송콘텐츠 한국어-유럽어 번역 말뭉치.jsonl',\n",
       "  'preprocessed\\\\TASK_TRANSLATION\\\\036.방송콘텐츠 한국어-아시아어 번역 말뭉치.jsonl',\n",
       "  'preprocessed\\\\TASK_TRANSLATION\\\\053.한국어-다국어(영어 제외) 번역 말뭉치(기술과학).jsonl',\n",
       "  'preprocessed\\\\TASK_TRANSLATION\\\\054.한국어-다국어 번역 말뭉치(기초과학).jsonl',\n",
       "  'preprocessed\\\\TASK_TRANSLATION\\\\055.한국어-다국어 번역 말뭉치(인문학).jsonl',\n",
       "  'preprocessed\\\\TASK_TRANSLATION\\\\155.산업정보 연계 주요국 특허 영-한 데이터.jsonl',\n",
       "  'preprocessed\\\\TASK_TRANSLATION\\\\156.전문분야 영-한, 중-한 번역 말뭉치(식품).jsonl',\n",
       "  'preprocessed\\\\TASK_TRANSLATION\\\\157.방송 콘텐츠 한-중, 한-일 번역 병렬 말뭉치 데이터.jsonl']}"
      ]
     },
     "execution_count": 7,
     "metadata": {},
     "output_type": "execute_result"
    }
   ],
   "execution_count": 7
  },
  {
   "metadata": {
    "ExecuteTime": {
     "end_time": "2024-11-24T08:28:43.650080Z",
     "start_time": "2024-11-24T08:24:08.109372Z"
    }
   },
   "cell_type": "code",
   "source": [
    "import gc\n",
    "from tqdm.notebook import tqdm\n",
    "from datasets import load_dataset, Dataset\n",
    "\n",
    "datasets_loaded = {}\n",
    "backslash = '\\\\'\n",
    "\n",
    "for task, datasets in tqdm(datasets_by_task.items(), desc='Converting datasets', total=len(datasets_by_task)):\n",
    "    ds_bar = tqdm(datasets, desc=task, total=len(datasets))\n",
    "    for dataset in ds_bar:\n",
    "        temp_dir = f\"temp/{task}/{dataset.split('/')[-1].split(backslash)[-1]}\"\n",
    "        ds_bar.set_postfix_str(temp_dir)\n",
    "        if not os.path.exists(temp_dir):\n",
    "            dataset = Dataset.from_json(dataset)\n",
    "            dataset.save_to_disk(temp_dir)\n",
    "            del dataset\n",
    "            gc.collect()\n",
    "\n",
    "for task, datasets in tqdm(datasets_by_task.items(), desc='Loading datasets', total=len(datasets_by_task)):\n",
    "    datasets_loaded[task] = []\n",
    "    ds_bar = tqdm(datasets, desc=task, total=len(datasets))\n",
    "    for dataset in ds_bar:\n",
    "        temp_dir = f\"temp/{task}/{dataset.split('/')[-1].split(backslash)[-1]}\"\n",
    "        ds_bar.set_postfix_str(temp_dir)\n",
    "        datasets_loaded[task].append(Dataset.load_from_disk(temp_dir))"
   ],
   "id": "c0b8a090c239326f",
   "outputs": [
    {
     "data": {
      "text/plain": [
       "Converting datasets:   0%|          | 0/6 [00:00<?, ?it/s]"
      ],
      "application/vnd.jupyter.widget-view+json": {
       "version_major": 2,
       "version_minor": 0,
       "model_id": "d6d147713ab44c918af614a00d3afa57"
      }
     },
     "metadata": {},
     "output_type": "display_data"
    },
    {
     "data": {
      "text/plain": [
       "CHAT:   0%|          | 0/9 [00:00<?, ?it/s]"
      ],
      "application/vnd.jupyter.widget-view+json": {
       "version_major": 2,
       "version_minor": 0,
       "model_id": "8e5a916035f94fe693148a882ceb521e"
      }
     },
     "metadata": {},
     "output_type": "display_data"
    },
    {
     "data": {
      "text/plain": [
       "Generating train split: 0 examples [00:00, ? examples/s]"
      ],
      "application/vnd.jupyter.widget-view+json": {
       "version_major": 2,
       "version_minor": 0,
       "model_id": "89c62f1379514e71b8f3ba22b650fd0b"
      }
     },
     "metadata": {},
     "output_type": "display_data"
    },
    {
     "data": {
      "text/plain": [
       "Saving the dataset (0/1 shards):   0%|          | 0/120097 [00:00<?, ? examples/s]"
      ],
      "application/vnd.jupyter.widget-view+json": {
       "version_major": 2,
       "version_minor": 0,
       "model_id": "cc0c0caa47ef4197b0a22265bfc07ed9"
      }
     },
     "metadata": {},
     "output_type": "display_data"
    },
    {
     "data": {
      "text/plain": [
       "Generating train split: 0 examples [00:00, ? examples/s]"
      ],
      "application/vnd.jupyter.widget-view+json": {
       "version_major": 2,
       "version_minor": 0,
       "model_id": "b18adabad70b4776813b079bda6b31c5"
      }
     },
     "metadata": {},
     "output_type": "display_data"
    },
    {
     "data": {
      "text/plain": [
       "Saving the dataset (0/1 shards):   0%|          | 0/120761 [00:00<?, ? examples/s]"
      ],
      "application/vnd.jupyter.widget-view+json": {
       "version_major": 2,
       "version_minor": 0,
       "model_id": "9e27f4f85fce492ab19d82c0bfcf6c13"
      }
     },
     "metadata": {},
     "output_type": "display_data"
    },
    {
     "data": {
      "text/plain": [
       "Generating train split: 0 examples [00:00, ? examples/s]"
      ],
      "application/vnd.jupyter.widget-view+json": {
       "version_major": 2,
       "version_minor": 0,
       "model_id": "0583a3c68eb04cfbaa24952c305be0c1"
      }
     },
     "metadata": {},
     "output_type": "display_data"
    },
    {
     "data": {
      "text/plain": [
       "Saving the dataset (0/1 shards):   0%|          | 0/25572 [00:00<?, ? examples/s]"
      ],
      "application/vnd.jupyter.widget-view+json": {
       "version_major": 2,
       "version_minor": 0,
       "model_id": "85b0807698e14fb39e52cd18678142f4"
      }
     },
     "metadata": {},
     "output_type": "display_data"
    },
    {
     "data": {
      "text/plain": [
       "Generating train split: 0 examples [00:00, ? examples/s]"
      ],
      "application/vnd.jupyter.widget-view+json": {
       "version_major": 2,
       "version_minor": 0,
       "model_id": "285bdb785a024b589affcb4ba2b68fe2"
      }
     },
     "metadata": {},
     "output_type": "display_data"
    },
    {
     "data": {
      "text/plain": [
       "Saving the dataset (0/1 shards):   0%|          | 0/14622 [00:00<?, ? examples/s]"
      ],
      "application/vnd.jupyter.widget-view+json": {
       "version_major": 2,
       "version_minor": 0,
       "model_id": "3b95acedd744480ba93dc594b5490aed"
      }
     },
     "metadata": {},
     "output_type": "display_data"
    },
    {
     "data": {
      "text/plain": [
       "Generating train split: 0 examples [00:00, ? examples/s]"
      ],
      "application/vnd.jupyter.widget-view+json": {
       "version_major": 2,
       "version_minor": 0,
       "model_id": "3e82175f3d9143de8b87569fda3c97e1"
      }
     },
     "metadata": {},
     "output_type": "display_data"
    },
    {
     "data": {
      "text/plain": [
       "Saving the dataset (0/1 shards):   0%|          | 0/10786 [00:00<?, ? examples/s]"
      ],
      "application/vnd.jupyter.widget-view+json": {
       "version_major": 2,
       "version_minor": 0,
       "model_id": "729dd0e46ff14258970a40e5ea4fa731"
      }
     },
     "metadata": {},
     "output_type": "display_data"
    },
    {
     "data": {
      "text/plain": [
       "Generating train split: 0 examples [00:00, ? examples/s]"
      ],
      "application/vnd.jupyter.widget-view+json": {
       "version_major": 2,
       "version_minor": 0,
       "model_id": "fc6b7960428d411584ab5586d7ea29cd"
      }
     },
     "metadata": {},
     "output_type": "display_data"
    },
    {
     "data": {
      "text/plain": [
       "Saving the dataset (0/1 shards):   0%|          | 0/184000 [00:00<?, ? examples/s]"
      ],
      "application/vnd.jupyter.widget-view+json": {
       "version_major": 2,
       "version_minor": 0,
       "model_id": "2c458f442d41469dab87fd7f2d144875"
      }
     },
     "metadata": {},
     "output_type": "display_data"
    },
    {
     "data": {
      "text/plain": [
       "Generating train split: 0 examples [00:00, ? examples/s]"
      ],
      "application/vnd.jupyter.widget-view+json": {
       "version_major": 2,
       "version_minor": 0,
       "model_id": "94b89ba368264aa89e99df8a35eb07d6"
      }
     },
     "metadata": {},
     "output_type": "display_data"
    },
    {
     "data": {
      "text/plain": [
       "Saving the dataset (0/1 shards):   0%|          | 0/2232 [00:00<?, ? examples/s]"
      ],
      "application/vnd.jupyter.widget-view+json": {
       "version_major": 2,
       "version_minor": 0,
       "model_id": "8607c450d0e3470cb18ae38798b04222"
      }
     },
     "metadata": {},
     "output_type": "display_data"
    },
    {
     "data": {
      "text/plain": [
       "Generating train split: 0 examples [00:00, ? examples/s]"
      ],
      "application/vnd.jupyter.widget-view+json": {
       "version_major": 2,
       "version_minor": 0,
       "model_id": "0e5205f060af424289bb5f84eb0c13c9"
      }
     },
     "metadata": {},
     "output_type": "display_data"
    },
    {
     "data": {
      "text/plain": [
       "Saving the dataset (0/1 shards):   0%|          | 0/3723 [00:00<?, ? examples/s]"
      ],
      "application/vnd.jupyter.widget-view+json": {
       "version_major": 2,
       "version_minor": 0,
       "model_id": "e8c6bd8934414b6c9c202aaf485adf60"
      }
     },
     "metadata": {},
     "output_type": "display_data"
    },
    {
     "data": {
      "text/plain": [
       "Generating train split: 0 examples [00:00, ? examples/s]"
      ],
      "application/vnd.jupyter.widget-view+json": {
       "version_major": 2,
       "version_minor": 0,
       "model_id": "daff287624594c82b9e0833ad9e5578e"
      }
     },
     "metadata": {},
     "output_type": "display_data"
    },
    {
     "data": {
      "text/plain": [
       "Saving the dataset (0/1 shards):   0%|          | 0/2129 [00:00<?, ? examples/s]"
      ],
      "application/vnd.jupyter.widget-view+json": {
       "version_major": 2,
       "version_minor": 0,
       "model_id": "a992952842324a1382704bc48f8acdd5"
      }
     },
     "metadata": {},
     "output_type": "display_data"
    },
    {
     "data": {
      "text/plain": [
       "CORPUS:   0%|          | 0/25 [00:00<?, ?it/s]"
      ],
      "application/vnd.jupyter.widget-view+json": {
       "version_major": 2,
       "version_minor": 0,
       "model_id": "f0bffe9d7bdb4c689a12c8c2af6b0767"
      }
     },
     "metadata": {},
     "output_type": "display_data"
    },
    {
     "data": {
      "text/plain": [
       "Generating train split: 0 examples [00:00, ? examples/s]"
      ],
      "application/vnd.jupyter.widget-view+json": {
       "version_major": 2,
       "version_minor": 0,
       "model_id": "9077078f112d42669cce5e06405f22e6"
      }
     },
     "metadata": {},
     "output_type": "display_data"
    },
    {
     "data": {
      "text/plain": [
       "Saving the dataset (0/1 shards):   0%|          | 0/197698 [00:00<?, ? examples/s]"
      ],
      "application/vnd.jupyter.widget-view+json": {
       "version_major": 2,
       "version_minor": 0,
       "model_id": "7f1a848846e74354af4a55edac933dad"
      }
     },
     "metadata": {},
     "output_type": "display_data"
    },
    {
     "data": {
      "text/plain": [
       "Generating train split: 0 examples [00:00, ? examples/s]"
      ],
      "application/vnd.jupyter.widget-view+json": {
       "version_major": 2,
       "version_minor": 0,
       "model_id": "362794f8611341acb6c64e73a4199025"
      }
     },
     "metadata": {},
     "output_type": "display_data"
    },
    {
     "data": {
      "text/plain": [
       "Saving the dataset (0/1 shards):   0%|          | 0/159968 [00:00<?, ? examples/s]"
      ],
      "application/vnd.jupyter.widget-view+json": {
       "version_major": 2,
       "version_minor": 0,
       "model_id": "ea9c1de084fc46ab8300a294b9f31646"
      }
     },
     "metadata": {},
     "output_type": "display_data"
    },
    {
     "data": {
      "text/plain": [
       "Generating train split: 0 examples [00:00, ? examples/s]"
      ],
      "application/vnd.jupyter.widget-view+json": {
       "version_major": 2,
       "version_minor": 0,
       "model_id": "e984a0d82d1b469c9b65b66715ccde9d"
      }
     },
     "metadata": {},
     "output_type": "display_data"
    },
    {
     "data": {
      "text/plain": [
       "Saving the dataset (0/14 shards):   0%|          | 0/678758 [00:00<?, ? examples/s]"
      ],
      "application/vnd.jupyter.widget-view+json": {
       "version_major": 2,
       "version_minor": 0,
       "model_id": "b6e5868582844f2bb0e5f206b00dc821"
      }
     },
     "metadata": {},
     "output_type": "display_data"
    },
    {
     "data": {
      "text/plain": [
       "Generating train split: 0 examples [00:00, ? examples/s]"
      ],
      "application/vnd.jupyter.widget-view+json": {
       "version_major": 2,
       "version_minor": 0,
       "model_id": "a5c13a21e307486f9b35585dd93f50c7"
      }
     },
     "metadata": {},
     "output_type": "display_data"
    },
    {
     "data": {
      "text/plain": [
       "Saving the dataset (0/1 shards):   0%|          | 0/16000 [00:00<?, ? examples/s]"
      ],
      "application/vnd.jupyter.widget-view+json": {
       "version_major": 2,
       "version_minor": 0,
       "model_id": "e081908fed554479b5e21f111245e7d1"
      }
     },
     "metadata": {},
     "output_type": "display_data"
    },
    {
     "data": {
      "text/plain": [
       "Generating train split: 0 examples [00:00, ? examples/s]"
      ],
      "application/vnd.jupyter.widget-view+json": {
       "version_major": 2,
       "version_minor": 0,
       "model_id": "38325dcb47d44941a648bb97b25c11a3"
      }
     },
     "metadata": {},
     "output_type": "display_data"
    },
    {
     "data": {
      "text/plain": [
       "Saving the dataset (0/1 shards):   0%|          | 0/5368 [00:00<?, ? examples/s]"
      ],
      "application/vnd.jupyter.widget-view+json": {
       "version_major": 2,
       "version_minor": 0,
       "model_id": "eea89156f3b34e978d5bc6a01844687a"
      }
     },
     "metadata": {},
     "output_type": "display_data"
    },
    {
     "data": {
      "text/plain": [
       "Generating train split: 0 examples [00:00, ? examples/s]"
      ],
      "application/vnd.jupyter.widget-view+json": {
       "version_major": 2,
       "version_minor": 0,
       "model_id": "c33d392612fa4a37a06e83bfe79a06b7"
      }
     },
     "metadata": {},
     "output_type": "display_data"
    },
    {
     "data": {
      "text/plain": [
       "Saving the dataset (0/1 shards):   0%|          | 0/146771 [00:00<?, ? examples/s]"
      ],
      "application/vnd.jupyter.widget-view+json": {
       "version_major": 2,
       "version_minor": 0,
       "model_id": "d78f354025514dcda2463c1fe59d970c"
      }
     },
     "metadata": {},
     "output_type": "display_data"
    },
    {
     "data": {
      "text/plain": [
       "Generating train split: 0 examples [00:00, ? examples/s]"
      ],
      "application/vnd.jupyter.widget-view+json": {
       "version_major": 2,
       "version_minor": 0,
       "model_id": "772dc64b527e4b8089779df2904c3868"
      }
     },
     "metadata": {},
     "output_type": "display_data"
    },
    {
     "data": {
      "text/plain": [
       "Saving the dataset (0/1 shards):   0%|          | 0/84364 [00:00<?, ? examples/s]"
      ],
      "application/vnd.jupyter.widget-view+json": {
       "version_major": 2,
       "version_minor": 0,
       "model_id": "35e0ac77b27e4d85802098431dd1384d"
      }
     },
     "metadata": {},
     "output_type": "display_data"
    },
    {
     "data": {
      "text/plain": [
       "Generating train split: 0 examples [00:00, ? examples/s]"
      ],
      "application/vnd.jupyter.widget-view+json": {
       "version_major": 2,
       "version_minor": 0,
       "model_id": "d441fc2aad36400681f0e306d20da0e7"
      }
     },
     "metadata": {},
     "output_type": "display_data"
    },
    {
     "data": {
      "text/plain": [
       "Loading dataset shards:   0%|          | 0/18 [00:00<?, ?it/s]"
      ],
      "application/vnd.jupyter.widget-view+json": {
       "version_major": 2,
       "version_minor": 0,
       "model_id": "8f511a06f17d417280cf7718efde1a7c"
      }
     },
     "metadata": {},
     "output_type": "display_data"
    },
    {
     "data": {
      "text/plain": [
       "Saving the dataset (0/18 shards):   0%|          | 0/29363383 [00:00<?, ? examples/s]"
      ],
      "application/vnd.jupyter.widget-view+json": {
       "version_major": 2,
       "version_minor": 0,
       "model_id": "a8e09468e87446c5a5e0b7e0e113a638"
      }
     },
     "metadata": {},
     "output_type": "display_data"
    },
    {
     "data": {
      "text/plain": [
       "Generating train split: 0 examples [00:00, ? examples/s]"
      ],
      "application/vnd.jupyter.widget-view+json": {
       "version_major": 2,
       "version_minor": 0,
       "model_id": "694cd7b8854c437c96879baa03373a98"
      }
     },
     "metadata": {},
     "output_type": "display_data"
    },
    {
     "data": {
      "text/plain": [
       "Saving the dataset (0/1 shards):   0%|          | 0/4878 [00:00<?, ? examples/s]"
      ],
      "application/vnd.jupyter.widget-view+json": {
       "version_major": 2,
       "version_minor": 0,
       "model_id": "81b50fc6b81f4523be9773f48099ac89"
      }
     },
     "metadata": {},
     "output_type": "display_data"
    },
    {
     "data": {
      "text/plain": [
       "Generating train split: 0 examples [00:00, ? examples/s]"
      ],
      "application/vnd.jupyter.widget-view+json": {
       "version_major": 2,
       "version_minor": 0,
       "model_id": "8e668053aff745e3a5902588bd047337"
      }
     },
     "metadata": {},
     "output_type": "display_data"
    },
    {
     "data": {
      "text/plain": [
       "Saving the dataset (0/1 shards):   0%|          | 0/812992 [00:00<?, ? examples/s]"
      ],
      "application/vnd.jupyter.widget-view+json": {
       "version_major": 2,
       "version_minor": 0,
       "model_id": "3f2eecfdd59c439094767d153437a107"
      }
     },
     "metadata": {},
     "output_type": "display_data"
    },
    {
     "data": {
      "text/plain": [
       "Generating train split: 0 examples [00:00, ? examples/s]"
      ],
      "application/vnd.jupyter.widget-view+json": {
       "version_major": 2,
       "version_minor": 0,
       "model_id": "4c59a9f161954743b7a12f63c05d430e"
      }
     },
     "metadata": {},
     "output_type": "display_data"
    },
    {
     "data": {
      "text/plain": [
       "Saving the dataset (0/6 shards):   0%|          | 0/28624 [00:00<?, ? examples/s]"
      ],
      "application/vnd.jupyter.widget-view+json": {
       "version_major": 2,
       "version_minor": 0,
       "model_id": "48c158f8b66d4cc199a89b9a0d0d0880"
      }
     },
     "metadata": {},
     "output_type": "display_data"
    },
    {
     "data": {
      "text/plain": [
       "Generating train split: 0 examples [00:00, ? examples/s]"
      ],
      "application/vnd.jupyter.widget-view+json": {
       "version_major": 2,
       "version_minor": 0,
       "model_id": "174a3886ee1f4ed6bb9a3fd4b4fb94b0"
      }
     },
     "metadata": {},
     "output_type": "display_data"
    },
    {
     "data": {
      "text/plain": [
       "Loading dataset shards:   0%|          | 0/37 [00:00<?, ?it/s]"
      ],
      "application/vnd.jupyter.widget-view+json": {
       "version_major": 2,
       "version_minor": 0,
       "model_id": "9cf97d2fa7b94740993f3d508671a429"
      }
     },
     "metadata": {},
     "output_type": "display_data"
    },
    {
     "data": {
      "text/plain": [
       "Saving the dataset (0/37 shards):   0%|          | 0/2688970 [00:00<?, ? examples/s]"
      ],
      "application/vnd.jupyter.widget-view+json": {
       "version_major": 2,
       "version_minor": 0,
       "model_id": "e481a049c6a642a7af12c34d78ff484b"
      }
     },
     "metadata": {},
     "output_type": "display_data"
    },
    {
     "data": {
      "text/plain": [
       "Generating train split: 0 examples [00:00, ? examples/s]"
      ],
      "application/vnd.jupyter.widget-view+json": {
       "version_major": 2,
       "version_minor": 0,
       "model_id": "16cab813f8d442338a1a0bfd48995e19"
      }
     },
     "metadata": {},
     "output_type": "display_data"
    },
    {
     "data": {
      "text/plain": [
       "Saving the dataset (0/1 shards):   0%|          | 0/331951 [00:00<?, ? examples/s]"
      ],
      "application/vnd.jupyter.widget-view+json": {
       "version_major": 2,
       "version_minor": 0,
       "model_id": "611b96734e934b93bb58a40ce5db3ed1"
      }
     },
     "metadata": {},
     "output_type": "display_data"
    },
    {
     "data": {
      "text/plain": [
       "Generating train split: 0 examples [00:00, ? examples/s]"
      ],
      "application/vnd.jupyter.widget-view+json": {
       "version_major": 2,
       "version_minor": 0,
       "model_id": "10dd7d5f308541e689274ff932a9274c"
      }
     },
     "metadata": {},
     "output_type": "display_data"
    },
    {
     "data": {
      "text/plain": [
       "Saving the dataset (0/1 shards):   0%|          | 0/18270 [00:00<?, ? examples/s]"
      ],
      "application/vnd.jupyter.widget-view+json": {
       "version_major": 2,
       "version_minor": 0,
       "model_id": "7c2ea6a1d7054591ba0366ffced25b3b"
      }
     },
     "metadata": {},
     "output_type": "display_data"
    },
    {
     "data": {
      "text/plain": [
       "Generating train split: 0 examples [00:00, ? examples/s]"
      ],
      "application/vnd.jupyter.widget-view+json": {
       "version_major": 2,
       "version_minor": 0,
       "model_id": "5ddea751022847cfb81aefda85686b4d"
      }
     },
     "metadata": {},
     "output_type": "display_data"
    },
    {
     "data": {
      "text/plain": [
       "Saving the dataset (0/1 shards):   0%|          | 0/96049 [00:00<?, ? examples/s]"
      ],
      "application/vnd.jupyter.widget-view+json": {
       "version_major": 2,
       "version_minor": 0,
       "model_id": "f7b2736c5c6248c888a934843b0e24ed"
      }
     },
     "metadata": {},
     "output_type": "display_data"
    },
    {
     "data": {
      "text/plain": [
       "Generating train split: 0 examples [00:00, ? examples/s]"
      ],
      "application/vnd.jupyter.widget-view+json": {
       "version_major": 2,
       "version_minor": 0,
       "model_id": "fa5783b932ac4f22914d97a64281e9b3"
      }
     },
     "metadata": {},
     "output_type": "display_data"
    },
    {
     "data": {
      "text/plain": [
       "Saving the dataset (0/1 shards):   0%|          | 0/81127 [00:00<?, ? examples/s]"
      ],
      "application/vnd.jupyter.widget-view+json": {
       "version_major": 2,
       "version_minor": 0,
       "model_id": "726e4f85f2ed42e5af2c9bc8438d7b37"
      }
     },
     "metadata": {},
     "output_type": "display_data"
    },
    {
     "data": {
      "text/plain": [
       "Generating train split: 0 examples [00:00, ? examples/s]"
      ],
      "application/vnd.jupyter.widget-view+json": {
       "version_major": 2,
       "version_minor": 0,
       "model_id": "6a097727900d4184882af6c355b73fb0"
      }
     },
     "metadata": {},
     "output_type": "display_data"
    },
    {
     "data": {
      "text/plain": [
       "Saving the dataset (0/5 shards):   0%|          | 0/978342 [00:00<?, ? examples/s]"
      ],
      "application/vnd.jupyter.widget-view+json": {
       "version_major": 2,
       "version_minor": 0,
       "model_id": "508a819f67284ce796b6934215820cb2"
      }
     },
     "metadata": {},
     "output_type": "display_data"
    },
    {
     "data": {
      "text/plain": [
       "Generating train split: 0 examples [00:00, ? examples/s]"
      ],
      "application/vnd.jupyter.widget-view+json": {
       "version_major": 2,
       "version_minor": 0,
       "model_id": "e8f760a1ad30474e847a5f50dd349bbd"
      }
     },
     "metadata": {},
     "output_type": "display_data"
    },
    {
     "data": {
      "text/plain": [
       "Saving the dataset (0/3 shards):   0%|          | 0/580152 [00:00<?, ? examples/s]"
      ],
      "application/vnd.jupyter.widget-view+json": {
       "version_major": 2,
       "version_minor": 0,
       "model_id": "59f35362cb4945d7b28cdc6e57a0d1ab"
      }
     },
     "metadata": {},
     "output_type": "display_data"
    },
    {
     "data": {
      "text/plain": [
       "Generating train split: 0 examples [00:00, ? examples/s]"
      ],
      "application/vnd.jupyter.widget-view+json": {
       "version_major": 2,
       "version_minor": 0,
       "model_id": "0767113f9ba0409c891de8ed1600215e"
      }
     },
     "metadata": {},
     "output_type": "display_data"
    },
    {
     "data": {
      "text/plain": [
       "Saving the dataset (0/5 shards):   0%|          | 0/729280 [00:00<?, ? examples/s]"
      ],
      "application/vnd.jupyter.widget-view+json": {
       "version_major": 2,
       "version_minor": 0,
       "model_id": "9491d968a1804ee2a127687a29a6b77d"
      }
     },
     "metadata": {},
     "output_type": "display_data"
    },
    {
     "data": {
      "text/plain": [
       "Generating train split: 0 examples [00:00, ? examples/s]"
      ],
      "application/vnd.jupyter.widget-view+json": {
       "version_major": 2,
       "version_minor": 0,
       "model_id": "e6d66a2a2b9c4fe7a246ed300e47922d"
      }
     },
     "metadata": {},
     "output_type": "display_data"
    },
    {
     "data": {
      "text/plain": [
       "Saving the dataset (0/5 shards):   0%|          | 0/1023431 [00:00<?, ? examples/s]"
      ],
      "application/vnd.jupyter.widget-view+json": {
       "version_major": 2,
       "version_minor": 0,
       "model_id": "32f1841eeffb467f82cc4537017b07dc"
      }
     },
     "metadata": {},
     "output_type": "display_data"
    },
    {
     "data": {
      "text/plain": [
       "Generating train split: 0 examples [00:00, ? examples/s]"
      ],
      "application/vnd.jupyter.widget-view+json": {
       "version_major": 2,
       "version_minor": 0,
       "model_id": "1ae3651f83fe4b75a3854a6e7e9030b6"
      }
     },
     "metadata": {},
     "output_type": "display_data"
    },
    {
     "data": {
      "text/plain": [
       "Loading dataset shards:   0%|          | 0/21 [00:00<?, ?it/s]"
      ],
      "application/vnd.jupyter.widget-view+json": {
       "version_major": 2,
       "version_minor": 0,
       "model_id": "848987df2e434fe69b0c3e754b7e69a7"
      }
     },
     "metadata": {},
     "output_type": "display_data"
    },
    {
     "data": {
      "text/plain": [
       "Saving the dataset (0/22 shards):   0%|          | 0/3536491 [00:00<?, ? examples/s]"
      ],
      "application/vnd.jupyter.widget-view+json": {
       "version_major": 2,
       "version_minor": 0,
       "model_id": "47839b63217a451d991cee9c195efe9b"
      }
     },
     "metadata": {},
     "output_type": "display_data"
    },
    {
     "data": {
      "text/plain": [
       "Generating train split: 0 examples [00:00, ? examples/s]"
      ],
      "application/vnd.jupyter.widget-view+json": {
       "version_major": 2,
       "version_minor": 0,
       "model_id": "f417c4bdac2d441db5cf529b05c41747"
      }
     },
     "metadata": {},
     "output_type": "display_data"
    },
    {
     "data": {
      "text/plain": [
       "Saving the dataset (0/7 shards):   0%|          | 0/10045 [00:00<?, ? examples/s]"
      ],
      "application/vnd.jupyter.widget-view+json": {
       "version_major": 2,
       "version_minor": 0,
       "model_id": "e7de278873954de0961cec38c98cbd99"
      }
     },
     "metadata": {},
     "output_type": "display_data"
    },
    {
     "data": {
      "text/plain": [
       "Generating train split: 0 examples [00:00, ? examples/s]"
      ],
      "application/vnd.jupyter.widget-view+json": {
       "version_major": 2,
       "version_minor": 0,
       "model_id": "9864d7909de9436489f78857802b28d9"
      }
     },
     "metadata": {},
     "output_type": "display_data"
    },
    {
     "data": {
      "text/plain": [
       "Saving the dataset (0/1 shards):   0%|          | 0/101844 [00:00<?, ? examples/s]"
      ],
      "application/vnd.jupyter.widget-view+json": {
       "version_major": 2,
       "version_minor": 0,
       "model_id": "8a29996970e845f988a985f0d04839c0"
      }
     },
     "metadata": {},
     "output_type": "display_data"
    },
    {
     "data": {
      "text/plain": [
       "Generating train split: 0 examples [00:00, ? examples/s]"
      ],
      "application/vnd.jupyter.widget-view+json": {
       "version_major": 2,
       "version_minor": 0,
       "model_id": "8343da491c0c49d7b91381fd4dad98c4"
      }
     },
     "metadata": {},
     "output_type": "display_data"
    },
    {
     "data": {
      "text/plain": [
       "Saving the dataset (0/1 shards):   0%|          | 0/160002 [00:00<?, ? examples/s]"
      ],
      "application/vnd.jupyter.widget-view+json": {
       "version_major": 2,
       "version_minor": 0,
       "model_id": "9c91519d698d4fa5895fbe739329eb19"
      }
     },
     "metadata": {},
     "output_type": "display_data"
    },
    {
     "data": {
      "text/plain": [
       "Generating train split: 0 examples [00:00, ? examples/s]"
      ],
      "application/vnd.jupyter.widget-view+json": {
       "version_major": 2,
       "version_minor": 0,
       "model_id": "6a05dd313368448dadd0d70d04dcf16f"
      }
     },
     "metadata": {},
     "output_type": "display_data"
    },
    {
     "data": {
      "text/plain": [
       "Saving the dataset (0/2 shards):   0%|          | 0/325072 [00:00<?, ? examples/s]"
      ],
      "application/vnd.jupyter.widget-view+json": {
       "version_major": 2,
       "version_minor": 0,
       "model_id": "7180d46369594ed184ad3ab186a92785"
      }
     },
     "metadata": {},
     "output_type": "display_data"
    },
    {
     "data": {
      "text/plain": [
       "CORPUS_SPOKEN:   0%|          | 0/1 [00:00<?, ?it/s]"
      ],
      "application/vnd.jupyter.widget-view+json": {
       "version_major": 2,
       "version_minor": 0,
       "model_id": "c8399c68b0da4446b862d34212abf865"
      }
     },
     "metadata": {},
     "output_type": "display_data"
    },
    {
     "data": {
      "text/plain": [
       "Generating train split: 0 examples [00:00, ? examples/s]"
      ],
      "application/vnd.jupyter.widget-view+json": {
       "version_major": 2,
       "version_minor": 0,
       "model_id": "b92e75a570e14b6587a4dc419124b591"
      }
     },
     "metadata": {},
     "output_type": "display_data"
    },
    {
     "data": {
      "text/plain": [
       "Saving the dataset (0/1 shards):   0%|          | 0/497111 [00:00<?, ? examples/s]"
      ],
      "application/vnd.jupyter.widget-view+json": {
       "version_major": 2,
       "version_minor": 0,
       "model_id": "7dbb160bac5f4ed182c98b105dc21428"
      }
     },
     "metadata": {},
     "output_type": "display_data"
    },
    {
     "data": {
      "text/plain": [
       "DIALECT: 0it [00:00, ?it/s]"
      ],
      "application/vnd.jupyter.widget-view+json": {
       "version_major": 2,
       "version_minor": 0,
       "model_id": "b31e86f230db4fd09068c74db52050b8"
      }
     },
     "metadata": {},
     "output_type": "display_data"
    },
    {
     "data": {
      "text/plain": [
       "TASK_SUMMARIZATION:   0%|          | 0/7 [00:00<?, ?it/s]"
      ],
      "application/vnd.jupyter.widget-view+json": {
       "version_major": 2,
       "version_minor": 0,
       "model_id": "8f10700c148946218691023bf1a1eed7"
      }
     },
     "metadata": {},
     "output_type": "display_data"
    },
    {
     "data": {
      "text/plain": [
       "Generating train split: 0 examples [00:00, ? examples/s]"
      ],
      "application/vnd.jupyter.widget-view+json": {
       "version_major": 2,
       "version_minor": 0,
       "model_id": "4b6fec2e65e5424a981d95a057941ade"
      }
     },
     "metadata": {},
     "output_type": "display_data"
    },
    {
     "data": {
      "text/plain": [
       "Saving the dataset (0/15 shards):   0%|          | 0/678774 [00:00<?, ? examples/s]"
      ],
      "application/vnd.jupyter.widget-view+json": {
       "version_major": 2,
       "version_minor": 0,
       "model_id": "0bc13e1de7004b07a6bb315e087f2a14"
      }
     },
     "metadata": {},
     "output_type": "display_data"
    },
    {
     "data": {
      "text/plain": [
       "Generating train split: 0 examples [00:00, ? examples/s]"
      ],
      "application/vnd.jupyter.widget-view+json": {
       "version_major": 2,
       "version_minor": 0,
       "model_id": "40d2e709f88a43d3aec516d1f199b0a3"
      }
     },
     "metadata": {},
     "output_type": "display_data"
    },
    {
     "data": {
      "text/plain": [
       "Saving the dataset (0/1 shards):   0%|          | 0/146771 [00:00<?, ? examples/s]"
      ],
      "application/vnd.jupyter.widget-view+json": {
       "version_major": 2,
       "version_minor": 0,
       "model_id": "b3254fb5194c488383eae6fc25a7c9b2"
      }
     },
     "metadata": {},
     "output_type": "display_data"
    },
    {
     "data": {
      "text/plain": [
       "Generating train split: 0 examples [00:00, ? examples/s]"
      ],
      "application/vnd.jupyter.widget-view+json": {
       "version_major": 2,
       "version_minor": 0,
       "model_id": "653e9e53aef74d42bc0914728735a7a6"
      }
     },
     "metadata": {},
     "output_type": "display_data"
    },
    {
     "data": {
      "text/plain": [
       "Saving the dataset (0/1 shards):   0%|          | 0/84364 [00:00<?, ? examples/s]"
      ],
      "application/vnd.jupyter.widget-view+json": {
       "version_major": 2,
       "version_minor": 0,
       "model_id": "c949742a8f094c26bfb816e8188daa22"
      }
     },
     "metadata": {},
     "output_type": "display_data"
    },
    {
     "data": {
      "text/plain": [
       "Generating train split: 0 examples [00:00, ? examples/s]"
      ],
      "application/vnd.jupyter.widget-view+json": {
       "version_major": 2,
       "version_minor": 0,
       "model_id": "547baf63edbd4c33831cbc476db7955b"
      }
     },
     "metadata": {},
     "output_type": "display_data"
    },
    {
     "data": {
      "text/plain": [
       "Saving the dataset (0/1 shards):   0%|          | 0/96049 [00:00<?, ? examples/s]"
      ],
      "application/vnd.jupyter.widget-view+json": {
       "version_major": 2,
       "version_minor": 0,
       "model_id": "b108a2d31fff4da6ba1fc4c56214611b"
      }
     },
     "metadata": {},
     "output_type": "display_data"
    },
    {
     "data": {
      "text/plain": [
       "Generating train split: 0 examples [00:00, ? examples/s]"
      ],
      "application/vnd.jupyter.widget-view+json": {
       "version_major": 2,
       "version_minor": 0,
       "model_id": "2c839550df8d4135bce0b7a85524f3fe"
      }
     },
     "metadata": {},
     "output_type": "display_data"
    },
    {
     "data": {
      "text/plain": [
       "Saving the dataset (0/1 shards):   0%|          | 0/81127 [00:00<?, ? examples/s]"
      ],
      "application/vnd.jupyter.widget-view+json": {
       "version_major": 2,
       "version_minor": 0,
       "model_id": "b7c84dd380544991af2d5c119223a8b3"
      }
     },
     "metadata": {},
     "output_type": "display_data"
    },
    {
     "data": {
      "text/plain": [
       "Generating train split: 0 examples [00:00, ? examples/s]"
      ],
      "application/vnd.jupyter.widget-view+json": {
       "version_major": 2,
       "version_minor": 0,
       "model_id": "e997d9b0d8ee4d659f8eedc5272db58b"
      }
     },
     "metadata": {},
     "output_type": "display_data"
    },
    {
     "data": {
      "text/plain": [
       "Saving the dataset (0/1 shards):   0%|          | 0/160002 [00:00<?, ? examples/s]"
      ],
      "application/vnd.jupyter.widget-view+json": {
       "version_major": 2,
       "version_minor": 0,
       "model_id": "a09ddd50d17e483e83249388e020ea91"
      }
     },
     "metadata": {},
     "output_type": "display_data"
    },
    {
     "data": {
      "text/plain": [
       "Generating train split: 0 examples [00:00, ? examples/s]"
      ],
      "application/vnd.jupyter.widget-view+json": {
       "version_major": 2,
       "version_minor": 0,
       "model_id": "8e59710e20674a18935a45d53fd37d44"
      }
     },
     "metadata": {},
     "output_type": "display_data"
    },
    {
     "data": {
      "text/plain": [
       "Saving the dataset (0/2 shards):   0%|          | 0/325072 [00:00<?, ? examples/s]"
      ],
      "application/vnd.jupyter.widget-view+json": {
       "version_major": 2,
       "version_minor": 0,
       "model_id": "4cc89d1f0b3d4c1c8039b7d94b263396"
      }
     },
     "metadata": {},
     "output_type": "display_data"
    },
    {
     "data": {
      "text/plain": [
       "TASK_TRANSLATION:   0%|          | 0/13 [00:00<?, ?it/s]"
      ],
      "application/vnd.jupyter.widget-view+json": {
       "version_major": 2,
       "version_minor": 0,
       "model_id": "9f49a3257de94e8481d7ac351f974669"
      }
     },
     "metadata": {},
     "output_type": "display_data"
    },
    {
     "data": {
      "text/plain": [
       "Generating train split: 0 examples [00:00, ? examples/s]"
      ],
      "application/vnd.jupyter.widget-view+json": {
       "version_major": 2,
       "version_minor": 0,
       "model_id": "7ec31eb41fe14553973ee0f5de51f00e"
      }
     },
     "metadata": {},
     "output_type": "display_data"
    },
    {
     "data": {
      "text/plain": [
       "Saving the dataset (0/1 shards):   0%|          | 0/2267244 [00:00<?, ? examples/s]"
      ],
      "application/vnd.jupyter.widget-view+json": {
       "version_major": 2,
       "version_minor": 0,
       "model_id": "da244404b1b44914bc929056db528af8"
      }
     },
     "metadata": {},
     "output_type": "display_data"
    },
    {
     "data": {
      "text/plain": [
       "Generating train split: 0 examples [00:00, ? examples/s]"
      ],
      "application/vnd.jupyter.widget-view+json": {
       "version_major": 2,
       "version_minor": 0,
       "model_id": "364ad4a0deea4915a3d54ad193a06e2c"
      }
     },
     "metadata": {},
     "output_type": "display_data"
    },
    {
     "data": {
      "text/plain": [
       "Saving the dataset (0/2 shards):   0%|          | 0/1200140 [00:00<?, ? examples/s]"
      ],
      "application/vnd.jupyter.widget-view+json": {
       "version_major": 2,
       "version_minor": 0,
       "model_id": "39924333c40f4fa2b75faed96903746c"
      }
     },
     "metadata": {},
     "output_type": "display_data"
    },
    {
     "data": {
      "text/plain": [
       "Generating train split: 0 examples [00:00, ? examples/s]"
      ],
      "application/vnd.jupyter.widget-view+json": {
       "version_major": 2,
       "version_minor": 0,
       "model_id": "d5cdd464949f422aa2cc40b67d303119"
      }
     },
     "metadata": {},
     "output_type": "display_data"
    },
    {
     "data": {
      "text/plain": [
       "Saving the dataset (0/1 shards):   0%|          | 0/2305332 [00:00<?, ? examples/s]"
      ],
      "application/vnd.jupyter.widget-view+json": {
       "version_major": 2,
       "version_minor": 0,
       "model_id": "3d05858aba9c47748b01728b8f5e3d8e"
      }
     },
     "metadata": {},
     "output_type": "display_data"
    },
    {
     "data": {
      "text/plain": [
       "Generating train split: 0 examples [00:00, ? examples/s]"
      ],
      "application/vnd.jupyter.widget-view+json": {
       "version_major": 2,
       "version_minor": 0,
       "model_id": "8f74b417a19e41b78a85fd5aa0bb1bb9"
      }
     },
     "metadata": {},
     "output_type": "display_data"
    },
    {
     "data": {
      "text/plain": [
       "Saving the dataset (0/2 shards):   0%|          | 0/2387510 [00:00<?, ? examples/s]"
      ],
      "application/vnd.jupyter.widget-view+json": {
       "version_major": 2,
       "version_minor": 0,
       "model_id": "7c9f0b169fc54965b7f45eb741c16da7"
      }
     },
     "metadata": {},
     "output_type": "display_data"
    },
    {
     "data": {
      "text/plain": [
       "Generating train split: 0 examples [00:00, ? examples/s]"
      ],
      "application/vnd.jupyter.widget-view+json": {
       "version_major": 2,
       "version_minor": 0,
       "model_id": "6b6de51e9e70473c8b45bb4e86cc0286"
      }
     },
     "metadata": {},
     "output_type": "display_data"
    },
    {
     "data": {
      "text/plain": [
       "Saving the dataset (0/1 shards):   0%|          | 0/1559656 [00:00<?, ? examples/s]"
      ],
      "application/vnd.jupyter.widget-view+json": {
       "version_major": 2,
       "version_minor": 0,
       "model_id": "426a3f3f3d0243a8b75fa9636d32e1f5"
      }
     },
     "metadata": {},
     "output_type": "display_data"
    },
    {
     "data": {
      "text/plain": [
       "Generating train split: 0 examples [00:00, ? examples/s]"
      ],
      "application/vnd.jupyter.widget-view+json": {
       "version_major": 2,
       "version_minor": 0,
       "model_id": "a12ae335a09743daac57526ef272768e"
      }
     },
     "metadata": {},
     "output_type": "display_data"
    },
    {
     "data": {
      "text/plain": [
       "Saving the dataset (0/1 shards):   0%|          | 0/1560587 [00:00<?, ? examples/s]"
      ],
      "application/vnd.jupyter.widget-view+json": {
       "version_major": 2,
       "version_minor": 0,
       "model_id": "712ecdbcd2e84d6b802d35b05379d365"
      }
     },
     "metadata": {},
     "output_type": "display_data"
    },
    {
     "data": {
      "text/plain": [
       "Generating train split: 0 examples [00:00, ? examples/s]"
      ],
      "application/vnd.jupyter.widget-view+json": {
       "version_major": 2,
       "version_minor": 0,
       "model_id": "e5adb4fae3d24ab1a22ead5c8f3bbc8f"
      }
     },
     "metadata": {},
     "output_type": "display_data"
    },
    {
     "data": {
      "text/plain": [
       "Saving the dataset (0/2 shards):   0%|          | 0/2322093 [00:00<?, ? examples/s]"
      ],
      "application/vnd.jupyter.widget-view+json": {
       "version_major": 2,
       "version_minor": 0,
       "model_id": "416ac26ccb1d403ea6988a1dec9be82f"
      }
     },
     "metadata": {},
     "output_type": "display_data"
    },
    {
     "data": {
      "text/plain": [
       "Generating train split: 0 examples [00:00, ? examples/s]"
      ],
      "application/vnd.jupyter.widget-view+json": {
       "version_major": 2,
       "version_minor": 0,
       "model_id": "6466c89aacf44907a71235b7310f1d1e"
      }
     },
     "metadata": {},
     "output_type": "display_data"
    },
    {
     "data": {
      "text/plain": [
       "Saving the dataset (0/1 shards):   0%|          | 0/240414 [00:00<?, ? examples/s]"
      ],
      "application/vnd.jupyter.widget-view+json": {
       "version_major": 2,
       "version_minor": 0,
       "model_id": "076e5ed0c7704da19e69165ea0ca6998"
      }
     },
     "metadata": {},
     "output_type": "display_data"
    },
    {
     "data": {
      "text/plain": [
       "Generating train split: 0 examples [00:00, ? examples/s]"
      ],
      "application/vnd.jupyter.widget-view+json": {
       "version_major": 2,
       "version_minor": 0,
       "model_id": "2592821045de46249cf9f82824c2e2c5"
      }
     },
     "metadata": {},
     "output_type": "display_data"
    },
    {
     "data": {
      "text/plain": [
       "Saving the dataset (0/1 shards):   0%|          | 0/240242 [00:00<?, ? examples/s]"
      ],
      "application/vnd.jupyter.widget-view+json": {
       "version_major": 2,
       "version_minor": 0,
       "model_id": "9ffead3fd84546f88649ecb30395c90a"
      }
     },
     "metadata": {},
     "output_type": "display_data"
    },
    {
     "data": {
      "text/plain": [
       "Generating train split: 0 examples [00:00, ? examples/s]"
      ],
      "application/vnd.jupyter.widget-view+json": {
       "version_major": 2,
       "version_minor": 0,
       "model_id": "965e0dba44b8484b9fca55055b6bf9e3"
      }
     },
     "metadata": {},
     "output_type": "display_data"
    },
    {
     "data": {
      "text/plain": [
       "Saving the dataset (0/1 shards):   0%|          | 0/241061 [00:00<?, ? examples/s]"
      ],
      "application/vnd.jupyter.widget-view+json": {
       "version_major": 2,
       "version_minor": 0,
       "model_id": "a07b8d0a983545cd958aa05e61eaa944"
      }
     },
     "metadata": {},
     "output_type": "display_data"
    },
    {
     "data": {
      "text/plain": [
       "Generating train split: 0 examples [00:00, ? examples/s]"
      ],
      "application/vnd.jupyter.widget-view+json": {
       "version_major": 2,
       "version_minor": 0,
       "model_id": "b4564f23a8054080b2b1e05418b4e255"
      }
     },
     "metadata": {},
     "output_type": "display_data"
    },
    {
     "data": {
      "text/plain": [
       "Saving the dataset (0/3 shards):   0%|          | 0/319997 [00:00<?, ? examples/s]"
      ],
      "application/vnd.jupyter.widget-view+json": {
       "version_major": 2,
       "version_minor": 0,
       "model_id": "0301af49bf4e419a98b383fd0e2c3b03"
      }
     },
     "metadata": {},
     "output_type": "display_data"
    },
    {
     "data": {
      "text/plain": [
       "Generating train split: 0 examples [00:00, ? examples/s]"
      ],
      "application/vnd.jupyter.widget-view+json": {
       "version_major": 2,
       "version_minor": 0,
       "model_id": "e581d01168e6469ab2246e02e86b3a8c"
      }
     },
     "metadata": {},
     "output_type": "display_data"
    },
    {
     "data": {
      "text/plain": [
       "Saving the dataset (0/2 shards):   0%|          | 0/2399935 [00:00<?, ? examples/s]"
      ],
      "application/vnd.jupyter.widget-view+json": {
       "version_major": 2,
       "version_minor": 0,
       "model_id": "be0681f9ebeb4e7a911f668f47d74f48"
      }
     },
     "metadata": {},
     "output_type": "display_data"
    },
    {
     "data": {
      "text/plain": [
       "Generating train split: 0 examples [00:00, ? examples/s]"
      ],
      "application/vnd.jupyter.widget-view+json": {
       "version_major": 2,
       "version_minor": 0,
       "model_id": "b5f5552fa65e44068508560d7020a961"
      }
     },
     "metadata": {},
     "output_type": "display_data"
    },
    {
     "data": {
      "text/plain": [
       "Saving the dataset (0/1 shards):   0%|          | 0/1273039 [00:00<?, ? examples/s]"
      ],
      "application/vnd.jupyter.widget-view+json": {
       "version_major": 2,
       "version_minor": 0,
       "model_id": "b0be9b6743ec41c98b662fbacdf0e5ef"
      }
     },
     "metadata": {},
     "output_type": "display_data"
    },
    {
     "data": {
      "text/plain": [
       "Loading datasets:   0%|          | 0/6 [00:00<?, ?it/s]"
      ],
      "application/vnd.jupyter.widget-view+json": {
       "version_major": 2,
       "version_minor": 0,
       "model_id": "5399d2b8becd44d380908f244e6b18a7"
      }
     },
     "metadata": {},
     "output_type": "display_data"
    },
    {
     "data": {
      "text/plain": [
       "CHAT:   0%|          | 0/9 [00:00<?, ?it/s]"
      ],
      "application/vnd.jupyter.widget-view+json": {
       "version_major": 2,
       "version_minor": 0,
       "model_id": "f43e580f311d490a9cdf904adbc36c05"
      }
     },
     "metadata": {},
     "output_type": "display_data"
    },
    {
     "data": {
      "text/plain": [
       "CORPUS:   0%|          | 0/25 [00:00<?, ?it/s]"
      ],
      "application/vnd.jupyter.widget-view+json": {
       "version_major": 2,
       "version_minor": 0,
       "model_id": "fb5b9a00335b4b6eb13767bb0feca2b1"
      }
     },
     "metadata": {},
     "output_type": "display_data"
    },
    {
     "data": {
      "text/plain": [
       "Loading dataset from disk:   0%|          | 0/18 [00:00<?, ?it/s]"
      ],
      "application/vnd.jupyter.widget-view+json": {
       "version_major": 2,
       "version_minor": 0,
       "model_id": "a226cc65e8ad411ab6e18563ccde2250"
      }
     },
     "metadata": {},
     "output_type": "display_data"
    },
    {
     "data": {
      "text/plain": [
       "Loading dataset from disk:   0%|          | 0/37 [00:00<?, ?it/s]"
      ],
      "application/vnd.jupyter.widget-view+json": {
       "version_major": 2,
       "version_minor": 0,
       "model_id": "ee6d22e28f244411b1f082d3fe7e4db3"
      }
     },
     "metadata": {},
     "output_type": "display_data"
    },
    {
     "data": {
      "text/plain": [
       "Loading dataset from disk:   0%|          | 0/22 [00:00<?, ?it/s]"
      ],
      "application/vnd.jupyter.widget-view+json": {
       "version_major": 2,
       "version_minor": 0,
       "model_id": "7bb87c62de404c63a6537186cb4180c6"
      }
     },
     "metadata": {},
     "output_type": "display_data"
    },
    {
     "data": {
      "text/plain": [
       "CORPUS_SPOKEN:   0%|          | 0/1 [00:00<?, ?it/s]"
      ],
      "application/vnd.jupyter.widget-view+json": {
       "version_major": 2,
       "version_minor": 0,
       "model_id": "fac9e6b0b67249e09a7fdff5c980049e"
      }
     },
     "metadata": {},
     "output_type": "display_data"
    },
    {
     "data": {
      "text/plain": [
       "DIALECT: 0it [00:00, ?it/s]"
      ],
      "application/vnd.jupyter.widget-view+json": {
       "version_major": 2,
       "version_minor": 0,
       "model_id": "c7c9092dc1ee4fe6808d5244d6b7ff40"
      }
     },
     "metadata": {},
     "output_type": "display_data"
    },
    {
     "data": {
      "text/plain": [
       "TASK_SUMMARIZATION:   0%|          | 0/7 [00:00<?, ?it/s]"
      ],
      "application/vnd.jupyter.widget-view+json": {
       "version_major": 2,
       "version_minor": 0,
       "model_id": "1183503ebbe64923baeab8f8b0d7e966"
      }
     },
     "metadata": {},
     "output_type": "display_data"
    },
    {
     "data": {
      "text/plain": [
       "TASK_TRANSLATION:   0%|          | 0/13 [00:00<?, ?it/s]"
      ],
      "application/vnd.jupyter.widget-view+json": {
       "version_major": 2,
       "version_minor": 0,
       "model_id": "4d407842f71148e0a9775306cbf8a4e7"
      }
     },
     "metadata": {},
     "output_type": "display_data"
    }
   ],
   "execution_count": 13
  },
  {
   "metadata": {
    "ExecuteTime": {
     "end_time": "2024-11-24T08:28:58.334552Z",
     "start_time": "2024-11-24T08:28:58.330394Z"
    }
   },
   "cell_type": "code",
   "source": "datasets_loaded",
   "id": "7ad4120fc7e8d1d",
   "outputs": [
    {
     "data": {
      "text/plain": [
       "{'CHAT': [Dataset({\n",
       "      features: ['messages'],\n",
       "      num_rows: 120097\n",
       "  }),\n",
       "  Dataset({\n",
       "      features: ['messages'],\n",
       "      num_rows: 120761\n",
       "  }),\n",
       "  Dataset({\n",
       "      features: ['messages'],\n",
       "      num_rows: 25572\n",
       "  }),\n",
       "  Dataset({\n",
       "      features: ['messages'],\n",
       "      num_rows: 14622\n",
       "  }),\n",
       "  Dataset({\n",
       "      features: ['messages'],\n",
       "      num_rows: 10786\n",
       "  }),\n",
       "  Dataset({\n",
       "      features: ['messages'],\n",
       "      num_rows: 184000\n",
       "  }),\n",
       "  Dataset({\n",
       "      features: ['messages'],\n",
       "      num_rows: 2232\n",
       "  }),\n",
       "  Dataset({\n",
       "      features: ['messages'],\n",
       "      num_rows: 3723\n",
       "  }),\n",
       "  Dataset({\n",
       "      features: ['messages'],\n",
       "      num_rows: 2129\n",
       "  })],\n",
       " 'CORPUS': [Dataset({\n",
       "      features: ['text'],\n",
       "      num_rows: 197698\n",
       "  }),\n",
       "  Dataset({\n",
       "      features: ['text'],\n",
       "      num_rows: 159968\n",
       "  }),\n",
       "  Dataset({\n",
       "      features: ['text'],\n",
       "      num_rows: 678758\n",
       "  }),\n",
       "  Dataset({\n",
       "      features: ['text'],\n",
       "      num_rows: 16000\n",
       "  }),\n",
       "  Dataset({\n",
       "      features: ['text'],\n",
       "      num_rows: 5368\n",
       "  }),\n",
       "  Dataset({\n",
       "      features: ['text'],\n",
       "      num_rows: 146771\n",
       "  }),\n",
       "  Dataset({\n",
       "      features: ['text'],\n",
       "      num_rows: 84364\n",
       "  }),\n",
       "  Dataset({\n",
       "      features: ['text'],\n",
       "      num_rows: 29363383\n",
       "  }),\n",
       "  Dataset({\n",
       "      features: ['text'],\n",
       "      num_rows: 4878\n",
       "  }),\n",
       "  Dataset({\n",
       "      features: ['text'],\n",
       "      num_rows: 812992\n",
       "  }),\n",
       "  Dataset({\n",
       "      features: ['text'],\n",
       "      num_rows: 28624\n",
       "  }),\n",
       "  Dataset({\n",
       "      features: ['text'],\n",
       "      num_rows: 2688970\n",
       "  }),\n",
       "  Dataset({\n",
       "      features: ['text'],\n",
       "      num_rows: 331951\n",
       "  }),\n",
       "  Dataset({\n",
       "      features: ['text'],\n",
       "      num_rows: 18270\n",
       "  }),\n",
       "  Dataset({\n",
       "      features: ['text'],\n",
       "      num_rows: 96049\n",
       "  }),\n",
       "  Dataset({\n",
       "      features: ['text'],\n",
       "      num_rows: 81127\n",
       "  }),\n",
       "  Dataset({\n",
       "      features: ['text'],\n",
       "      num_rows: 978342\n",
       "  }),\n",
       "  Dataset({\n",
       "      features: ['text'],\n",
       "      num_rows: 580152\n",
       "  }),\n",
       "  Dataset({\n",
       "      features: ['text'],\n",
       "      num_rows: 729280\n",
       "  }),\n",
       "  Dataset({\n",
       "      features: ['text'],\n",
       "      num_rows: 1023431\n",
       "  }),\n",
       "  Dataset({\n",
       "      features: ['text'],\n",
       "      num_rows: 3536491\n",
       "  }),\n",
       "  Dataset({\n",
       "      features: ['text'],\n",
       "      num_rows: 10045\n",
       "  }),\n",
       "  Dataset({\n",
       "      features: ['text'],\n",
       "      num_rows: 101844\n",
       "  }),\n",
       "  Dataset({\n",
       "      features: ['text'],\n",
       "      num_rows: 160002\n",
       "  }),\n",
       "  Dataset({\n",
       "      features: ['text'],\n",
       "      num_rows: 325072\n",
       "  })],\n",
       " 'CORPUS_SPOKEN': [Dataset({\n",
       "      features: ['text'],\n",
       "      num_rows: 497111\n",
       "  })],\n",
       " 'DIALECT': [],\n",
       " 'TASK_SUMMARIZATION': [Dataset({\n",
       "      features: ['messages'],\n",
       "      num_rows: 678774\n",
       "  }),\n",
       "  Dataset({\n",
       "      features: ['messages'],\n",
       "      num_rows: 146771\n",
       "  }),\n",
       "  Dataset({\n",
       "      features: ['messages'],\n",
       "      num_rows: 84364\n",
       "  }),\n",
       "  Dataset({\n",
       "      features: ['messages'],\n",
       "      num_rows: 96049\n",
       "  }),\n",
       "  Dataset({\n",
       "      features: ['messages'],\n",
       "      num_rows: 81127\n",
       "  }),\n",
       "  Dataset({\n",
       "      features: ['messages'],\n",
       "      num_rows: 160002\n",
       "  }),\n",
       "  Dataset({\n",
       "      features: ['messages'],\n",
       "      num_rows: 325072\n",
       "  })],\n",
       " 'TASK_TRANSLATION': [Dataset({\n",
       "      features: ['messages'],\n",
       "      num_rows: 2267244\n",
       "  }),\n",
       "  Dataset({\n",
       "      features: ['messages'],\n",
       "      num_rows: 1200140\n",
       "  }),\n",
       "  Dataset({\n",
       "      features: ['messages'],\n",
       "      num_rows: 2305332\n",
       "  }),\n",
       "  Dataset({\n",
       "      features: ['messages'],\n",
       "      num_rows: 2387510\n",
       "  }),\n",
       "  Dataset({\n",
       "      features: ['messages'],\n",
       "      num_rows: 1559656\n",
       "  }),\n",
       "  Dataset({\n",
       "      features: ['messages'],\n",
       "      num_rows: 1560587\n",
       "  }),\n",
       "  Dataset({\n",
       "      features: ['messages'],\n",
       "      num_rows: 2322093\n",
       "  }),\n",
       "  Dataset({\n",
       "      features: ['messages'],\n",
       "      num_rows: 240414\n",
       "  }),\n",
       "  Dataset({\n",
       "      features: ['messages'],\n",
       "      num_rows: 240242\n",
       "  }),\n",
       "  Dataset({\n",
       "      features: ['messages'],\n",
       "      num_rows: 241061\n",
       "  }),\n",
       "  Dataset({\n",
       "      features: ['messages'],\n",
       "      num_rows: 319997\n",
       "  }),\n",
       "  Dataset({\n",
       "      features: ['messages'],\n",
       "      num_rows: 2399935\n",
       "  }),\n",
       "  Dataset({\n",
       "      features: ['messages'],\n",
       "      num_rows: 1273039\n",
       "  })]}"
      ]
     },
     "execution_count": 14,
     "metadata": {},
     "output_type": "execute_result"
    }
   ],
   "execution_count": 14
  },
  {
   "metadata": {
    "ExecuteTime": {
     "end_time": "2024-11-23T15:54:53.892915Z",
     "start_time": "2024-11-23T15:54:53.882906Z"
    }
   },
   "cell_type": "code",
   "source": [
    "import huggingface_hub\n",
    "\n",
    "huggingface_hub.notebook_login()"
   ],
   "id": "b277b7a9d82d96f6",
   "outputs": [
    {
     "data": {
      "text/plain": [
       "VBox(children=(HTML(value='<center> <img\\nsrc=https://huggingface.co/front/assets/huggingface_logo-noborder.sv…"
      ],
      "application/vnd.jupyter.widget-view+json": {
       "version_major": 2,
       "version_minor": 0,
       "model_id": "16e81dc2698048b2be8ac96759101a6a"
      }
     },
     "metadata": {},
     "output_type": "display_data"
    }
   ],
   "execution_count": 8
  },
  {
   "metadata": {
    "ExecuteTime": {
     "end_time": "2024-11-24T08:33:25.223341Z",
     "start_time": "2024-11-24T08:29:12.000348Z"
    }
   },
   "cell_type": "code",
   "source": [
    "# publish the datasets\n",
    "\n",
    "for name, dataset in datasets_loaded.items():\n",
    "    if len(dataset) == 0:\n",
    "        print(f\"Skipping {name}\")\n",
    "        continue\n",
    "    concatenate_datasets(dataset).save_to_disk(f\"E:/2024/datasets/{name}\")"
   ],
   "id": "cdef7f7e16da98e0",
   "outputs": [
    {
     "data": {
      "text/plain": [
       "Saving the dataset (0/3 shards):   0%|          | 0/483922 [00:00<?, ? examples/s]"
      ],
      "application/vnd.jupyter.widget-view+json": {
       "version_major": 2,
       "version_minor": 0,
       "model_id": "4ba5cdfe2d944b868c5f1adac2fa6fe8"
      }
     },
     "metadata": {},
     "output_type": "display_data"
    },
    {
     "data": {
      "text/plain": [
       "Saving the dataset (0/125 shards):   0%|          | 0/42159830 [00:00<?, ? examples/s]"
      ],
      "application/vnd.jupyter.widget-view+json": {
       "version_major": 2,
       "version_minor": 0,
       "model_id": "7efb5346dd7342379939ab1c9d696308"
      }
     },
     "metadata": {},
     "output_type": "display_data"
    },
    {
     "data": {
      "text/plain": [
       "Saving the dataset (0/1 shards):   0%|          | 0/497111 [00:00<?, ? examples/s]"
      ],
      "application/vnd.jupyter.widget-view+json": {
       "version_major": 2,
       "version_minor": 0,
       "model_id": "883d558688be48c2b9bc97052d6bb781"
      }
     },
     "metadata": {},
     "output_type": "display_data"
    },
    {
     "name": "stdout",
     "output_type": "stream",
     "text": [
      "Skipping DIALECT\n"
     ]
    },
    {
     "data": {
      "text/plain": [
       "Saving the dataset (0/20 shards):   0%|          | 0/1572159 [00:00<?, ? examples/s]"
      ],
      "application/vnd.jupyter.widget-view+json": {
       "version_major": 2,
       "version_minor": 0,
       "model_id": "40bfa2c790464525a20143bd16c28bac"
      }
     },
     "metadata": {},
     "output_type": "display_data"
    },
    {
     "data": {
      "text/plain": [
       "Saving the dataset (0/12 shards):   0%|          | 0/18317250 [00:00<?, ? examples/s]"
      ],
      "application/vnd.jupyter.widget-view+json": {
       "version_major": 2,
       "version_minor": 0,
       "model_id": "b018e0cb6b954416b09291a01fda0673"
      }
     },
     "metadata": {},
     "output_type": "display_data"
    }
   ],
   "execution_count": 15
  },
  {
   "metadata": {
    "ExecuteTime": {
     "end_time": "2024-06-16T07:38:51.667373Z",
     "start_time": "2024-06-16T07:38:39.363135Z"
    }
   },
   "cell_type": "code",
   "source": [
    "# publish a subset of the datasets, with 10k samples\n",
    "\n",
    "subset = concatenate_datasets(datasets_loaded[\"CORPUS\"]).shuffle(seed=42).select(range(10000))\n",
    "\n",
    "subset.push_to_hub(f'devngho/korean-corpus', 'corpus-10k', private=True)"
   ],
   "id": "776e886c3a50a107",
   "outputs": [
    {
     "data": {
      "text/plain": [
       "Uploading the dataset shards:   0%|          | 0/1 [00:00<?, ?it/s]"
      ],
      "application/vnd.jupyter.widget-view+json": {
       "version_major": 2,
       "version_minor": 0,
       "model_id": "5aa11be52bfa4e61931490904c0235f1"
      }
     },
     "metadata": {},
     "output_type": "display_data"
    },
    {
     "data": {
      "text/plain": [
       "Creating parquet from Arrow format:   0%|          | 0/10 [00:00<?, ?ba/s]"
      ],
      "application/vnd.jupyter.widget-view+json": {
       "version_major": 2,
       "version_minor": 0,
       "model_id": "2872ec3425e44005baa01026934fa630"
      }
     },
     "metadata": {},
     "output_type": "display_data"
    },
    {
     "data": {
      "text/plain": [
       "CommitInfo(commit_url='https://huggingface.co/datasets/devngho/korean-corpus/commit/975c677a49e628c5fb7e7aa43091e4e38b7a5d1a', commit_message='Upload dataset', commit_description='', oid='975c677a49e628c5fb7e7aa43091e4e38b7a5d1a', pr_url=None, pr_revision=None, pr_num=None)"
      ]
     },
     "execution_count": 8,
     "metadata": {},
     "output_type": "execute_result"
    }
   ],
   "execution_count": 8
  },
  {
   "metadata": {
    "ExecuteTime": {
     "end_time": "2024-06-16T07:38:54.141505Z",
     "start_time": "2024-06-16T07:38:51.668380Z"
    }
   },
   "cell_type": "code",
   "source": [
    "subset = concatenate_datasets(datasets_loaded[\"DIALECT\"]).shuffle(seed=42).select(range(10000))\n",
    "\n",
    "subset.push_to_hub(f'devngho/korean-corpus', 'dialect-10k', private=True)"
   ],
   "id": "946ef10b4d24dde2",
   "outputs": [
    {
     "data": {
      "text/plain": [
       "Uploading the dataset shards:   0%|          | 0/1 [00:00<?, ?it/s]"
      ],
      "application/vnd.jupyter.widget-view+json": {
       "version_major": 2,
       "version_minor": 0,
       "model_id": "b961299d1c8b4f1b9aacd0c6e8f1e959"
      }
     },
     "metadata": {},
     "output_type": "display_data"
    },
    {
     "data": {
      "text/plain": [
       "Creating parquet from Arrow format:   0%|          | 0/10 [00:00<?, ?ba/s]"
      ],
      "application/vnd.jupyter.widget-view+json": {
       "version_major": 2,
       "version_minor": 0,
       "model_id": "dee7830aaec54a999705a0e433ab9101"
      }
     },
     "metadata": {},
     "output_type": "display_data"
    },
    {
     "data": {
      "text/plain": [
       "README.md:   0%|          | 0.00/2.11k [00:00<?, ?B/s]"
      ],
      "application/vnd.jupyter.widget-view+json": {
       "version_major": 2,
       "version_minor": 0,
       "model_id": "dc44bb84c31947529909b5c4d62c8c52"
      }
     },
     "metadata": {},
     "output_type": "display_data"
    },
    {
     "data": {
      "text/plain": [
       "CommitInfo(commit_url='https://huggingface.co/datasets/devngho/korean-corpus/commit/28acb223364acd661308ef88e97aff5e70dbe455', commit_message='Upload dataset', commit_description='', oid='28acb223364acd661308ef88e97aff5e70dbe455', pr_url=None, pr_revision=None, pr_num=None)"
      ]
     },
     "execution_count": 9,
     "metadata": {},
     "output_type": "execute_result"
    }
   ],
   "execution_count": 9
  },
  {
   "metadata": {},
   "cell_type": "code",
   "outputs": [],
   "execution_count": null,
   "source": "",
   "id": "e9278dadda97ec17"
  }
 ],
 "metadata": {
  "kernelspec": {
   "display_name": "Python 3",
   "language": "python",
   "name": "python3"
  },
  "language_info": {
   "codemirror_mode": {
    "name": "ipython",
    "version": 2
   },
   "file_extension": ".py",
   "mimetype": "text/x-python",
   "name": "python",
   "nbconvert_exporter": "python",
   "pygments_lexer": "ipython2",
   "version": "2.7.6"
  }
 },
 "nbformat": 4,
 "nbformat_minor": 5
}

{
 "cells": [
  {
   "metadata": {
    "ExecuteTime": {
     "end_time": "2024-11-24T08:35:52.266547Z",
     "start_time": "2024-11-24T08:35:52.261490Z"
    }
   },
   "cell_type": "code",
   "source": "%env HF_DATASETS_CACHE=E:\\2024/hf_cache",
   "id": "a71f05505cc1731e",
   "outputs": [
    {
     "name": "stdout",
     "output_type": "stream",
     "text": [
      "env: HF_DATASETS_CACHE=E:\\2024/hf_cache\n"
     ]
    }
   ],
   "execution_count": 1
  },
  {
   "cell_type": "code",
   "id": "initial_id",
   "metadata": {
    "collapsed": true,
    "ExecuteTime": {
     "end_time": "2024-11-24T08:45:58.549898Z",
     "start_time": "2024-11-24T08:45:43.139535Z"
    }
   },
   "source": [
    "from datasets import load_from_disk\n",
    "\n",
    "tasks = ['corpus', 'corpus_spoken']\n",
    "\n",
    "corpus = {k: load_from_disk(f\"E:\\\\2024/datasets/{k.upper()}\") for k in tasks}"
   ],
   "outputs": [
    {
     "data": {
      "text/plain": [
       "Loading dataset from disk:   0%|          | 0/125 [00:00<?, ?it/s]"
      ],
      "application/vnd.jupyter.widget-view+json": {
       "version_major": 2,
       "version_minor": 0,
       "model_id": "5bc3c283f5074c0db949910fa2ed2e01"
      }
     },
     "metadata": {},
     "output_type": "display_data"
    }
   ],
   "execution_count": 5
  },
  {
   "metadata": {
    "ExecuteTime": {
     "end_time": "2024-11-24T08:46:07.660393Z",
     "start_time": "2024-11-24T08:45:58.557413Z"
    }
   },
   "cell_type": "code",
   "source": [
    "# 1. exact deduplication\n",
    "def dedup_exact(dataset, column):\n",
    "    mem = set()\n",
    "    \n",
    "    def is_dup(x):\n",
    "        text_hash = hash(x)\n",
    "        if text_hash in mem:\n",
    "            return True\n",
    "        mem.add(text_hash)\n",
    "        return False\n",
    "    \n",
    "    return dataset.filter(lambda x: not is_dup(x[column]))\n",
    "\n",
    "corpus_dedup = {}\n",
    "\n",
    "for task in tasks:\n",
    "    corpus_dedup[task] = dedup_exact(corpus[task], 'text')"
   ],
   "id": "ae9ed87945848f41",
   "outputs": [],
   "execution_count": 6
  },
  {
   "metadata": {
    "ExecuteTime": {
     "end_time": "2024-11-24T08:46:24.516259Z",
     "start_time": "2024-11-24T08:46:24.513132Z"
    }
   },
   "cell_type": "code",
   "source": [
    "for task in tasks:\n",
    "    print(f\"Before deduplication: {task} - {len(corpus[task])}\")\n",
    "    print(f\"After deduplication: {task} - {len(corpus_dedup[task])} ({len(corpus[task]) - len(corpus_dedup[task])} duplicates removed)\")"
   ],
   "id": "c6628f09ac2abeff",
   "outputs": [
    {
     "name": "stdout",
     "output_type": "stream",
     "text": [
      "Before deduplication: corpus - 42159830\n",
      "After deduplication: corpus - 35528369 (6631461 duplicates removed)\n",
      "Before deduplication: corpus_spoken - 497111\n",
      "After deduplication: corpus_spoken - 458878 (38233 duplicates removed)\n"
     ]
    }
   ],
   "execution_count": 7
  },
  {
   "metadata": {
    "ExecuteTime": {
     "end_time": "2024-11-24T09:45:54.798519Z",
     "start_time": "2024-11-24T09:43:06.703506Z"
    }
   },
   "cell_type": "code",
   "source": [
    "def length_filter(dataset, column, min_length=100, min_sentences=5):\n",
    "    def check_length(x):\n",
    "        sentences = len(x[column].split('.'))\n",
    "        return sentences >= min_sentences and len(x[column]) >= min_length\n",
    "    \n",
    "    return dataset.filter(check_length, num_proc=32)\n",
    "\n",
    "corpus_dedup_length = {}\n",
    "\n",
    "for task in tasks:\n",
    "    if task == 'corpus':\n",
    "        corpus_dedup_length[task] = length_filter(corpus_dedup[task], 'text', 100, 5)\n",
    "    else:\n",
    "        corpus_dedup_length[task] = corpus_dedup[task]"
   ],
   "id": "3b29fd5b6cece67b",
   "outputs": [
    {
     "data": {
      "text/plain": [
       "Filter (num_proc=32):   0%|          | 0/35528369 [00:00<?, ? examples/s]"
      ],
      "application/vnd.jupyter.widget-view+json": {
       "version_major": 2,
       "version_minor": 0,
       "model_id": "b8809638389a41a09ef480f96f60d121"
      }
     },
     "metadata": {},
     "output_type": "display_data"
    }
   ],
   "execution_count": 9
  },
  {
   "metadata": {
    "ExecuteTime": {
     "end_time": "2024-11-24T09:39:21.037016Z",
     "start_time": "2024-11-24T08:46:33.144969Z"
    }
   },
   "cell_type": "code",
   "outputs": [
    {
     "data": {
      "text/plain": [
       "Map (num_proc=32):   0%|          | 0/35528369 [00:00<?, ? examples/s]"
      ],
      "application/vnd.jupyter.widget-view+json": {
       "version_major": 2,
       "version_minor": 0,
       "model_id": "335e48d2725643a2bd1533c049083b49"
      }
     },
     "metadata": {},
     "output_type": "display_data"
    },
    {
     "data": {
      "text/plain": [
       "Map (num_proc=32):   0%|          | 0/458878 [00:00<?, ? examples/s]"
      ],
      "application/vnd.jupyter.widget-view+json": {
       "version_major": 2,
       "version_minor": 0,
       "model_id": "1d2ff1368fc049b6962d953984bd151f"
      }
     },
     "metadata": {},
     "output_type": "display_data"
    }
   ],
   "execution_count": 8,
   "source": [
    "import re\n",
    "\n",
    "def remove_email_dataset(dataset, column):\n",
    "    email_regex = re.compile(r'[a-zA-Z0-9._%+-]+@([a-zA-Z0-9.-]+\\.[a-zA-Z]{2,6})?', re.MULTILINE)\n",
    "    \n",
    "    return dataset.map(lambda x: {column: email_regex.sub('', x[column]).strip()}, num_proc=32)\n",
    "\n",
    "corpus_dedup_email_length = {}\n",
    "corpus_dedup_email_length_rows = {}\n",
    "\n",
    "for task in tasks:\n",
    "    corpus_dedup_email_length[task] = remove_email_dataset(corpus_dedup_length[task], 'text')"
   ],
   "id": "cf81bb34f0b4b3d9"
  },
  {
   "metadata": {
    "ExecuteTime": {
     "end_time": "2024-11-24T10:47:05.648614Z",
     "start_time": "2024-11-24T10:47:05.644614Z"
    }
   },
   "cell_type": "code",
   "source": [
    "print(f\"Before length filtering: corpus - {len(corpus_dedup['corpus'])}\")\n",
    "print(f\"After length filtering: corpus - {len(corpus_dedup_email_length['corpus'])} ({len(corpus_dedup['corpus']) - len(corpus_dedup_email_length['corpus'])} removed)\")"
   ],
   "id": "4c670546e88d0e3f",
   "outputs": [
    {
     "name": "stdout",
     "output_type": "stream",
     "text": [
      "Before length filtering: corpus - 35528369\n",
      "After length filtering: corpus - 16853440 (18674929 removed)\n"
     ]
    }
   ],
   "execution_count": 10
  },
  {
   "metadata": {
    "ExecuteTime": {
     "end_time": "2024-11-24T10:52:33.240184Z",
     "start_time": "2024-11-24T10:47:09.177745Z"
    }
   },
   "cell_type": "code",
   "source": [
    "corpus_dedup_email_length['corpus'].save_to_disk(\"E:\\\\2024/datasets_filtered/CORPUS\")\n",
    "corpus_dedup_email_length['corpus_spoken'].save_to_disk(\"E:\\\\2024/datasets_filtered/CORPUS_SPOKEN\")"
   ],
   "id": "cb46a6ee0914e2df",
   "outputs": [
    {
     "data": {
      "text/plain": [
       "Saving the dataset (0/57 shards):   0%|          | 0/16853440 [00:00<?, ? examples/s]"
      ],
      "application/vnd.jupyter.widget-view+json": {
       "version_major": 2,
       "version_minor": 0,
       "model_id": "afedef4627e9479594f4890398feacca"
      }
     },
     "metadata": {},
     "output_type": "display_data"
    },
    {
     "data": {
      "text/plain": [
       "Saving the dataset (0/1 shards):   0%|          | 0/458878 [00:00<?, ? examples/s]"
      ],
      "application/vnd.jupyter.widget-view+json": {
       "version_major": 2,
       "version_minor": 0,
       "model_id": "d6a38646afb04a0ea2fba7298547ec21"
      }
     },
     "metadata": {},
     "output_type": "display_data"
    }
   ],
   "execution_count": 11
  },
  {
   "metadata": {
    "ExecuteTime": {
     "end_time": "2024-11-24T11:43:51.735602Z",
     "start_time": "2024-11-24T11:42:39.881609Z"
    }
   },
   "cell_type": "code",
   "source": "!pip install text-dedup",
   "id": "2150fc823bd3caea",
   "outputs": [
    {
     "name": "stdout",
     "output_type": "stream",
     "text": [
      "Collecting text-dedup\n",
      "  Obtaining dependency information for text-dedup from https://files.pythonhosted.org/packages/5d/64/c16c52acc18381387982b6fa8647382b7f3f6f92fe93b61cc0f5b5fdfd74/text_dedup-0.4.0-py3-none-any.whl.metadata\n",
      "  Using cached text_dedup-0.4.0-py3-none-any.whl.metadata (19 kB)\n",
      "Collecting bitarray>=2.6.2 (from text-dedup)\n",
      "  Obtaining dependency information for bitarray>=2.6.2 from https://files.pythonhosted.org/packages/8c/75/e921ada57bb0bcece5eb515927c031f0bc828f702b8f213639358d9df396/bitarray-3.0.0-cp311-cp311-win_amd64.whl.metadata\n",
      "  Downloading bitarray-3.0.0-cp311-cp311-win_amd64.whl.metadata (33 kB)\n",
      "Requirement already satisfied: click<9.0.0,>=8.1.7 in d:\\dev\\korean-datasets\\venv3\\lib\\site-packages (from text-dedup) (8.1.7)\n",
      "Collecting click-option-group<0.6.0,>=0.5.6 (from text-dedup)\n",
      "  Obtaining dependency information for click-option-group<0.6.0,>=0.5.6 from https://files.pythonhosted.org/packages/af/75/81ea958bc0f7e410257cb2a42531b93a7695a31930cde87192c010a52c50/click_option_group-0.5.6-py3-none-any.whl.metadata\n",
      "  Using cached click_option_group-0.5.6-py3-none-any.whl.metadata (8.3 kB)\n",
      "Requirement already satisfied: datasets>=2.17.0 in d:\\dev\\korean-datasets\\venv3\\lib\\site-packages (from text-dedup) (2.19.2)\n",
      "Collecting fire<0.7.0,>=0.6.0 (from text-dedup)\n",
      "  Using cached fire-0.6.0.tar.gz (88 kB)\n",
      "  Preparing metadata (setup.py): started\n",
      "  Preparing metadata (setup.py): finished with status 'done'\n",
      "Collecting ftfy>=6.1.1 (from text-dedup)\n",
      "  Obtaining dependency information for ftfy>=6.1.1 from https://files.pythonhosted.org/packages/ab/6e/81d47999aebc1b155f81eca4477a616a70f238a2549848c38983f3c22a82/ftfy-6.3.1-py3-none-any.whl.metadata\n",
      "  Downloading ftfy-6.3.1-py3-none-any.whl.metadata (7.3 kB)\n",
      "Collecting numpy>=1.26.4 (from text-dedup)\n",
      "  Obtaining dependency information for numpy>=1.26.4 from https://files.pythonhosted.org/packages/1e/48/a9a4b538e28f854bfb62e1dea3c8fea12e90216a276c7777ae5345ff29a7/numpy-2.1.3-cp311-cp311-win_amd64.whl.metadata\n",
      "  Downloading numpy-2.1.3-cp311-cp311-win_amd64.whl.metadata (60 kB)\n",
      "     ---------------------------------------- 0.0/60.8 kB ? eta -:--:--\n",
      "     ---------------------------------------- 60.8/60.8 kB 3.2 MB/s eta 0:00:00\n",
      "Requirement already satisfied: psutil>=5.9.8 in d:\\dev\\korean-datasets\\venv3\\lib\\site-packages (from text-dedup) (6.0.0)\n",
      "Collecting pybloom-live>=4.0.0 (from text-dedup)\n",
      "  Using cached pybloom_live-4.0.0.tar.gz (10 kB)\n",
      "  Preparing metadata (setup.py): started\n",
      "  Preparing metadata (setup.py): finished with status 'done'\n",
      "Collecting pyspark>=3.3.1 (from text-dedup)\n",
      "  Downloading pyspark-3.5.3.tar.gz (317.3 MB)\n",
      "     ---------------------------------------- 0.0/317.3 MB ? eta -:--:--\n",
      "     --------------------------------------- 0.3/317.3 MB 10.6 MB/s eta 0:00:30\n",
      "     --------------------------------------- 0.9/317.3 MB 11.8 MB/s eta 0:00:27\n",
      "     --------------------------------------- 1.8/317.3 MB 13.9 MB/s eta 0:00:23\n",
      "     --------------------------------------- 2.4/317.3 MB 15.2 MB/s eta 0:00:21\n",
      "     --------------------------------------- 3.1/317.3 MB 14.3 MB/s eta 0:00:23\n",
      "     --------------------------------------- 3.7/317.3 MB 13.8 MB/s eta 0:00:23\n",
      "      -------------------------------------- 4.3/317.3 MB 13.7 MB/s eta 0:00:23\n",
      "      -------------------------------------- 4.9/317.3 MB 13.7 MB/s eta 0:00:23\n",
      "      -------------------------------------- 5.5/317.3 MB 13.4 MB/s eta 0:00:24\n",
      "      -------------------------------------- 6.0/317.3 MB 13.1 MB/s eta 0:00:24\n",
      "      -------------------------------------- 6.5/317.3 MB 13.3 MB/s eta 0:00:24\n",
      "      -------------------------------------- 7.0/317.3 MB 13.2 MB/s eta 0:00:24\n",
      "      -------------------------------------- 7.6/317.3 MB 13.1 MB/s eta 0:00:24\n",
      "     - ------------------------------------- 8.2/317.3 MB 13.1 MB/s eta 0:00:24\n",
      "     - ------------------------------------- 8.8/317.3 MB 13.2 MB/s eta 0:00:24\n",
      "     - ------------------------------------- 9.5/317.3 MB 13.2 MB/s eta 0:00:24\n",
      "     - ------------------------------------ 10.2/317.3 MB 13.3 MB/s eta 0:00:24\n",
      "     - ------------------------------------ 11.0/317.3 MB 13.6 MB/s eta 0:00:23\n",
      "     - ------------------------------------ 11.7/317.3 MB 13.6 MB/s eta 0:00:23\n",
      "     - ------------------------------------ 12.6/317.3 MB 13.6 MB/s eta 0:00:23\n",
      "     - ------------------------------------ 13.4/317.3 MB 13.9 MB/s eta 0:00:22\n",
      "     - ------------------------------------ 14.1/317.3 MB 14.2 MB/s eta 0:00:22\n",
      "     - ------------------------------------ 14.9/317.3 MB 14.6 MB/s eta 0:00:21\n",
      "     - ------------------------------------ 15.9/317.3 MB 15.2 MB/s eta 0:00:20\n",
      "     -- ----------------------------------- 16.8/317.3 MB 16.0 MB/s eta 0:00:19\n",
      "     -- ----------------------------------- 17.8/317.3 MB 16.8 MB/s eta 0:00:18\n",
      "     -- ----------------------------------- 18.8/317.3 MB 17.7 MB/s eta 0:00:17\n",
      "     -- ----------------------------------- 19.7/317.3 MB 18.7 MB/s eta 0:00:16\n",
      "     -- ----------------------------------- 20.7/317.3 MB 19.3 MB/s eta 0:00:16\n",
      "     -- ----------------------------------- 21.9/317.3 MB 19.8 MB/s eta 0:00:15\n",
      "     -- ----------------------------------- 23.0/317.3 MB 21.1 MB/s eta 0:00:14\n",
      "     -- ----------------------------------- 24.3/317.3 MB 22.6 MB/s eta 0:00:13\n",
      "     --- ---------------------------------- 25.5/317.3 MB 23.4 MB/s eta 0:00:13\n",
      "     --- ---------------------------------- 26.7/317.3 MB 24.3 MB/s eta 0:00:12\n",
      "     --- ---------------------------------- 28.0/317.3 MB 25.2 MB/s eta 0:00:12\n",
      "     --- ---------------------------------- 29.4/317.3 MB 26.2 MB/s eta 0:00:11\n",
      "     --- ---------------------------------- 30.8/317.3 MB 27.3 MB/s eta 0:00:11\n",
      "     --- ---------------------------------- 32.2/317.3 MB 28.5 MB/s eta 0:00:11\n",
      "     ---- --------------------------------- 33.6/317.3 MB 28.4 MB/s eta 0:00:10\n",
      "     ---- --------------------------------- 35.1/317.3 MB 29.7 MB/s eta 0:00:10\n",
      "     ---- --------------------------------- 36.5/317.3 MB 31.2 MB/s eta 0:00:10\n",
      "     ---- --------------------------------- 38.0/317.3 MB 32.7 MB/s eta 0:00:09\n",
      "     ---- --------------------------------- 39.5/317.3 MB 32.7 MB/s eta 0:00:09\n",
      "     ---- --------------------------------- 41.0/317.3 MB 32.7 MB/s eta 0:00:09\n",
      "     ----- -------------------------------- 42.5/317.3 MB 32.8 MB/s eta 0:00:09\n",
      "     ----- -------------------------------- 44.1/317.3 MB 32.8 MB/s eta 0:00:09\n",
      "     ----- -------------------------------- 45.7/317.3 MB 32.8 MB/s eta 0:00:09\n",
      "     ----- -------------------------------- 47.3/317.3 MB 34.4 MB/s eta 0:00:08\n",
      "     ----- -------------------------------- 48.9/317.3 MB 34.4 MB/s eta 0:00:08\n",
      "     ------ ------------------------------- 50.7/317.3 MB 34.4 MB/s eta 0:00:08\n",
      "     ------ ------------------------------- 52.6/317.3 MB 36.3 MB/s eta 0:00:08\n",
      "     ------ ------------------------------- 54.5/317.3 MB 38.5 MB/s eta 0:00:07\n",
      "     ------ ------------------------------- 56.4/317.3 MB 38.6 MB/s eta 0:00:07\n",
      "     ------ ------------------------------- 58.4/317.3 MB 40.9 MB/s eta 0:00:07\n",
      "     ------- ------------------------------ 60.3/317.3 MB 43.5 MB/s eta 0:00:06\n",
      "     ------- ------------------------------ 62.2/317.3 MB 43.7 MB/s eta 0:00:06\n",
      "     ------- ------------------------------ 64.1/317.3 MB 43.7 MB/s eta 0:00:06\n",
      "     ------- ------------------------------ 66.0/317.3 MB 43.7 MB/s eta 0:00:06\n",
      "     -------- ----------------------------- 68.0/317.3 MB 43.7 MB/s eta 0:00:06\n",
      "     -------- ----------------------------- 69.9/317.3 MB 43.7 MB/s eta 0:00:06\n",
      "     -------- ----------------------------- 71.9/317.3 MB 43.5 MB/s eta 0:00:06\n",
      "     -------- ----------------------------- 73.7/317.3 MB 40.9 MB/s eta 0:00:06\n",
      "     --------- ---------------------------- 75.7/317.3 MB 40.9 MB/s eta 0:00:06\n",
      "     --------- ---------------------------- 77.6/317.3 MB 40.9 MB/s eta 0:00:06\n",
      "     --------- ---------------------------- 79.7/317.3 MB 43.7 MB/s eta 0:00:06\n",
      "     --------- ---------------------------- 81.9/317.3 MB 43.7 MB/s eta 0:00:06\n",
      "     ---------- --------------------------- 84.1/317.3 MB 43.7 MB/s eta 0:00:06\n",
      "     ---------- --------------------------- 86.3/317.3 MB 46.9 MB/s eta 0:00:05\n",
      "     ---------- --------------------------- 88.2/317.3 MB 46.7 MB/s eta 0:00:05\n",
      "     ---------- --------------------------- 90.5/317.3 MB 46.7 MB/s eta 0:00:05\n",
      "     ----------- -------------------------- 92.7/317.3 MB 46.7 MB/s eta 0:00:05\n",
      "     ----------- -------------------------- 94.8/317.3 MB 46.7 MB/s eta 0:00:05\n",
      "     ----------- -------------------------- 97.2/317.3 MB 50.4 MB/s eta 0:00:05\n",
      "     ----------- -------------------------- 99.6/317.3 MB 50.1 MB/s eta 0:00:05\n",
      "     ----------- ------------------------- 102.1/317.3 MB 50.4 MB/s eta 0:00:05\n",
      "     ------------ ------------------------ 104.5/317.3 MB 54.7 MB/s eta 0:00:04\n",
      "     ------------ ------------------------ 107.0/317.3 MB 54.7 MB/s eta 0:00:04\n",
      "     ------------ ------------------------ 109.4/317.3 MB 50.4 MB/s eta 0:00:05\n",
      "     ------------ ------------------------ 111.4/317.3 MB 50.4 MB/s eta 0:00:05\n",
      "     ------------- ----------------------- 113.3/317.3 MB 46.7 MB/s eta 0:00:05\n",
      "     ------------- ----------------------- 115.2/317.3 MB 46.7 MB/s eta 0:00:05\n",
      "     ------------- ----------------------- 117.0/317.3 MB 40.9 MB/s eta 0:00:05\n",
      "     ------------- ----------------------- 118.7/317.3 MB 40.9 MB/s eta 0:00:05\n",
      "     -------------- ---------------------- 120.6/317.3 MB 40.9 MB/s eta 0:00:05\n",
      "     -------------- ---------------------- 122.6/317.3 MB 40.9 MB/s eta 0:00:05\n",
      "     -------------- ---------------------- 124.5/317.3 MB 40.9 MB/s eta 0:00:05\n",
      "     -------------- ---------------------- 126.4/317.3 MB 40.9 MB/s eta 0:00:05\n",
      "     -------------- ---------------------- 128.3/317.3 MB 40.9 MB/s eta 0:00:05\n",
      "     --------------- --------------------- 130.3/317.3 MB 40.9 MB/s eta 0:00:05\n",
      "     --------------- --------------------- 132.5/317.3 MB 43.7 MB/s eta 0:00:05\n",
      "     --------------- --------------------- 134.7/317.3 MB 43.5 MB/s eta 0:00:05\n",
      "     --------------- --------------------- 137.1/317.3 MB 46.7 MB/s eta 0:00:04\n",
      "     ---------------- -------------------- 139.4/317.3 MB 46.7 MB/s eta 0:00:04\n",
      "     ---------------- -------------------- 141.8/317.3 MB 54.4 MB/s eta 0:00:04\n",
      "     ---------------- -------------------- 144.1/317.3 MB 54.4 MB/s eta 0:00:04\n",
      "     ----------------- ------------------- 146.6/317.3 MB 54.4 MB/s eta 0:00:04\n",
      "     ----------------- ------------------- 149.1/317.3 MB 54.7 MB/s eta 0:00:04\n",
      "     ----------------- ------------------- 151.5/317.3 MB 54.7 MB/s eta 0:00:04\n",
      "     ----------------- ------------------- 153.8/317.3 MB 54.7 MB/s eta 0:00:03\n",
      "     ------------------ ------------------ 156.2/317.3 MB 54.7 MB/s eta 0:00:03\n",
      "     ------------------ ------------------ 158.6/317.3 MB 54.4 MB/s eta 0:00:03\n",
      "     ------------------ ------------------ 161.2/317.3 MB 54.4 MB/s eta 0:00:03\n",
      "     ------------------- ----------------- 163.6/317.3 MB 54.4 MB/s eta 0:00:03\n",
      "     ------------------- ----------------- 166.3/317.3 MB 54.4 MB/s eta 0:00:03\n",
      "     ------------------- ----------------- 169.0/317.3 MB 54.7 MB/s eta 0:00:03\n",
      "     -------------------- ---------------- 171.7/317.3 MB 54.7 MB/s eta 0:00:03\n",
      "     -------------------- ---------------- 174.5/317.3 MB 59.5 MB/s eta 0:00:03\n",
      "     -------------------- ---------------- 177.5/317.3 MB 59.5 MB/s eta 0:00:03\n",
      "     --------------------- --------------- 180.3/317.3 MB 59.5 MB/s eta 0:00:03\n",
      "     --------------------- --------------- 183.2/317.3 MB 59.5 MB/s eta 0:00:03\n",
      "     --------------------- --------------- 186.1/317.3 MB 59.5 MB/s eta 0:00:03\n",
      "     ---------------------- -------------- 189.1/317.3 MB 59.5 MB/s eta 0:00:03\n",
      "     ---------------------- -------------- 192.0/317.3 MB 59.8 MB/s eta 0:00:03\n",
      "     ---------------------- -------------- 194.8/317.3 MB 59.5 MB/s eta 0:00:03\n",
      "     ----------------------- ------------- 197.7/317.3 MB 59.5 MB/s eta 0:00:03\n",
      "     ----------------------- ------------- 200.7/317.3 MB 65.6 MB/s eta 0:00:02\n",
      "     ----------------------- ------------- 203.8/317.3 MB 65.6 MB/s eta 0:00:02\n",
      "     ------------------------ ------------ 207.0/317.3 MB 73.1 MB/s eta 0:00:02\n",
      "     ------------------------ ------------ 209.9/317.3 MB 72.6 MB/s eta 0:00:02\n",
      "     ------------------------ ------------ 213.2/317.3 MB 72.6 MB/s eta 0:00:02\n",
      "     ------------------------- ----------- 216.5/317.3 MB 72.6 MB/s eta 0:00:02\n",
      "     ------------------------- ----------- 219.5/317.3 MB 72.6 MB/s eta 0:00:02\n",
      "     ------------------------- ----------- 222.9/317.3 MB 72.6 MB/s eta 0:00:02\n",
      "     -------------------------- ---------- 226.1/317.3 MB 73.1 MB/s eta 0:00:02\n",
      "     -------------------------- ---------- 229.3/317.3 MB 73.1 MB/s eta 0:00:02\n",
      "     --------------------------- --------- 232.2/317.3 MB 65.6 MB/s eta 0:00:02\n",
      "     --------------------------- --------- 235.3/317.3 MB 65.6 MB/s eta 0:00:02\n",
      "     --------------------------- --------- 238.3/317.3 MB 65.6 MB/s eta 0:00:02\n",
      "     ---------------------------- -------- 241.2/317.3 MB 65.6 MB/s eta 0:00:02\n",
      "     ---------------------------- -------- 244.2/317.3 MB 65.6 MB/s eta 0:00:02\n",
      "     ---------------------------- -------- 247.3/317.3 MB 72.6 MB/s eta 0:00:01\n",
      "     ----------------------------- ------- 250.3/317.3 MB 65.6 MB/s eta 0:00:02\n",
      "     ----------------------------- ------- 253.2/317.3 MB 65.2 MB/s eta 0:00:01\n",
      "     ----------------------------- ------- 255.9/317.3 MB 65.2 MB/s eta 0:00:01\n",
      "     ------------------------------ ------ 258.2/317.3 MB 59.8 MB/s eta 0:00:01\n",
      "     ------------------------------ ------ 260.3/317.3 MB 54.7 MB/s eta 0:00:02\n",
      "     ------------------------------ ------ 262.7/317.3 MB 50.4 MB/s eta 0:00:02\n",
      "     ------------------------------ ------ 265.2/317.3 MB 50.4 MB/s eta 0:00:02\n",
      "     ------------------------------- ----- 267.5/317.3 MB 50.4 MB/s eta 0:00:01\n",
      "     ------------------------------- ----- 269.6/317.3 MB 50.4 MB/s eta 0:00:01\n",
      "     ------------------------------- ----- 271.3/317.3 MB 46.7 MB/s eta 0:00:01\n",
      "     ------------------------------- ----- 273.1/317.3 MB 43.5 MB/s eta 0:00:02\n",
      "     -------------------------------- ---- 275.0/317.3 MB 40.9 MB/s eta 0:00:02\n",
      "     -------------------------------- ---- 276.8/317.3 MB 40.9 MB/s eta 0:00:01\n",
      "     -------------------------------- ---- 278.7/317.3 MB 40.9 MB/s eta 0:00:01\n",
      "     -------------------------------- ---- 280.6/317.3 MB 40.9 MB/s eta 0:00:01\n",
      "     -------------------------------- ---- 282.5/317.3 MB 40.9 MB/s eta 0:00:01\n",
      "     --------------------------------- --- 284.4/317.3 MB 40.9 MB/s eta 0:00:01\n",
      "     --------------------------------- --- 286.2/317.3 MB 40.9 MB/s eta 0:00:01\n",
      "     --------------------------------- --- 288.4/317.3 MB 43.7 MB/s eta 0:00:01\n",
      "     --------------------------------- --- 290.6/317.3 MB 43.5 MB/s eta 0:00:01\n",
      "     ---------------------------------- -- 292.8/317.3 MB 46.7 MB/s eta 0:00:01\n",
      "     ---------------------------------- -- 294.0/317.3 MB 40.9 MB/s eta 0:00:01\n",
      "     ---------------------------------- -- 294.6/317.3 MB 36.4 MB/s eta 0:00:01\n",
      "     ---------------------------------- -- 295.3/317.3 MB 32.8 MB/s eta 0:00:01\n",
      "     ---------------------------------- -- 295.9/317.3 MB 29.7 MB/s eta 0:00:01\n",
      "     ---------------------------------- -- 296.5/317.3 MB 27.3 MB/s eta 0:00:01\n",
      "     ---------------------------------- -- 297.1/317.3 MB 25.2 MB/s eta 0:00:01\n",
      "     ---------------------------------- -- 297.8/317.3 MB 23.4 MB/s eta 0:00:01\n",
      "     ---------------------------------- -- 298.4/317.3 MB 21.8 MB/s eta 0:00:01\n",
      "     ---------------------------------- -- 299.2/317.3 MB 20.5 MB/s eta 0:00:01\n",
      "     ---------------------------------- -- 299.9/317.3 MB 19.8 MB/s eta 0:00:01\n",
      "     ----------------------------------- - 300.7/317.3 MB 18.7 MB/s eta 0:00:01\n",
      "     ----------------------------------- - 301.5/317.3 MB 17.7 MB/s eta 0:00:01\n",
      "     ----------------------------------- - 302.3/317.3 MB 16.8 MB/s eta 0:00:01\n",
      "     ----------------------------------- - 303.2/317.3 MB 16.4 MB/s eta 0:00:01\n",
      "     ----------------------------------- - 304.2/317.3 MB 16.4 MB/s eta 0:00:01\n",
      "     ----------------------------------- - 305.2/317.3 MB 16.4 MB/s eta 0:00:01\n",
      "     ----------------------------------- - 306.2/317.3 MB 17.2 MB/s eta 0:00:01\n",
      "     ----------------------------------- - 307.1/317.3 MB 18.2 MB/s eta 0:00:01\n",
      "     ----------------------------------- - 308.1/317.3 MB 19.2 MB/s eta 0:00:01\n",
      "     ------------------------------------  309.2/317.3 MB 19.8 MB/s eta 0:00:01\n",
      "     ------------------------------------  310.4/317.3 MB 21.1 MB/s eta 0:00:01\n",
      "     ------------------------------------  311.6/317.3 MB 21.9 MB/s eta 0:00:01\n",
      "     ------------------------------------  312.9/317.3 MB 22.6 MB/s eta 0:00:01\n",
      "     ------------------------------------  314.1/317.3 MB 24.3 MB/s eta 0:00:01\n",
      "     ------------------------------------  315.4/317.3 MB 25.2 MB/s eta 0:00:01\n",
      "     ------------------------------------  316.3/317.3 MB 25.2 MB/s eta 0:00:01\n",
      "     ------------------------------------  317.3/317.3 MB 25.2 MB/s eta 0:00:01\n",
      "     ------------------------------------  317.3/317.3 MB 25.2 MB/s eta 0:00:01\n",
      "     ------------------------------------  317.3/317.3 MB 25.2 MB/s eta 0:00:01\n",
      "     ------------------------------------  317.3/317.3 MB 25.2 MB/s eta 0:00:01\n",
      "     ------------------------------------  317.3/317.3 MB 25.2 MB/s eta 0:00:01\n",
      "     ------------------------------------  317.3/317.3 MB 25.2 MB/s eta 0:00:01\n",
      "     ------------------------------------  317.3/317.3 MB 25.2 MB/s eta 0:00:01\n",
      "     ------------------------------------- 317.3/317.3 MB 11.5 MB/s eta 0:00:00\n",
      "  Preparing metadata (setup.py): started\n",
      "  Preparing metadata (setup.py): finished with status 'done'\n",
      "Collecting regex>=2023.5.5 (from text-dedup)\n",
      "  Obtaining dependency information for regex>=2023.5.5 from https://files.pythonhosted.org/packages/80/32/763a6cc01d21fb3819227a1cc3f60fd251c13c37c27a73b8ff4315433a8e/regex-2024.11.6-cp311-cp311-win_amd64.whl.metadata\n",
      "  Downloading regex-2024.11.6-cp311-cp311-win_amd64.whl.metadata (41 kB)\n",
      "     ---------------------------------------- 0.0/41.5 kB ? eta -:--:--\n",
      "     ---------------------------------------- 41.5/41.5 kB ? eta 0:00:00\n",
      "Collecting rich<14.0.0,>=13.7.1 (from text-dedup)\n",
      "  Obtaining dependency information for rich<14.0.0,>=13.7.1 from https://files.pythonhosted.org/packages/19/71/39c7c0d87f8d4e6c020a393182060eaefeeae6c01dab6a84ec346f2567df/rich-13.9.4-py3-none-any.whl.metadata\n",
      "  Downloading rich-13.9.4-py3-none-any.whl.metadata (18 kB)\n",
      "Collecting scipy>=1.10.1 (from text-dedup)\n",
      "  Obtaining dependency information for scipy>=1.10.1 from https://files.pythonhosted.org/packages/ea/c2/5ecadc5fcccefaece775feadcd795060adf5c3b29a883bff0e678cfe89af/scipy-1.14.1-cp311-cp311-win_amd64.whl.metadata\n",
      "  Downloading scipy-1.14.1-cp311-cp311-win_amd64.whl.metadata (60 kB)\n",
      "     ---------------------------------------- 0.0/60.8 kB ? eta -:--:--\n",
      "     ---------------------------------------- 60.8/60.8 kB ? eta 0:00:00\n",
      "Collecting setuptools>=69.1.0 (from text-dedup)\n",
      "  Obtaining dependency information for setuptools>=69.1.0 from https://files.pythonhosted.org/packages/55/21/47d163f615df1d30c094f6c8bbb353619274edccf0327b185cc2493c2c33/setuptools-75.6.0-py3-none-any.whl.metadata\n",
      "  Downloading setuptools-75.6.0-py3-none-any.whl.metadata (6.7 kB)\n",
      "Collecting sphinxcontrib-bibtex>=2.5.0 (from text-dedup)\n",
      "  Obtaining dependency information for sphinxcontrib-bibtex>=2.5.0 from https://files.pythonhosted.org/packages/8e/49/c23f9493c0a5d5881fb7ed3002e87708454fef860aa96a48e755d27bf6f0/sphinxcontrib_bibtex-2.6.3-py3-none-any.whl.metadata\n",
      "  Downloading sphinxcontrib_bibtex-2.6.3-py3-none-any.whl.metadata (6.3 kB)\n",
      "Requirement already satisfied: tqdm>=4.64.1 in d:\\dev\\korean-datasets\\venv3\\lib\\site-packages (from text-dedup) (4.66.4)\n",
      "Collecting unisim<0.0.2,>=0.0.1 (from text-dedup)\n",
      "  Obtaining dependency information for unisim<0.0.2,>=0.0.1 from https://files.pythonhosted.org/packages/83/c4/79d7b023bc4312134e68dee65df3f6ac7e2ff7c2b07112ba532eafd2478e/unisim-0.0.1-py3-none-any.whl.metadata\n",
      "  Using cached unisim-0.0.1-py3-none-any.whl.metadata (9.5 kB)\n",
      "Collecting urllib3<=2.0 (from text-dedup)\n",
      "  Obtaining dependency information for urllib3<=2.0 from https://files.pythonhosted.org/packages/33/cf/8435d5a7159e2a9c83a95896ed596f68cf798005fe107cc655b5c5c14704/urllib3-1.26.20-py2.py3-none-any.whl.metadata\n",
      "  Downloading urllib3-1.26.20-py2.py3-none-any.whl.metadata (50 kB)\n",
      "     ---------------------------------------- 0.0/50.1 kB ? eta -:--:--\n",
      "     ---------------------------------------- 50.1/50.1 kB ? eta 0:00:00\n",
      "Requirement already satisfied: xxhash>=3.0.0 in d:\\dev\\korean-datasets\\venv3\\lib\\site-packages (from text-dedup) (3.4.1)\n",
      "Collecting zstandard>=0.21.0 (from text-dedup)\n",
      "  Obtaining dependency information for zstandard>=0.21.0 from https://files.pythonhosted.org/packages/be/a2/4272175d47c623ff78196f3c10e9dc7045c1b9caf3735bf041e65271eca4/zstandard-0.23.0-cp311-cp311-win_amd64.whl.metadata\n",
      "  Downloading zstandard-0.23.0-cp311-cp311-win_amd64.whl.metadata (3.0 kB)\n",
      "Requirement already satisfied: colorama in d:\\dev\\korean-datasets\\venv3\\lib\\site-packages (from click<9.0.0,>=8.1.7->text-dedup) (0.4.6)\n",
      "Requirement already satisfied: filelock in d:\\dev\\korean-datasets\\venv3\\lib\\site-packages (from datasets>=2.17.0->text-dedup) (3.15.4)\n",
      "Requirement already satisfied: pyarrow>=12.0.0 in d:\\dev\\korean-datasets\\venv3\\lib\\site-packages (from datasets>=2.17.0->text-dedup) (16.1.0)\n",
      "Requirement already satisfied: pyarrow-hotfix in d:\\dev\\korean-datasets\\venv3\\lib\\site-packages (from datasets>=2.17.0->text-dedup) (0.6)\n",
      "Requirement already satisfied: dill<0.3.9,>=0.3.0 in d:\\dev\\korean-datasets\\venv3\\lib\\site-packages (from datasets>=2.17.0->text-dedup) (0.3.8)\n",
      "Requirement already satisfied: pandas in d:\\dev\\korean-datasets\\venv3\\lib\\site-packages (from datasets>=2.17.0->text-dedup) (2.0.3)\n",
      "Requirement already satisfied: requests>=2.32.1 in d:\\dev\\korean-datasets\\venv3\\lib\\site-packages (from datasets>=2.17.0->text-dedup) (2.32.3)\n",
      "Requirement already satisfied: multiprocess in d:\\dev\\korean-datasets\\venv3\\lib\\site-packages (from datasets>=2.17.0->text-dedup) (0.70.16)\n",
      "Requirement already satisfied: fsspec[http]<=2024.3.1,>=2023.1.0 in d:\\dev\\korean-datasets\\venv3\\lib\\site-packages (from datasets>=2.17.0->text-dedup) (2024.3.1)\n",
      "Requirement already satisfied: aiohttp in d:\\dev\\korean-datasets\\venv3\\lib\\site-packages (from datasets>=2.17.0->text-dedup) (3.9.5)\n",
      "Requirement already satisfied: huggingface-hub>=0.21.2 in d:\\dev\\korean-datasets\\venv3\\lib\\site-packages (from datasets>=2.17.0->text-dedup) (0.23.4)\n",
      "Requirement already satisfied: packaging in d:\\dev\\korean-datasets\\venv3\\lib\\site-packages (from datasets>=2.17.0->text-dedup) (24.1)\n",
      "Requirement already satisfied: pyyaml>=5.1 in d:\\dev\\korean-datasets\\venv3\\lib\\site-packages (from datasets>=2.17.0->text-dedup) (6.0.1)\n",
      "Requirement already satisfied: six in d:\\dev\\korean-datasets\\venv3\\lib\\site-packages (from fire<0.7.0,>=0.6.0->text-dedup) (1.16.0)\n",
      "Collecting termcolor (from fire<0.7.0,>=0.6.0->text-dedup)\n",
      "  Obtaining dependency information for termcolor from https://files.pythonhosted.org/packages/7f/be/df630c387a0a054815d60be6a97eb4e8f17385d5d6fe660e1c02750062b4/termcolor-2.5.0-py3-none-any.whl.metadata\n",
      "  Downloading termcolor-2.5.0-py3-none-any.whl.metadata (6.1 kB)\n",
      "Requirement already satisfied: wcwidth in d:\\dev\\korean-datasets\\venv3\\lib\\site-packages (from ftfy>=6.1.1->text-dedup) (0.2.13)\n",
      "Collecting py4j==0.10.9.7 (from pyspark>=3.3.1->text-dedup)\n",
      "  Obtaining dependency information for py4j==0.10.9.7 from https://files.pythonhosted.org/packages/10/30/a58b32568f1623aaad7db22aa9eafc4c6c194b429ff35bdc55ca2726da47/py4j-0.10.9.7-py2.py3-none-any.whl.metadata\n",
      "  Using cached py4j-0.10.9.7-py2.py3-none-any.whl.metadata (1.5 kB)\n",
      "Collecting markdown-it-py>=2.2.0 (from rich<14.0.0,>=13.7.1->text-dedup)\n",
      "  Obtaining dependency information for markdown-it-py>=2.2.0 from https://files.pythonhosted.org/packages/42/d7/1ec15b46af6af88f19b8e5ffea08fa375d433c998b8a7639e76935c14f1f/markdown_it_py-3.0.0-py3-none-any.whl.metadata\n",
      "  Using cached markdown_it_py-3.0.0-py3-none-any.whl.metadata (6.9 kB)\n",
      "Requirement already satisfied: pygments<3.0.0,>=2.13.0 in d:\\dev\\korean-datasets\\venv3\\lib\\site-packages (from rich<14.0.0,>=13.7.1->text-dedup) (2.18.0)\n",
      "Collecting Sphinx>=3.5 (from sphinxcontrib-bibtex>=2.5.0->text-dedup)\n",
      "  Obtaining dependency information for Sphinx>=3.5 from https://files.pythonhosted.org/packages/26/60/1ddff83a56d33aaf6f10ec8ce84b4c007d9368b21008876fceda7e7381ef/sphinx-8.1.3-py3-none-any.whl.metadata\n",
      "  Downloading sphinx-8.1.3-py3-none-any.whl.metadata (6.4 kB)\n",
      "Collecting docutils!=0.18.*,!=0.19.*,>=0.8 (from sphinxcontrib-bibtex>=2.5.0->text-dedup)\n",
      "  Obtaining dependency information for docutils!=0.18.*,!=0.19.*,>=0.8 from https://files.pythonhosted.org/packages/8f/d7/9322c609343d929e75e7e5e6255e614fcc67572cfd083959cdef3b7aad79/docutils-0.21.2-py3-none-any.whl.metadata\n",
      "  Using cached docutils-0.21.2-py3-none-any.whl.metadata (2.8 kB)\n",
      "Collecting pybtex>=0.24 (from sphinxcontrib-bibtex>=2.5.0->text-dedup)\n",
      "  Obtaining dependency information for pybtex>=0.24 from https://files.pythonhosted.org/packages/ad/5f/40d8e90f985a05133a8895fc454c6127ecec3de8b095dd35bba91382f803/pybtex-0.24.0-py2.py3-none-any.whl.metadata\n",
      "  Using cached pybtex-0.24.0-py2.py3-none-any.whl.metadata (2.0 kB)\n",
      "Collecting pybtex-docutils>=1.0.0 (from sphinxcontrib-bibtex>=2.5.0->text-dedup)\n",
      "  Obtaining dependency information for pybtex-docutils>=1.0.0 from https://files.pythonhosted.org/packages/11/b1/ce1f4596211efb5410e178a803f08e59b20bedb66837dcf41e21c54f9ec1/pybtex_docutils-1.0.3-py3-none-any.whl.metadata\n",
      "  Using cached pybtex_docutils-1.0.3-py3-none-any.whl.metadata (4.3 kB)\n",
      "Collecting tabulate (from unisim<0.0.2,>=0.0.1->text-dedup)\n",
      "  Obtaining dependency information for tabulate from https://files.pythonhosted.org/packages/40/44/4a5f08c96eb108af5cb50b41f76142f0afa346dfa99d5296fe7202a11854/tabulate-0.9.0-py3-none-any.whl.metadata\n",
      "  Using cached tabulate-0.9.0-py3-none-any.whl.metadata (34 kB)\n",
      "Collecting onnx (from unisim<0.0.2,>=0.0.1->text-dedup)\n",
      "  Obtaining dependency information for onnx from https://files.pythonhosted.org/packages/51/a5/19b0dfcb567b62e7adf1a21b08b23224f0c2d13842aee4d0abc6f07f9cf5/onnx-1.17.0-cp311-cp311-win_amd64.whl.metadata\n",
      "  Downloading onnx-1.17.0-cp311-cp311-win_amd64.whl.metadata (16 kB)\n",
      "Collecting jaxtyping (from unisim<0.0.2,>=0.0.1->text-dedup)\n",
      "  Obtaining dependency information for jaxtyping from https://files.pythonhosted.org/packages/94/99/c83c6a97f4382caf1c9bfeeeca935d3eb1f479f711665aeadf4408048107/jaxtyping-0.2.36-py3-none-any.whl.metadata\n",
      "  Downloading jaxtyping-0.2.36-py3-none-any.whl.metadata (6.5 kB)\n",
      "Collecting onnxruntime (from unisim<0.0.2,>=0.0.1->text-dedup)\n",
      "  Obtaining dependency information for onnxruntime from https://files.pythonhosted.org/packages/2c/2d/2d4d202c0bcfb3a4cc2b171abb9328672d7f91d7af9ea52572722c6d8d96/onnxruntime-1.20.1-cp311-cp311-win_amd64.whl.metadata\n",
      "  Downloading onnxruntime-1.20.1-cp311-cp311-win_amd64.whl.metadata (4.7 kB)\n",
      "Collecting usearch>=2.6.0 (from unisim<0.0.2,>=0.0.1->text-dedup)\n",
      "  Obtaining dependency information for usearch>=2.6.0 from https://files.pythonhosted.org/packages/b0/d7/8a122ac2cd734e67a3cc06bfb0b8edd38c8f20ac138a882c1fc9a43879ec/usearch-2.16.6-cp311-cp311-win_amd64.whl.metadata\n",
      "  Downloading usearch-2.16.6-cp311-cp311-win_amd64.whl.metadata (32 kB)\n",
      "Requirement already satisfied: aiosignal>=1.1.2 in d:\\dev\\korean-datasets\\venv3\\lib\\site-packages (from aiohttp->datasets>=2.17.0->text-dedup) (1.3.1)\n",
      "Requirement already satisfied: attrs>=17.3.0 in d:\\dev\\korean-datasets\\venv3\\lib\\site-packages (from aiohttp->datasets>=2.17.0->text-dedup) (23.2.0)\n",
      "Requirement already satisfied: frozenlist>=1.1.1 in d:\\dev\\korean-datasets\\venv3\\lib\\site-packages (from aiohttp->datasets>=2.17.0->text-dedup) (1.4.1)\n",
      "Requirement already satisfied: multidict<7.0,>=4.5 in d:\\dev\\korean-datasets\\venv3\\lib\\site-packages (from aiohttp->datasets>=2.17.0->text-dedup) (6.0.5)\n",
      "Requirement already satisfied: yarl<2.0,>=1.0 in d:\\dev\\korean-datasets\\venv3\\lib\\site-packages (from aiohttp->datasets>=2.17.0->text-dedup) (1.9.4)\n",
      "Requirement already satisfied: typing-extensions>=3.7.4.3 in d:\\dev\\korean-datasets\\venv3\\lib\\site-packages (from huggingface-hub>=0.21.2->datasets>=2.17.0->text-dedup) (4.12.2)\n",
      "Collecting mdurl~=0.1 (from markdown-it-py>=2.2.0->rich<14.0.0,>=13.7.1->text-dedup)\n",
      "  Obtaining dependency information for mdurl~=0.1 from https://files.pythonhosted.org/packages/b3/38/89ba8ad64ae25be8de66a6d463314cf1eb366222074cfda9ee839c56a4b4/mdurl-0.1.2-py3-none-any.whl.metadata\n",
      "  Using cached mdurl-0.1.2-py3-none-any.whl.metadata (1.6 kB)\n",
      "Collecting latexcodec>=1.0.4 (from pybtex>=0.24->sphinxcontrib-bibtex>=2.5.0->text-dedup)\n",
      "  Obtaining dependency information for latexcodec>=1.0.4 from https://files.pythonhosted.org/packages/b0/bf/ea8887e9f31a8f93ca306699d11909c6140151393a4216f0d9f85a004077/latexcodec-3.0.0-py3-none-any.whl.metadata\n",
      "  Using cached latexcodec-3.0.0-py3-none-any.whl.metadata (4.9 kB)\n",
      "Requirement already satisfied: charset-normalizer<4,>=2 in d:\\dev\\korean-datasets\\venv3\\lib\\site-packages (from requests>=2.32.1->datasets>=2.17.0->text-dedup) (3.3.2)\n",
      "Requirement already satisfied: idna<4,>=2.5 in d:\\dev\\korean-datasets\\venv3\\lib\\site-packages (from requests>=2.32.1->datasets>=2.17.0->text-dedup) (3.7)\n",
      "Requirement already satisfied: certifi>=2017.4.17 in d:\\dev\\korean-datasets\\venv3\\lib\\site-packages (from requests>=2.32.1->datasets>=2.17.0->text-dedup) (2024.6.2)\n",
      "Collecting sphinxcontrib-applehelp>=1.0.7 (from Sphinx>=3.5->sphinxcontrib-bibtex>=2.5.0->text-dedup)\n",
      "  Obtaining dependency information for sphinxcontrib-applehelp>=1.0.7 from https://files.pythonhosted.org/packages/5d/85/9ebeae2f76e9e77b952f4b274c27238156eae7979c5421fba91a28f4970d/sphinxcontrib_applehelp-2.0.0-py3-none-any.whl.metadata\n",
      "  Downloading sphinxcontrib_applehelp-2.0.0-py3-none-any.whl.metadata (2.3 kB)\n",
      "Collecting sphinxcontrib-devhelp>=1.0.6 (from Sphinx>=3.5->sphinxcontrib-bibtex>=2.5.0->text-dedup)\n",
      "  Obtaining dependency information for sphinxcontrib-devhelp>=1.0.6 from https://files.pythonhosted.org/packages/35/7a/987e583882f985fe4d7323774889ec58049171828b58c2217e7f79cdf44e/sphinxcontrib_devhelp-2.0.0-py3-none-any.whl.metadata\n",
      "  Downloading sphinxcontrib_devhelp-2.0.0-py3-none-any.whl.metadata (2.3 kB)\n",
      "Collecting sphinxcontrib-htmlhelp>=2.0.6 (from Sphinx>=3.5->sphinxcontrib-bibtex>=2.5.0->text-dedup)\n",
      "  Obtaining dependency information for sphinxcontrib-htmlhelp>=2.0.6 from https://files.pythonhosted.org/packages/0a/7b/18a8c0bcec9182c05a0b3ec2a776bba4ead82750a55ff798e8d406dae604/sphinxcontrib_htmlhelp-2.1.0-py3-none-any.whl.metadata\n",
      "  Downloading sphinxcontrib_htmlhelp-2.1.0-py3-none-any.whl.metadata (2.3 kB)\n",
      "Collecting sphinxcontrib-jsmath>=1.0.1 (from Sphinx>=3.5->sphinxcontrib-bibtex>=2.5.0->text-dedup)\n",
      "  Obtaining dependency information for sphinxcontrib-jsmath>=1.0.1 from https://files.pythonhosted.org/packages/c2/42/4c8646762ee83602e3fb3fbe774c2fac12f317deb0b5dbeeedd2d3ba4b77/sphinxcontrib_jsmath-1.0.1-py2.py3-none-any.whl.metadata\n",
      "  Using cached sphinxcontrib_jsmath-1.0.1-py2.py3-none-any.whl.metadata (1.4 kB)\n",
      "Collecting sphinxcontrib-qthelp>=1.0.6 (from Sphinx>=3.5->sphinxcontrib-bibtex>=2.5.0->text-dedup)\n",
      "  Obtaining dependency information for sphinxcontrib-qthelp>=1.0.6 from https://files.pythonhosted.org/packages/27/83/859ecdd180cacc13b1f7e857abf8582a64552ea7a061057a6c716e790fce/sphinxcontrib_qthelp-2.0.0-py3-none-any.whl.metadata\n",
      "  Downloading sphinxcontrib_qthelp-2.0.0-py3-none-any.whl.metadata (2.3 kB)\n",
      "Collecting sphinxcontrib-serializinghtml>=1.1.9 (from Sphinx>=3.5->sphinxcontrib-bibtex>=2.5.0->text-dedup)\n",
      "  Obtaining dependency information for sphinxcontrib-serializinghtml>=1.1.9 from https://files.pythonhosted.org/packages/52/a7/d2782e4e3f77c8450f727ba74a8f12756d5ba823d81b941f1b04da9d033a/sphinxcontrib_serializinghtml-2.0.0-py3-none-any.whl.metadata\n",
      "  Downloading sphinxcontrib_serializinghtml-2.0.0-py3-none-any.whl.metadata (2.4 kB)\n",
      "Requirement already satisfied: Jinja2>=3.1 in d:\\dev\\korean-datasets\\venv3\\lib\\site-packages (from Sphinx>=3.5->sphinxcontrib-bibtex>=2.5.0->text-dedup) (3.1.4)\n",
      "Collecting snowballstemmer>=2.2 (from Sphinx>=3.5->sphinxcontrib-bibtex>=2.5.0->text-dedup)\n",
      "  Obtaining dependency information for snowballstemmer>=2.2 from https://files.pythonhosted.org/packages/ed/dc/c02e01294f7265e63a7315fe086dd1df7dacb9f840a804da846b96d01b96/snowballstemmer-2.2.0-py2.py3-none-any.whl.metadata\n",
      "  Using cached snowballstemmer-2.2.0-py2.py3-none-any.whl.metadata (6.5 kB)\n",
      "Requirement already satisfied: babel>=2.13 in d:\\dev\\korean-datasets\\venv3\\lib\\site-packages (from Sphinx>=3.5->sphinxcontrib-bibtex>=2.5.0->text-dedup) (2.15.0)\n",
      "Collecting alabaster>=0.7.14 (from Sphinx>=3.5->sphinxcontrib-bibtex>=2.5.0->text-dedup)\n",
      "  Obtaining dependency information for alabaster>=0.7.14 from https://files.pythonhosted.org/packages/7e/b3/6b4067be973ae96ba0d615946e314c5ae35f9f993eca561b356540bb0c2b/alabaster-1.0.0-py3-none-any.whl.metadata\n",
      "  Downloading alabaster-1.0.0-py3-none-any.whl.metadata (2.8 kB)\n",
      "Collecting imagesize>=1.3 (from Sphinx>=3.5->sphinxcontrib-bibtex>=2.5.0->text-dedup)\n",
      "  Obtaining dependency information for imagesize>=1.3 from https://files.pythonhosted.org/packages/ff/62/85c4c919272577931d407be5ba5d71c20f0b616d31a0befe0ae45bb79abd/imagesize-1.4.1-py2.py3-none-any.whl.metadata\n",
      "  Using cached imagesize-1.4.1-py2.py3-none-any.whl.metadata (1.5 kB)\n",
      "Collecting protobuf>=3.20.2 (from onnx->unisim<0.0.2,>=0.0.1->text-dedup)\n",
      "  Obtaining dependency information for protobuf>=3.20.2 from https://files.pythonhosted.org/packages/9c/4c/4563ebe001ff30dca9d7ed12e471fa098d9759712980cde1fd03a3a44fb7/protobuf-5.28.3-cp310-abi3-win_amd64.whl.metadata\n",
      "  Downloading protobuf-5.28.3-cp310-abi3-win_amd64.whl.metadata (592 bytes)\n",
      "Collecting coloredlogs (from onnxruntime->unisim<0.0.2,>=0.0.1->text-dedup)\n",
      "  Obtaining dependency information for coloredlogs from https://files.pythonhosted.org/packages/a7/06/3d6badcf13db419e25b07041d9c7b4a2c331d3f4e7134445ec5df57714cd/coloredlogs-15.0.1-py2.py3-none-any.whl.metadata\n",
      "  Using cached coloredlogs-15.0.1-py2.py3-none-any.whl.metadata (12 kB)\n",
      "Collecting flatbuffers (from onnxruntime->unisim<0.0.2,>=0.0.1->text-dedup)\n",
      "  Obtaining dependency information for flatbuffers from https://files.pythonhosted.org/packages/41/f0/7e988a019bc54b2dbd0ad4182ef2d53488bb02e58694cd79d61369e85900/flatbuffers-24.3.25-py2.py3-none-any.whl.metadata\n",
      "  Using cached flatbuffers-24.3.25-py2.py3-none-any.whl.metadata (850 bytes)\n",
      "Collecting sympy (from onnxruntime->unisim<0.0.2,>=0.0.1->text-dedup)\n",
      "  Obtaining dependency information for sympy from https://files.pythonhosted.org/packages/99/ff/c87e0622b1dadea79d2fb0b25ade9ed98954c9033722eb707053d310d4f3/sympy-1.13.3-py3-none-any.whl.metadata\n",
      "  Downloading sympy-1.13.3-py3-none-any.whl.metadata (12 kB)\n",
      "Requirement already satisfied: python-dateutil>=2.8.2 in d:\\dev\\korean-datasets\\venv3\\lib\\site-packages (from pandas->datasets>=2.17.0->text-dedup) (2.9.0.post0)\n",
      "Requirement already satisfied: pytz>=2020.1 in d:\\dev\\korean-datasets\\venv3\\lib\\site-packages (from pandas->datasets>=2.17.0->text-dedup) (2024.1)\n",
      "Requirement already satisfied: tzdata>=2022.1 in d:\\dev\\korean-datasets\\venv3\\lib\\site-packages (from pandas->datasets>=2.17.0->text-dedup) (2024.1)\n",
      "Requirement already satisfied: MarkupSafe>=2.0 in d:\\dev\\korean-datasets\\venv3\\lib\\site-packages (from Jinja2>=3.1->Sphinx>=3.5->sphinxcontrib-bibtex>=2.5.0->text-dedup) (2.1.5)\n",
      "Collecting humanfriendly>=9.1 (from coloredlogs->onnxruntime->unisim<0.0.2,>=0.0.1->text-dedup)\n",
      "  Obtaining dependency information for humanfriendly>=9.1 from https://files.pythonhosted.org/packages/f0/0f/310fb31e39e2d734ccaa2c0fb981ee41f7bd5056ce9bc29b2248bd569169/humanfriendly-10.0-py2.py3-none-any.whl.metadata\n",
      "  Using cached humanfriendly-10.0-py2.py3-none-any.whl.metadata (9.2 kB)\n",
      "Collecting mpmath<1.4,>=1.1.0 (from sympy->onnxruntime->unisim<0.0.2,>=0.0.1->text-dedup)\n",
      "  Obtaining dependency information for mpmath<1.4,>=1.1.0 from https://files.pythonhosted.org/packages/43/e3/7d92a15f894aa0c9c4b49b8ee9ac9850d6e63b03c9c32c0367a13ae62209/mpmath-1.3.0-py3-none-any.whl.metadata\n",
      "  Using cached mpmath-1.3.0-py3-none-any.whl.metadata (8.6 kB)\n",
      "Collecting pyreadline3 (from humanfriendly>=9.1->coloredlogs->onnxruntime->unisim<0.0.2,>=0.0.1->text-dedup)\n",
      "  Obtaining dependency information for pyreadline3 from https://files.pythonhosted.org/packages/5a/dc/491b7661614ab97483abf2056be1deee4dc2490ecbf7bff9ab5cdbac86e1/pyreadline3-3.5.4-py3-none-any.whl.metadata\n",
      "  Downloading pyreadline3-3.5.4-py3-none-any.whl.metadata (4.7 kB)\n",
      "Using cached text_dedup-0.4.0-py3-none-any.whl (48 kB)\n",
      "Downloading bitarray-3.0.0-cp311-cp311-win_amd64.whl (121 kB)\n",
      "   ---------------------------------------- 0.0/121.5 kB ? eta -:--:--\n",
      "   ---------------------------------------- 121.5/121.5 kB ? eta 0:00:00\n",
      "Using cached click_option_group-0.5.6-py3-none-any.whl (12 kB)\n",
      "Downloading ftfy-6.3.1-py3-none-any.whl (44 kB)\n",
      "   ---------------------------------------- 0.0/44.8 kB ? eta -:--:--\n",
      "   ---------------------------------------- 44.8/44.8 kB 2.3 MB/s eta 0:00:00\n",
      "Downloading numpy-2.1.3-cp311-cp311-win_amd64.whl (12.9 MB)\n",
      "   ---------------------------------------- 0.0/12.9 MB ? eta -:--:--\n",
      "   -- ------------------------------------- 0.8/12.9 MB 17.6 MB/s eta 0:00:01\n",
      "   ----- ---------------------------------- 1.8/12.9 MB 19.3 MB/s eta 0:00:01\n",
      "   -------- ------------------------------- 2.8/12.9 MB 19.9 MB/s eta 0:00:01\n",
      "   ----------- ---------------------------- 3.8/12.9 MB 22.2 MB/s eta 0:00:01\n",
      "   --------------- ------------------------ 4.9/12.9 MB 20.8 MB/s eta 0:00:01\n",
      "   ------------------ --------------------- 6.0/12.9 MB 22.5 MB/s eta 0:00:01\n",
      "   ---------------------- ----------------- 7.1/12.9 MB 22.7 MB/s eta 0:00:01\n",
      "   ------------------------- -------------- 8.3/12.9 MB 23.1 MB/s eta 0:00:01\n",
      "   ----------------------------- ---------- 9.5/12.9 MB 23.4 MB/s eta 0:00:01\n",
      "   --------------------------------- ------ 10.8/12.9 MB 24.2 MB/s eta 0:00:01\n",
      "   ------------------------------------- -- 12.0/12.9 MB 24.2 MB/s eta 0:00:01\n",
      "   ---------------------------------------  12.9/12.9 MB 25.2 MB/s eta 0:00:01\n",
      "   ---------------------------------------- 12.9/12.9 MB 24.2 MB/s eta 0:00:00\n",
      "Using cached py4j-0.10.9.7-py2.py3-none-any.whl (200 kB)\n",
      "Downloading regex-2024.11.6-cp311-cp311-win_amd64.whl (274 kB)\n",
      "   ---------------------------------------- 0.0/274.1 kB ? eta -:--:--\n",
      "   ---------------------------------------- 274.1/274.1 kB ? eta 0:00:00\n",
      "Downloading rich-13.9.4-py3-none-any.whl (242 kB)\n",
      "   ---------------------------------------- 0.0/242.4 kB ? eta -:--:--\n",
      "   --------------------------------------- 242.4/242.4 kB 14.5 MB/s eta 0:00:00\n",
      "Downloading scipy-1.14.1-cp311-cp311-win_amd64.whl (44.8 MB)\n",
      "   ---------------------------------------- 0.0/44.8 MB ? eta -:--:--\n",
      "   - -------------------------------------- 1.4/44.8 MB 30.9 MB/s eta 0:00:02\n",
      "   -- ------------------------------------- 2.9/44.8 MB 30.8 MB/s eta 0:00:02\n",
      "   --- ------------------------------------ 4.4/44.8 MB 31.2 MB/s eta 0:00:02\n",
      "   ----- ---------------------------------- 5.8/44.8 MB 31.0 MB/s eta 0:00:02\n",
      "   ------ --------------------------------- 7.3/44.8 MB 31.2 MB/s eta 0:00:02\n",
      "   ------- -------------------------------- 8.8/44.8 MB 31.4 MB/s eta 0:00:02\n",
      "   --------- ------------------------------ 10.4/44.8 MB 31.2 MB/s eta 0:00:02\n",
      "   --------- ------------------------------ 11.1/44.8 MB 29.7 MB/s eta 0:00:02\n",
      "   ---------- ----------------------------- 11.7/44.8 MB 28.4 MB/s eta 0:00:02\n",
      "   ---------- ----------------------------- 12.2/44.8 MB 25.2 MB/s eta 0:00:02\n",
      "   ----------- ---------------------------- 12.7/44.8 MB 23.4 MB/s eta 0:00:02\n",
      "   ----------- ---------------------------- 13.3/44.8 MB 21.8 MB/s eta 0:00:02\n",
      "   ------------ --------------------------- 14.0/44.8 MB 21.1 MB/s eta 0:00:02\n",
      "   ------------- -------------------------- 14.6/44.8 MB 19.8 MB/s eta 0:00:02\n",
      "   ------------- -------------------------- 15.3/44.8 MB 18.7 MB/s eta 0:00:02\n",
      "   -------------- ------------------------- 16.0/44.8 MB 18.7 MB/s eta 0:00:02\n",
      "   -------------- ------------------------- 16.7/44.8 MB 17.7 MB/s eta 0:00:02\n",
      "   --------------- ------------------------ 17.5/44.8 MB 17.2 MB/s eta 0:00:02\n",
      "   ---------------- ----------------------- 18.3/44.8 MB 16.4 MB/s eta 0:00:02\n",
      "   ----------------- ---------------------- 19.1/44.8 MB 16.0 MB/s eta 0:00:02\n",
      "   ----------------- ---------------------- 20.0/44.8 MB 15.6 MB/s eta 0:00:02\n",
      "   ------------------ --------------------- 20.2/44.8 MB 14.6 MB/s eta 0:00:02\n",
      "   ------------------ --------------------- 20.3/44.8 MB 13.6 MB/s eta 0:00:02\n",
      "   ------------------ --------------------- 20.5/44.8 MB 13.1 MB/s eta 0:00:02\n",
      "   ------------------ --------------------- 20.9/44.8 MB 12.6 MB/s eta 0:00:02\n",
      "   ------------------- -------------------- 21.6/44.8 MB 12.4 MB/s eta 0:00:02\n",
      "   ------------------- -------------------- 22.2/44.8 MB 12.6 MB/s eta 0:00:02\n",
      "   -------------------- ------------------- 22.9/44.8 MB 12.9 MB/s eta 0:00:02\n",
      "   --------------------- ------------------ 23.6/44.8 MB 13.1 MB/s eta 0:00:02\n",
      "   --------------------- ------------------ 24.4/44.8 MB 13.4 MB/s eta 0:00:02\n",
      "   ---------------------- ----------------- 25.2/44.8 MB 13.4 MB/s eta 0:00:02\n",
      "   ----------------------- ---------------- 26.0/44.8 MB 13.4 MB/s eta 0:00:02\n",
      "   ----------------------- ---------------- 26.8/44.8 MB 13.6 MB/s eta 0:00:02\n",
      "   ------------------------ --------------- 27.7/44.8 MB 13.6 MB/s eta 0:00:02\n",
      "   ------------------------- -------------- 28.7/44.8 MB 13.9 MB/s eta 0:00:02\n",
      "   -------------------------- ------------- 29.7/44.8 MB 13.9 MB/s eta 0:00:02\n",
      "   --------------------------- ------------ 30.7/44.8 MB 16.8 MB/s eta 0:00:01\n",
      "   ---------------------------- ----------- 31.7/44.8 MB 18.2 MB/s eta 0:00:01\n",
      "   ----------------------------- ---------- 32.8/44.8 MB 19.3 MB/s eta 0:00:01\n",
      "   ------------------------------ --------- 33.8/44.8 MB 20.5 MB/s eta 0:00:01\n",
      "   ------------------------------- -------- 35.0/44.8 MB 21.1 MB/s eta 0:00:01\n",
      "   -------------------------------- ------- 36.2/44.8 MB 22.6 MB/s eta 0:00:01\n",
      "   --------------------------------- ------ 37.4/44.8 MB 23.4 MB/s eta 0:00:01\n",
      "   ---------------------------------- ----- 38.6/44.8 MB 24.2 MB/s eta 0:00:01\n",
      "   ----------------------------------- ---- 39.9/44.8 MB 25.1 MB/s eta 0:00:01\n",
      "   ------------------------------------ --- 41.2/44.8 MB 25.1 MB/s eta 0:00:01\n",
      "   ------------------------------------- -- 42.5/44.8 MB 26.2 MB/s eta 0:00:01\n",
      "   ---------------------------------------  43.9/44.8 MB 27.3 MB/s eta 0:00:01\n",
      "   ---------------------------------------  44.8/44.8 MB 27.3 MB/s eta 0:00:01\n",
      "   ---------------------------------------- 44.8/44.8 MB 23.4 MB/s eta 0:00:00\n",
      "Downloading setuptools-75.6.0-py3-none-any.whl (1.2 MB)\n",
      "   ---------------------------------------- 0.0/1.2 MB ? eta -:--:--\n",
      "   ---------------------------------------  1.2/1.2 MB 25.7 MB/s eta 0:00:01\n",
      "   ---------------------------------------- 1.2/1.2 MB 25.8 MB/s eta 0:00:00\n",
      "Downloading sphinxcontrib_bibtex-2.6.3-py3-none-any.whl (40 kB)\n",
      "   ---------------------------------------- 0.0/40.3 kB ? eta -:--:--\n",
      "   ---------------------------------------- 40.3/40.3 kB ? eta 0:00:00\n",
      "Using cached unisim-0.0.1-py3-none-any.whl (8.1 MB)\n",
      "Downloading urllib3-1.26.20-py2.py3-none-any.whl (144 kB)\n",
      "   ---------------------------------------- 0.0/144.2 kB ? eta -:--:--\n",
      "   ---------------------------------------- 144.2/144.2 kB ? eta 0:00:00\n",
      "Downloading zstandard-0.23.0-cp311-cp311-win_amd64.whl (495 kB)\n",
      "   ---------------------------------------- 0.0/495.4 kB ? eta -:--:--\n",
      "   --------------------------------------- 495.4/495.4 kB 30.3 MB/s eta 0:00:00\n",
      "Using cached docutils-0.21.2-py3-none-any.whl (587 kB)\n",
      "Using cached markdown_it_py-3.0.0-py3-none-any.whl (87 kB)\n",
      "Using cached pybtex-0.24.0-py2.py3-none-any.whl (561 kB)\n",
      "Using cached pybtex_docutils-1.0.3-py3-none-any.whl (6.4 kB)\n",
      "Downloading sphinx-8.1.3-py3-none-any.whl (3.5 MB)\n",
      "   ---------------------------------------- 0.0/3.5 MB ? eta -:--:--\n",
      "   -- ------------------------------------- 0.2/3.5 MB 3.7 MB/s eta 0:00:01\n",
      "   -- ------------------------------------- 0.2/3.5 MB 2.5 MB/s eta 0:00:02\n",
      "   --- ------------------------------------ 0.3/3.5 MB 2.7 MB/s eta 0:00:02\n",
      "   ---- ----------------------------------- 0.4/3.5 MB 2.4 MB/s eta 0:00:02\n",
      "   ------- -------------------------------- 0.6/3.5 MB 2.8 MB/s eta 0:00:02\n",
      "   ----------- ---------------------------- 1.0/3.5 MB 3.5 MB/s eta 0:00:01\n",
      "   --------------------------- ------------ 2.4/3.5 MB 7.2 MB/s eta 0:00:01\n",
      "   ---------------------------------------- 3.5/3.5 MB 9.3 MB/s eta 0:00:00\n",
      "Downloading usearch-2.16.6-cp311-cp311-win_amd64.whl (291 kB)\n",
      "   ---------------------------------------- 0.0/291.2 kB ? eta -:--:--\n",
      "   --------------------------------------- 291.2/291.2 kB 17.6 MB/s eta 0:00:00\n",
      "Downloading jaxtyping-0.2.36-py3-none-any.whl (55 kB)\n",
      "   ---------------------------------------- 0.0/55.8 kB ? eta -:--:--\n",
      "   ---------------------------------------- 55.8/55.8 kB ? eta 0:00:00\n",
      "Downloading onnx-1.17.0-cp311-cp311-win_amd64.whl (14.5 MB)\n",
      "   ---------------------------------------- 0.0/14.5 MB ? eta -:--:--\n",
      "   ---- ----------------------------------- 1.5/14.5 MB 48.2 MB/s eta 0:00:01\n",
      "   -------- ------------------------------- 3.0/14.5 MB 38.2 MB/s eta 0:00:01\n",
      "   --------- ------------------------------ 3.6/14.5 MB 28.5 MB/s eta 0:00:01\n",
      "   ----------- ---------------------------- 4.2/14.5 MB 24.3 MB/s eta 0:00:01\n",
      "   --------------- ------------------------ 5.7/14.5 MB 26.2 MB/s eta 0:00:01\n",
      "   -------------------- ------------------- 7.3/14.5 MB 27.4 MB/s eta 0:00:01\n",
      "   ----------------------- ---------------- 8.6/14.5 MB 27.4 MB/s eta 0:00:01\n",
      "   -------------------------- ------------- 9.7/14.5 MB 27.1 MB/s eta 0:00:01\n",
      "   ------------------------------ --------- 10.9/14.5 MB 26.2 MB/s eta 0:00:01\n",
      "   --------------------------------- ------ 12.2/14.5 MB 25.2 MB/s eta 0:00:01\n",
      "   ------------------------------------ --- 13.4/14.5 MB 25.2 MB/s eta 0:00:01\n",
      "   ---------------------------------------  14.5/14.5 MB 28.4 MB/s eta 0:00:01\n",
      "   ---------------------------------------- 14.5/14.5 MB 27.3 MB/s eta 0:00:00\n",
      "Downloading onnxruntime-1.20.1-cp311-cp311-win_amd64.whl (11.3 MB)\n",
      "   ---------------------------------------- 0.0/11.3 MB ? eta -:--:--\n",
      "   --- ------------------------------------ 1.1/11.3 MB 35.3 MB/s eta 0:00:01\n",
      "   --------- ------------------------------ 2.6/11.3 MB 33.0 MB/s eta 0:00:01\n",
      "   -------------- ------------------------- 4.0/11.3 MB 31.9 MB/s eta 0:00:01\n",
      "   ------------------- -------------------- 5.5/11.3 MB 31.7 MB/s eta 0:00:01\n",
      "   ------------------------ --------------- 6.9/11.3 MB 31.4 MB/s eta 0:00:01\n",
      "   ----------------------------- ---------- 8.4/11.3 MB 31.5 MB/s eta 0:00:01\n",
      "   ---------------------------------- ----- 9.9/11.3 MB 31.5 MB/s eta 0:00:01\n",
      "   ---------------------------------------  11.3/11.3 MB 31.2 MB/s eta 0:00:01\n",
      "   ---------------------------------------- 11.3/11.3 MB 29.7 MB/s eta 0:00:00\n",
      "Using cached tabulate-0.9.0-py3-none-any.whl (35 kB)\n",
      "Downloading termcolor-2.5.0-py3-none-any.whl (7.8 kB)\n",
      "Downloading alabaster-1.0.0-py3-none-any.whl (13 kB)\n",
      "Using cached imagesize-1.4.1-py2.py3-none-any.whl (8.8 kB)\n",
      "Using cached latexcodec-3.0.0-py3-none-any.whl (18 kB)\n",
      "Using cached mdurl-0.1.2-py3-none-any.whl (10.0 kB)\n",
      "Downloading protobuf-5.28.3-cp310-abi3-win_amd64.whl (431 kB)\n",
      "   ---------------------------------------- 0.0/431.5 kB ? eta -:--:--\n",
      "   -------------------------------- ------- 348.2/431.5 kB 7.2 MB/s eta 0:00:01\n",
      "   ---------------------------------------- 431.5/431.5 kB 5.4 MB/s eta 0:00:00\n",
      "Using cached snowballstemmer-2.2.0-py2.py3-none-any.whl (93 kB)\n",
      "Downloading sphinxcontrib_applehelp-2.0.0-py3-none-any.whl (119 kB)\n",
      "   ---------------------------------------- 0.0/119.3 kB ? eta -:--:--\n",
      "   ---------------------------------------- 119.3/119.3 kB ? eta 0:00:00\n",
      "Downloading sphinxcontrib_devhelp-2.0.0-py3-none-any.whl (82 kB)\n",
      "   ---------------------------------------- 0.0/82.5 kB ? eta -:--:--\n",
      "   ---------------------------------------- 82.5/82.5 kB ? eta 0:00:00\n",
      "Downloading sphinxcontrib_htmlhelp-2.1.0-py3-none-any.whl (98 kB)\n",
      "   ---------------------------------------- 0.0/98.7 kB ? eta -:--:--\n",
      "   ---------------------------------------- 98.7/98.7 kB ? eta 0:00:00\n",
      "Using cached sphinxcontrib_jsmath-1.0.1-py2.py3-none-any.whl (5.1 kB)\n",
      "Downloading sphinxcontrib_qthelp-2.0.0-py3-none-any.whl (88 kB)\n",
      "   ---------------------------------------- 0.0/88.7 kB ? eta -:--:--\n",
      "   ---------------------------------------- 88.7/88.7 kB ? eta 0:00:00\n",
      "Downloading sphinxcontrib_serializinghtml-2.0.0-py3-none-any.whl (92 kB)\n",
      "   ---------------------------------------- 0.0/92.1 kB ? eta -:--:--\n",
      "   ---------------------------------------- 92.1/92.1 kB ? eta 0:00:00\n",
      "Using cached coloredlogs-15.0.1-py2.py3-none-any.whl (46 kB)\n",
      "Using cached flatbuffers-24.3.25-py2.py3-none-any.whl (26 kB)\n",
      "Downloading sympy-1.13.3-py3-none-any.whl (6.2 MB)\n",
      "   ---------------------------------------- 0.0/6.2 MB ? eta -:--:--\n",
      "   -------- ------------------------------- 1.2/6.2 MB 38.4 MB/s eta 0:00:01\n",
      "   ----------------- ---------------------- 2.7/6.2 MB 33.8 MB/s eta 0:00:01\n",
      "   ----------------------- ---------------- 3.6/6.2 MB 28.4 MB/s eta 0:00:01\n",
      "   ------------------------------ --------- 4.7/6.2 MB 27.4 MB/s eta 0:00:01\n",
      "   -------------------------------------- - 5.9/6.2 MB 26.8 MB/s eta 0:00:01\n",
      "   ---------------------------------------- 6.2/6.2 MB 26.3 MB/s eta 0:00:00\n",
      "Using cached humanfriendly-10.0-py2.py3-none-any.whl (86 kB)\n",
      "Using cached mpmath-1.3.0-py3-none-any.whl (536 kB)\n",
      "Downloading pyreadline3-3.5.4-py3-none-any.whl (83 kB)\n",
      "   ---------------------------------------- 0.0/83.2 kB ? eta -:--:--\n",
      "   ---------------------------------------- 83.2/83.2 kB ? eta 0:00:00\n",
      "Building wheels for collected packages: fire, pybloom-live, pyspark\n",
      "  Building wheel for fire (setup.py): started\n",
      "  Building wheel for fire (setup.py): finished with status 'done'\n",
      "  Created wheel for fire: filename=fire-0.6.0-py2.py3-none-any.whl size=117048 sha256=1fa0f33ff078aa233d3f8dd84714f3cf9bf5dcda9b447666ab6f4c839a044c1b\n",
      "  Stored in directory: c:\\users\\유동호\\appdata\\local\\pip\\cache\\wheels\\6a\\f3\\0c\\fa347dfa663f573462c6533d259c2c859e97e103d1ce21538f\n",
      "  Building wheel for pybloom-live (setup.py): started\n",
      "  Building wheel for pybloom-live (setup.py): finished with status 'done'\n",
      "  Created wheel for pybloom-live: filename=pybloom_live-4.0.0-py3-none-any.whl size=9240 sha256=9aca366cba6a811886761e6357bc65a80d2763cb37d527742f6852871bcafd4d\n",
      "  Stored in directory: c:\\users\\유동호\\appdata\\local\\pip\\cache\\wheels\\d6\\f1\\55\\dbeaddc16a14280450dc659572d0281ba5dd99a2bf1925d57c\n",
      "  Building wheel for pyspark (setup.py): started\n",
      "  Building wheel for pyspark (setup.py): finished with status 'done'\n",
      "  Created wheel for pyspark: filename=pyspark-3.5.3-py2.py3-none-any.whl size=317840670 sha256=c1d413dff4c7c3c4933c17cfb501eb1c87d58f09301984301ac050fad00f5ce9\n",
      "  Stored in directory: c:\\users\\유동호\\appdata\\local\\pip\\cache\\wheels\\97\\f5\\c0\\947e2c0942b361ffe58651f36bd7f13772675b3863fd63d1b1\n",
      "Successfully built fire pybloom-live pyspark\n",
      "Installing collected packages: snowballstemmer, py4j, mpmath, flatbuffers, bitarray, zstandard, urllib3, termcolor, tabulate, sympy, sphinxcontrib-serializinghtml, sphinxcontrib-qthelp, sphinxcontrib-jsmath, sphinxcontrib-htmlhelp, sphinxcontrib-devhelp, sphinxcontrib-applehelp, setuptools, regex, pyspark, pyreadline3, pybloom-live, protobuf, numpy, mdurl, latexcodec, jaxtyping, imagesize, ftfy, docutils, alabaster, usearch, scipy, pybtex, onnx, markdown-it-py, humanfriendly, fire, click-option-group, Sphinx, rich, pybtex-docutils, coloredlogs, sphinxcontrib-bibtex, onnxruntime, unisim, text-dedup\n",
      "  Attempting uninstall: urllib3\n",
      "    Found existing installation: urllib3 2.2.2\n",
      "    Uninstalling urllib3-2.2.2:\n",
      "      Successfully uninstalled urllib3-2.2.2\n",
      "  Attempting uninstall: setuptools\n",
      "    Found existing installation: setuptools 68.2.0\n",
      "    Uninstalling setuptools-68.2.0:\n",
      "      Successfully uninstalled setuptools-68.2.0\n",
      "  Attempting uninstall: numpy\n",
      "    Found existing installation: numpy 1.24.4\n",
      "    Uninstalling numpy-1.24.4:\n"
     ]
    },
    {
     "name": "stderr",
     "output_type": "stream",
     "text": [
      "ERROR: Could not install packages due to an OSError: [WinError 5] Access is denied: 'd:\\\\dev\\\\korean-datasets\\\\venv3\\\\lib\\\\site-packages\\\\numpy\\\\linalg\\\\_umath_linalg.cp311-win_amd64.pyd'\n",
      "Check the permissions.\n",
      "\n",
      "\n",
      "[notice] A new release of pip is available: 23.2.1 -> 24.3.1\n",
      "[notice] To update, run: python.exe -m pip install --upgrade pip\n"
     ]
    }
   ],
   "execution_count": 12
  },
  {
   "metadata": {},
   "cell_type": "markdown",
   "source": "## launch in wsl or linux",
   "id": "9bf489c0ef745020"
  },
  {
   "metadata": {
    "ExecuteTime": {
     "end_time": "2024-11-25T15:18:50.534869Z",
     "start_time": "2024-11-25T15:16:38.840940Z"
    }
   },
   "cell_type": "code",
   "source": [
    "# run dedup_by_cluster.sh to dedup corpus. for me, it took 1h 23m and its cost was about $10. <=10% files were deduplicated.\n",
    "\n",
    "from datasets import load_from_disk\n",
    "\n",
    "corpus_ds = load_from_disk(\"/mnt/e/2024/datasets_filtered/CORPUS\")\n",
    "\n",
    "corpus_ds.save_to_disk('/home/devngho/CORPUS')\n",
    "\n",
    "corpus_ds_wsl = load_from_disk('/home/devngho/CORPUS')\n",
    "\n",
    "corpus_ds_wsl.to_parquet(\"gs://devngho-dedup-clusters/input\", storage_options={\"project\": input(\"project\"), \"token\": '\\\\\\\\wsl.localhost\\\\Ubuntu\\\\home\\\\devngho\\\\.config\\\\gcloud\\\\application_default_credentials.json'}, compression=\"NONE\", batch_size=10000)"
   ],
   "id": "6de9bab97111ba17",
   "outputs": [
    {
     "data": {
      "text/plain": [
       "Loading dataset from disk:   0%|          | 0/57 [00:00<?, ?it/s]"
      ],
      "application/vnd.jupyter.widget-view+json": {
       "version_major": 2,
       "version_minor": 0,
       "model_id": "8bc4fb65a26e4de5abf795627f12f3b5"
      }
     },
     "metadata": {},
     "output_type": "display_data"
    },
    {
     "ename": "ValueError",
     "evalue": "Invalid gcloud credentials",
     "output_type": "error",
     "traceback": [
      "\u001B[1;31m---------------------------------------------------------------------------\u001B[0m",
      "\u001B[1;31mTransportError\u001B[0m                            Traceback (most recent call last)",
      "File \u001B[1;32mD:\\dev\\korean-datasets\\venv3\\Lib\\site-packages\\google\\auth\\compute_engine\\credentials.py:126\u001B[0m, in \u001B[0;36mCredentials.refresh\u001B[1;34m(self, request)\u001B[0m\n\u001B[0;32m    125\u001B[0m \u001B[38;5;28;01mtry\u001B[39;00m:\n\u001B[1;32m--> 126\u001B[0m     \u001B[38;5;28;43mself\u001B[39;49m\u001B[38;5;241;43m.\u001B[39;49m\u001B[43m_retrieve_info\u001B[49m\u001B[43m(\u001B[49m\u001B[43mrequest\u001B[49m\u001B[43m)\u001B[49m\n\u001B[0;32m    127\u001B[0m     \u001B[38;5;28mself\u001B[39m\u001B[38;5;241m.\u001B[39mtoken, \u001B[38;5;28mself\u001B[39m\u001B[38;5;241m.\u001B[39mexpiry \u001B[38;5;241m=\u001B[39m _metadata\u001B[38;5;241m.\u001B[39mget_service_account_token(\n\u001B[0;32m    128\u001B[0m         request, service_account\u001B[38;5;241m=\u001B[39m\u001B[38;5;28mself\u001B[39m\u001B[38;5;241m.\u001B[39m_service_account_email, scopes\u001B[38;5;241m=\u001B[39mscopes\n\u001B[0;32m    129\u001B[0m     )\n",
      "File \u001B[1;32mD:\\dev\\korean-datasets\\venv3\\Lib\\site-packages\\google\\auth\\compute_engine\\credentials.py:99\u001B[0m, in \u001B[0;36mCredentials._retrieve_info\u001B[1;34m(self, request)\u001B[0m\n\u001B[0;32m     91\u001B[0m \u001B[38;5;250m\u001B[39m\u001B[38;5;124;03m\"\"\"Retrieve information about the service account.\u001B[39;00m\n\u001B[0;32m     92\u001B[0m \n\u001B[0;32m     93\u001B[0m \u001B[38;5;124;03mUpdates the scopes and retrieves the full service account email.\u001B[39;00m\n\u001B[1;32m   (...)\u001B[0m\n\u001B[0;32m     97\u001B[0m \u001B[38;5;124;03m        HTTP requests.\u001B[39;00m\n\u001B[0;32m     98\u001B[0m \u001B[38;5;124;03m\"\"\"\u001B[39;00m\n\u001B[1;32m---> 99\u001B[0m info \u001B[38;5;241m=\u001B[39m \u001B[43m_metadata\u001B[49m\u001B[38;5;241;43m.\u001B[39;49m\u001B[43mget_service_account_info\u001B[49m\u001B[43m(\u001B[49m\n\u001B[0;32m    100\u001B[0m \u001B[43m    \u001B[49m\u001B[43mrequest\u001B[49m\u001B[43m,\u001B[49m\u001B[43m \u001B[49m\u001B[43mservice_account\u001B[49m\u001B[38;5;241;43m=\u001B[39;49m\u001B[38;5;28;43mself\u001B[39;49m\u001B[38;5;241;43m.\u001B[39;49m\u001B[43m_service_account_email\u001B[49m\n\u001B[0;32m    101\u001B[0m \u001B[43m\u001B[49m\u001B[43m)\u001B[49m\n\u001B[0;32m    103\u001B[0m \u001B[38;5;28mself\u001B[39m\u001B[38;5;241m.\u001B[39m_service_account_email \u001B[38;5;241m=\u001B[39m info[\u001B[38;5;124m\"\u001B[39m\u001B[38;5;124memail\u001B[39m\u001B[38;5;124m\"\u001B[39m]\n",
      "File \u001B[1;32mD:\\dev\\korean-datasets\\venv3\\Lib\\site-packages\\google\\auth\\compute_engine\\_metadata.py:330\u001B[0m, in \u001B[0;36mget_service_account_info\u001B[1;34m(request, service_account)\u001B[0m\n\u001B[0;32m    328\u001B[0m \u001B[38;5;66;03m# See https://cloud.google.com/compute/docs/metadata#aggcontents\u001B[39;00m\n\u001B[0;32m    329\u001B[0m \u001B[38;5;66;03m# for more on the use of 'recursive'.\u001B[39;00m\n\u001B[1;32m--> 330\u001B[0m \u001B[38;5;28;01mreturn\u001B[39;00m \u001B[43mget\u001B[49m\u001B[43m(\u001B[49m\u001B[43mrequest\u001B[49m\u001B[43m,\u001B[49m\u001B[43m \u001B[49m\u001B[43mpath\u001B[49m\u001B[43m,\u001B[49m\u001B[43m \u001B[49m\u001B[43mparams\u001B[49m\u001B[38;5;241;43m=\u001B[39;49m\u001B[43m{\u001B[49m\u001B[38;5;124;43m\"\u001B[39;49m\u001B[38;5;124;43mrecursive\u001B[39;49m\u001B[38;5;124;43m\"\u001B[39;49m\u001B[43m:\u001B[49m\u001B[43m \u001B[49m\u001B[38;5;124;43m\"\u001B[39;49m\u001B[38;5;124;43mtrue\u001B[39;49m\u001B[38;5;124;43m\"\u001B[39;49m\u001B[43m}\u001B[49m\u001B[43m)\u001B[49m\n",
      "File \u001B[1;32mD:\\dev\\korean-datasets\\venv3\\Lib\\site-packages\\google\\auth\\compute_engine\\_metadata.py:229\u001B[0m, in \u001B[0;36mget\u001B[1;34m(request, path, root, params, recursive, retry_count, headers, return_none_for_not_found_error)\u001B[0m\n\u001B[0;32m    228\u001B[0m \u001B[38;5;28;01melse\u001B[39;00m:\n\u001B[1;32m--> 229\u001B[0m     \u001B[38;5;28;01mraise\u001B[39;00m exceptions\u001B[38;5;241m.\u001B[39mTransportError(\n\u001B[0;32m    230\u001B[0m         \u001B[38;5;124m\"\u001B[39m\u001B[38;5;124mFailed to retrieve \u001B[39m\u001B[38;5;132;01m{}\u001B[39;00m\u001B[38;5;124m from the Google Compute Engine \u001B[39m\u001B[38;5;124m\"\u001B[39m\n\u001B[0;32m    231\u001B[0m         \u001B[38;5;124m\"\u001B[39m\u001B[38;5;124mmetadata service. Compute Engine Metadata server unavailable\u001B[39m\u001B[38;5;124m\"\u001B[39m\u001B[38;5;241m.\u001B[39mformat(url)\n\u001B[0;32m    232\u001B[0m     )\n\u001B[0;32m    234\u001B[0m content \u001B[38;5;241m=\u001B[39m _helpers\u001B[38;5;241m.\u001B[39mfrom_bytes(response\u001B[38;5;241m.\u001B[39mdata)\n",
      "\u001B[1;31mTransportError\u001B[0m: Failed to retrieve http://metadata.google.internal/computeMetadata/v1/instance/service-accounts/default/?recursive=true from the Google Compute Engine metadata service. Compute Engine Metadata server unavailable",
      "\nThe above exception was the direct cause of the following exception:\n",
      "\u001B[1;31mRefreshError\u001B[0m                              Traceback (most recent call last)",
      "File \u001B[1;32mD:\\dev\\korean-datasets\\venv3\\Lib\\site-packages\\gcsfs\\credentials.py:97\u001B[0m, in \u001B[0;36mGoogleCredentials._connect_cloud\u001B[1;34m(self)\u001B[0m\n\u001B[0;32m     96\u001B[0m         req \u001B[38;5;241m=\u001B[39m Request(session)\n\u001B[1;32m---> 97\u001B[0m         \u001B[38;5;28;43mself\u001B[39;49m\u001B[38;5;241;43m.\u001B[39;49m\u001B[43mcredentials\u001B[49m\u001B[38;5;241;43m.\u001B[39;49m\u001B[43mrefresh\u001B[49m\u001B[43m(\u001B[49m\u001B[43mreq\u001B[49m\u001B[43m)\u001B[49m\n\u001B[0;32m     98\u001B[0m \u001B[38;5;28;01mexcept\u001B[39;00m gauth\u001B[38;5;241m.\u001B[39mexceptions\u001B[38;5;241m.\u001B[39mRefreshError \u001B[38;5;28;01mas\u001B[39;00m error:\n",
      "File \u001B[1;32mD:\\dev\\korean-datasets\\venv3\\Lib\\site-packages\\google\\auth\\compute_engine\\credentials.py:132\u001B[0m, in \u001B[0;36mCredentials.refresh\u001B[1;34m(self, request)\u001B[0m\n\u001B[0;32m    131\u001B[0m new_exc \u001B[38;5;241m=\u001B[39m exceptions\u001B[38;5;241m.\u001B[39mRefreshError(caught_exc)\n\u001B[1;32m--> 132\u001B[0m \u001B[38;5;28;01mraise\u001B[39;00m new_exc \u001B[38;5;28;01mfrom\u001B[39;00m \u001B[38;5;21;01mcaught_exc\u001B[39;00m\n",
      "\u001B[1;31mRefreshError\u001B[0m: Failed to retrieve http://metadata.google.internal/computeMetadata/v1/instance/service-accounts/default/?recursive=true from the Google Compute Engine metadata service. Compute Engine Metadata server unavailable",
      "\nThe above exception was the direct cause of the following exception:\n",
      "\u001B[1;31mValueError\u001B[0m                                Traceback (most recent call last)",
      "Cell \u001B[1;32mIn[1], line 7\u001B[0m\n\u001B[0;32m      3\u001B[0m \u001B[38;5;28;01mfrom\u001B[39;00m \u001B[38;5;21;01mdatasets\u001B[39;00m \u001B[38;5;28;01mimport\u001B[39;00m load_from_disk\n\u001B[0;32m      5\u001B[0m corpus_ds \u001B[38;5;241m=\u001B[39m load_from_disk(\u001B[38;5;124m\"\u001B[39m\u001B[38;5;124mE:\u001B[39m\u001B[38;5;130;01m\\\\\u001B[39;00m\u001B[38;5;124m2024/datasets_filtered/CORPUS\u001B[39m\u001B[38;5;124m\"\u001B[39m)\n\u001B[1;32m----> 7\u001B[0m \u001B[43mcorpus_ds\u001B[49m\u001B[38;5;241;43m.\u001B[39;49m\u001B[43msave_to_disk\u001B[49m\u001B[43m(\u001B[49m\u001B[38;5;124;43m\"\u001B[39;49m\u001B[38;5;124;43mgs://devngho-dedup-cluster/input\u001B[39;49m\u001B[38;5;124;43m\"\u001B[39;49m\u001B[43m,\u001B[49m\u001B[43m \u001B[49m\u001B[43mstorage_options\u001B[49m\u001B[38;5;241;43m=\u001B[39;49m\u001B[43m{\u001B[49m\u001B[38;5;124;43m\"\u001B[39;49m\u001B[38;5;124;43mproject\u001B[39;49m\u001B[38;5;124;43m\"\u001B[39;49m\u001B[43m:\u001B[49m\u001B[43m \u001B[49m\u001B[38;5;28;43minput\u001B[39;49m\u001B[43m(\u001B[49m\u001B[38;5;124;43m\"\u001B[39;49m\u001B[38;5;124;43mproject\u001B[39;49m\u001B[38;5;124;43m\"\u001B[39;49m\u001B[43m)\u001B[49m\u001B[43m,\u001B[49m\u001B[43m \u001B[49m\u001B[38;5;124;43m\"\u001B[39;49m\u001B[38;5;124;43mtoken\u001B[39;49m\u001B[38;5;124;43m\"\u001B[39;49m\u001B[43m:\u001B[49m\u001B[43m \u001B[49m\u001B[38;5;124;43m\"\u001B[39;49m\u001B[38;5;124;43mcloud\u001B[39;49m\u001B[38;5;124;43m\"\u001B[39;49m\u001B[43m}\u001B[49m\u001B[43m)\u001B[49m\n",
      "File \u001B[1;32mD:\\dev\\korean-datasets\\venv3\\Lib\\site-packages\\datasets\\arrow_dataset.py:1515\u001B[0m, in \u001B[0;36mDataset.save_to_disk\u001B[1;34m(self, dataset_path, fs, max_shard_size, num_shards, num_proc, storage_options)\u001B[0m\n\u001B[0;32m   1512\u001B[0m num_shards \u001B[38;5;241m=\u001B[39m num_shards \u001B[38;5;28;01mif\u001B[39;00m num_shards \u001B[38;5;129;01mis\u001B[39;00m \u001B[38;5;129;01mnot\u001B[39;00m \u001B[38;5;28;01mNone\u001B[39;00m \u001B[38;5;28;01melse\u001B[39;00m num_proc\n\u001B[0;32m   1514\u001B[0m fs: fsspec\u001B[38;5;241m.\u001B[39mAbstractFileSystem\n\u001B[1;32m-> 1515\u001B[0m fs, _ \u001B[38;5;241m=\u001B[39m \u001B[43murl_to_fs\u001B[49m\u001B[43m(\u001B[49m\u001B[43mdataset_path\u001B[49m\u001B[43m,\u001B[49m\u001B[43m \u001B[49m\u001B[38;5;241;43m*\u001B[39;49m\u001B[38;5;241;43m*\u001B[39;49m\u001B[43m(\u001B[49m\u001B[43mstorage_options\u001B[49m\u001B[43m \u001B[49m\u001B[38;5;129;43;01mor\u001B[39;49;00m\u001B[43m \u001B[49m\u001B[43m{\u001B[49m\u001B[43m}\u001B[49m\u001B[43m)\u001B[49m\u001B[43m)\u001B[49m\n\u001B[0;32m   1517\u001B[0m \u001B[38;5;28;01mif\u001B[39;00m \u001B[38;5;129;01mnot\u001B[39;00m is_remote_filesystem(fs):\n\u001B[0;32m   1518\u001B[0m     parent_cache_files_paths \u001B[38;5;241m=\u001B[39m {\n\u001B[0;32m   1519\u001B[0m         Path(cache_filename[\u001B[38;5;124m\"\u001B[39m\u001B[38;5;124mfilename\u001B[39m\u001B[38;5;124m\"\u001B[39m])\u001B[38;5;241m.\u001B[39mresolve()\u001B[38;5;241m.\u001B[39mparent \u001B[38;5;28;01mfor\u001B[39;00m cache_filename \u001B[38;5;129;01min\u001B[39;00m \u001B[38;5;28mself\u001B[39m\u001B[38;5;241m.\u001B[39mcache_files\n\u001B[0;32m   1520\u001B[0m     }\n",
      "File \u001B[1;32mD:\\dev\\korean-datasets\\venv3\\Lib\\site-packages\\fsspec\\core.py:411\u001B[0m, in \u001B[0;36murl_to_fs\u001B[1;34m(url, **kwargs)\u001B[0m\n\u001B[0;32m    409\u001B[0m     inkwargs[\u001B[38;5;124m\"\u001B[39m\u001B[38;5;124mfo\u001B[39m\u001B[38;5;124m\"\u001B[39m] \u001B[38;5;241m=\u001B[39m urls\n\u001B[0;32m    410\u001B[0m urlpath, protocol, _ \u001B[38;5;241m=\u001B[39m chain[\u001B[38;5;241m0\u001B[39m]\n\u001B[1;32m--> 411\u001B[0m fs \u001B[38;5;241m=\u001B[39m \u001B[43mfilesystem\u001B[49m\u001B[43m(\u001B[49m\u001B[43mprotocol\u001B[49m\u001B[43m,\u001B[49m\u001B[43m \u001B[49m\u001B[38;5;241;43m*\u001B[39;49m\u001B[38;5;241;43m*\u001B[39;49m\u001B[43minkwargs\u001B[49m\u001B[43m)\u001B[49m\n\u001B[0;32m    412\u001B[0m \u001B[38;5;28;01mreturn\u001B[39;00m fs, urlpath\n",
      "File \u001B[1;32mD:\\dev\\korean-datasets\\venv3\\Lib\\site-packages\\fsspec\\registry.py:303\u001B[0m, in \u001B[0;36mfilesystem\u001B[1;34m(protocol, **storage_options)\u001B[0m\n\u001B[0;32m    296\u001B[0m     warnings\u001B[38;5;241m.\u001B[39mwarn(\n\u001B[0;32m    297\u001B[0m         \u001B[38;5;124m\"\u001B[39m\u001B[38;5;124mThe \u001B[39m\u001B[38;5;124m'\u001B[39m\u001B[38;5;124marrow_hdfs\u001B[39m\u001B[38;5;124m'\u001B[39m\u001B[38;5;124m protocol has been deprecated and will be \u001B[39m\u001B[38;5;124m\"\u001B[39m\n\u001B[0;32m    298\u001B[0m         \u001B[38;5;124m\"\u001B[39m\u001B[38;5;124mremoved in the future. Specify it as \u001B[39m\u001B[38;5;124m'\u001B[39m\u001B[38;5;124mhdfs\u001B[39m\u001B[38;5;124m'\u001B[39m\u001B[38;5;124m.\u001B[39m\u001B[38;5;124m\"\u001B[39m,\n\u001B[0;32m    299\u001B[0m         \u001B[38;5;167;01mDeprecationWarning\u001B[39;00m,\n\u001B[0;32m    300\u001B[0m     )\n\u001B[0;32m    302\u001B[0m \u001B[38;5;28mcls\u001B[39m \u001B[38;5;241m=\u001B[39m get_filesystem_class(protocol)\n\u001B[1;32m--> 303\u001B[0m \u001B[38;5;28;01mreturn\u001B[39;00m \u001B[38;5;28;43mcls\u001B[39;49m\u001B[43m(\u001B[49m\u001B[38;5;241;43m*\u001B[39;49m\u001B[38;5;241;43m*\u001B[39;49m\u001B[43mstorage_options\u001B[49m\u001B[43m)\u001B[49m\n",
      "File \u001B[1;32mD:\\dev\\korean-datasets\\venv3\\Lib\\site-packages\\fsspec\\spec.py:81\u001B[0m, in \u001B[0;36m_Cached.__call__\u001B[1;34m(cls, *args, **kwargs)\u001B[0m\n\u001B[0;32m     79\u001B[0m     \u001B[38;5;28;01mreturn\u001B[39;00m \u001B[38;5;28mcls\u001B[39m\u001B[38;5;241m.\u001B[39m_cache[token]\n\u001B[0;32m     80\u001B[0m \u001B[38;5;28;01melse\u001B[39;00m:\n\u001B[1;32m---> 81\u001B[0m     obj \u001B[38;5;241m=\u001B[39m \u001B[38;5;28;43msuper\u001B[39;49m\u001B[43m(\u001B[49m\u001B[43m)\u001B[49m\u001B[38;5;241;43m.\u001B[39;49m\u001B[38;5;21;43m__call__\u001B[39;49m\u001B[43m(\u001B[49m\u001B[38;5;241;43m*\u001B[39;49m\u001B[43margs\u001B[49m\u001B[43m,\u001B[49m\u001B[43m \u001B[49m\u001B[38;5;241;43m*\u001B[39;49m\u001B[38;5;241;43m*\u001B[39;49m\u001B[43mkwargs\u001B[49m\u001B[43m)\u001B[49m\n\u001B[0;32m     82\u001B[0m     \u001B[38;5;66;03m# Setting _fs_token here causes some static linters to complain.\u001B[39;00m\n\u001B[0;32m     83\u001B[0m     obj\u001B[38;5;241m.\u001B[39m_fs_token_ \u001B[38;5;241m=\u001B[39m token\n",
      "File \u001B[1;32mD:\\dev\\korean-datasets\\venv3\\Lib\\site-packages\\gcsfs\\core.py:319\u001B[0m, in \u001B[0;36mGCSFileSystem.__init__\u001B[1;34m(self, project, access, token, block_size, consistency, cache_timeout, secure_serialize, check_connection, requests_timeout, requester_pays, asynchronous, session_kwargs, loop, timeout, endpoint_url, default_location, version_aware, **kwargs)\u001B[0m\n\u001B[0;32m    313\u001B[0m \u001B[38;5;28;01mif\u001B[39;00m check_connection:\n\u001B[0;32m    314\u001B[0m     warnings\u001B[38;5;241m.\u001B[39mwarn(\n\u001B[0;32m    315\u001B[0m         \u001B[38;5;124m\"\u001B[39m\u001B[38;5;124mThe `check_connection` argument is deprecated and will be removed in a future release.\u001B[39m\u001B[38;5;124m\"\u001B[39m,\n\u001B[0;32m    316\u001B[0m         \u001B[38;5;167;01mDeprecationWarning\u001B[39;00m,\n\u001B[0;32m    317\u001B[0m     )\n\u001B[1;32m--> 319\u001B[0m \u001B[38;5;28mself\u001B[39m\u001B[38;5;241m.\u001B[39mcredentials \u001B[38;5;241m=\u001B[39m \u001B[43mGoogleCredentials\u001B[49m\u001B[43m(\u001B[49m\u001B[43mproject\u001B[49m\u001B[43m,\u001B[49m\u001B[43m \u001B[49m\u001B[43maccess\u001B[49m\u001B[43m,\u001B[49m\u001B[43m \u001B[49m\u001B[43mtoken\u001B[49m\u001B[43m)\u001B[49m\n",
      "File \u001B[1;32mD:\\dev\\korean-datasets\\venv3\\Lib\\site-packages\\gcsfs\\credentials.py:50\u001B[0m, in \u001B[0;36mGoogleCredentials.__init__\u001B[1;34m(self, project, access, token, check_credentials)\u001B[0m\n\u001B[0;32m     48\u001B[0m \u001B[38;5;28mself\u001B[39m\u001B[38;5;241m.\u001B[39mlock \u001B[38;5;241m=\u001B[39m threading\u001B[38;5;241m.\u001B[39mLock()\n\u001B[0;32m     49\u001B[0m \u001B[38;5;28mself\u001B[39m\u001B[38;5;241m.\u001B[39mtoken \u001B[38;5;241m=\u001B[39m token\n\u001B[1;32m---> 50\u001B[0m \u001B[38;5;28;43mself\u001B[39;49m\u001B[38;5;241;43m.\u001B[39;49m\u001B[43mconnect\u001B[49m\u001B[43m(\u001B[49m\u001B[43mmethod\u001B[49m\u001B[38;5;241;43m=\u001B[39;49m\u001B[43mtoken\u001B[49m\u001B[43m)\u001B[49m\n\u001B[0;32m     52\u001B[0m \u001B[38;5;28;01mif\u001B[39;00m check_credentials:\n\u001B[0;32m     53\u001B[0m     warnings\u001B[38;5;241m.\u001B[39mwarn(\n\u001B[0;32m     54\u001B[0m         \u001B[38;5;124m\"\u001B[39m\u001B[38;5;124mThe `check_credentials` argument is deprecated and will be removed in a future release.\u001B[39m\u001B[38;5;124m\"\u001B[39m,\n\u001B[0;32m     55\u001B[0m         \u001B[38;5;167;01mDeprecationWarning\u001B[39;00m,\n\u001B[0;32m     56\u001B[0m     )\n",
      "File \u001B[1;32mD:\\dev\\korean-datasets\\venv3\\Lib\\site-packages\\gcsfs\\credentials.py:250\u001B[0m, in \u001B[0;36mGoogleCredentials.connect\u001B[1;34m(self, method)\u001B[0m\n\u001B[0;32m    248\u001B[0m         \u001B[38;5;28;01mraise\u001B[39;00m \u001B[38;5;167;01mRuntimeError\u001B[39;00m(\u001B[38;5;124m\"\u001B[39m\u001B[38;5;124mAll connection methods have failed!\u001B[39m\u001B[38;5;124m\"\u001B[39m)\n\u001B[0;32m    249\u001B[0m \u001B[38;5;28;01melse\u001B[39;00m:\n\u001B[1;32m--> 250\u001B[0m     \u001B[38;5;28;43mself\u001B[39;49m\u001B[38;5;241;43m.\u001B[39;49m\u001B[38;5;21;43m__getattribute__\u001B[39;49m\u001B[43m(\u001B[49m\u001B[38;5;124;43m\"\u001B[39;49m\u001B[38;5;124;43m_connect_\u001B[39;49m\u001B[38;5;124;43m\"\u001B[39;49m\u001B[43m \u001B[49m\u001B[38;5;241;43m+\u001B[39;49m\u001B[43m \u001B[49m\u001B[43mmethod\u001B[49m\u001B[43m)\u001B[49m\u001B[43m(\u001B[49m\u001B[43m)\u001B[49m\n\u001B[0;32m    251\u001B[0m     \u001B[38;5;28mself\u001B[39m\u001B[38;5;241m.\u001B[39mmethod \u001B[38;5;241m=\u001B[39m method\n",
      "File \u001B[1;32mD:\\dev\\korean-datasets\\venv3\\Lib\\site-packages\\gcsfs\\credentials.py:99\u001B[0m, in \u001B[0;36mGoogleCredentials._connect_cloud\u001B[1;34m(self)\u001B[0m\n\u001B[0;32m     97\u001B[0m         \u001B[38;5;28mself\u001B[39m\u001B[38;5;241m.\u001B[39mcredentials\u001B[38;5;241m.\u001B[39mrefresh(req)\n\u001B[0;32m     98\u001B[0m \u001B[38;5;28;01mexcept\u001B[39;00m gauth\u001B[38;5;241m.\u001B[39mexceptions\u001B[38;5;241m.\u001B[39mRefreshError \u001B[38;5;28;01mas\u001B[39;00m error:\n\u001B[1;32m---> 99\u001B[0m     \u001B[38;5;28;01mraise\u001B[39;00m \u001B[38;5;167;01mValueError\u001B[39;00m(\u001B[38;5;124m\"\u001B[39m\u001B[38;5;124mInvalid gcloud credentials\u001B[39m\u001B[38;5;124m\"\u001B[39m) \u001B[38;5;28;01mfrom\u001B[39;00m \u001B[38;5;21;01merror\u001B[39;00m\n",
      "\u001B[1;31mValueError\u001B[0m: Invalid gcloud credentials"
     ]
    }
   ],
   "execution_count": 1
  },
  {
   "metadata": {
    "ExecuteTime": {
     "end_time": "2024-11-24T11:47:18.262742Z",
     "start_time": "2024-11-24T11:47:18.198959Z"
    }
   },
   "cell_type": "code",
   "source": "!python -m text_dedup.minhash --path \"/mnt/e/2024/datasets_filtered/CORPUS_SPOKEN\" --local --split \"train\" --output \"/mnt/e/2024/datasets_dedup/CORPUS_SPOKEN\" --column \"text\" --batch_size 10000",
   "id": "a8155df0ea41a9c9",
   "outputs": [
    {
     "name": "stderr",
     "output_type": "stream",
     "text": [
      "D:\\dev\\korean-datasets\\venv3\\Scripts\\python.exe: Error while finding module specification for 'text_dedup.minhash' (ModuleNotFoundError: No module named 'text_dedup')\n"
     ]
    }
   ],
   "execution_count": 16
  },
  {
   "metadata": {},
   "cell_type": "code",
   "outputs": [],
   "execution_count": null,
   "source": "",
   "id": "86e04e50860177cd"
  },
  {
   "metadata": {},
   "cell_type": "markdown",
   "source": "## download",
   "id": "f119c2ddfdee3511"
  },
  {
   "metadata": {
    "ExecuteTime": {
     "end_time": "2024-11-26T15:44:49.641563Z",
     "start_time": "2024-11-26T15:44:42.270185Z"
    }
   },
   "cell_type": "code",
   "source": [
    "import gcsfs\n",
    "\n",
    "project = input(\"project\")\n",
    "\n",
    "fs = gcsfs.GCSFileSystem(project, token=\"\\\\\\\\wsl.localhost\\\\Ubuntu\\\\home\\\\devngho\\\\.config\\\\gcloud\\\\application_default_credentials.json\")\n",
    "\n",
    "files = fs.listdir(\"gs://devngho-dedup-clusters/output\")"
   ],
   "id": "cb344aa767b3fd9f",
   "outputs": [],
   "execution_count": 1
  },
  {
   "metadata": {
    "ExecuteTime": {
     "end_time": "2024-11-26T15:51:48.366584Z",
     "start_time": "2024-11-26T15:45:15.468856Z"
    }
   },
   "cell_type": "code",
   "source": [
    "from datasets import load_dataset\n",
    "from tqdm.notebook import tqdm\n",
    "\n",
    "datasets = []\n",
    "files = list(filter(lambda x: x['storageClass'] == 'DIRECTORY', files))\n",
    "\n",
    "for file in tqdm(files, total=len(files), desc=\"Downloading deduplicated datasets\"):\n",
    "    directory = fs.listdir(f\"gs://{file['name']}\")\n",
    "    parquet = next(filter(lambda x: x['name'].endswith('.parquet'), directory))\n",
    "    dataset = load_dataset('parquet', data_files={\"train\": f\"gs://{parquet['name']}\"}, split=\"train\", storage_options={\"project\": project, \"token\": \"\\\\\\\\wsl.localhost\\\\Ubuntu\\\\home\\\\devngho\\\\.config\\\\gcloud\\\\application_default_credentials.json\"})\n",
    "    datasets.append(dataset)"
   ],
   "id": "2f1188efdf108475",
   "outputs": [
    {
     "data": {
      "text/plain": [
       "Downloading deduplicated datasets:   0%|          | 0/256 [00:00<?, ?it/s]"
      ],
      "application/vnd.jupyter.widget-view+json": {
       "version_major": 2,
       "version_minor": 0,
       "model_id": "bfad46e9cf984fecae90a67a9163c64e"
      }
     },
     "metadata": {},
     "output_type": "display_data"
    }
   ],
   "execution_count": 2
  },
  {
   "metadata": {
    "ExecuteTime": {
     "end_time": "2024-11-26T15:52:32.522429Z",
     "start_time": "2024-11-26T15:52:32.340761Z"
    }
   },
   "cell_type": "code",
   "source": [
    "from datasets import concatenate_datasets\n",
    "\n",
    "dataset_dedup = concatenate_datasets(datasets)\n",
    "print(dataset_dedup)"
   ],
   "id": "e46a1cd97d1aee92",
   "outputs": [
    {
     "name": "stdout",
     "output_type": "stream",
     "text": [
      "Dataset({\n",
      "    features: ['__id__', 'text'],\n",
      "    num_rows: 16048255\n",
      "})\n"
     ]
    }
   ],
   "execution_count": 6
  },
  {
   "metadata": {
    "ExecuteTime": {
     "end_time": "2024-11-26T15:55:00.702943Z",
     "start_time": "2024-11-26T15:54:26.955390Z"
    }
   },
   "cell_type": "code",
   "source": [
    "from datasets import load_from_disk\n",
    "\n",
    "before = load_from_disk(\"E:\\\\2024/datasets_filtered/CORPUS\")\n",
    "after = dataset_dedup\n",
    "\n",
    "print(f\"Before deduplication: {len(before)}\")\n",
    "print(f\"After deduplication: {len(after)} ({len(before) - len(after)}({(len(before) - len(after)) / len(before) * 100:.2f}%) duplicates removed)\")"
   ],
   "id": "7278cfdddfdcfe4f",
   "outputs": [
    {
     "data": {
      "text/plain": [
       "Loading dataset from disk:   0%|          | 0/57 [00:00<?, ?it/s]"
      ],
      "application/vnd.jupyter.widget-view+json": {
       "version_major": 2,
       "version_minor": 0,
       "model_id": "b5b41f5f8e9940fba825a268acb23481"
      }
     },
     "metadata": {},
     "output_type": "display_data"
    },
    {
     "name": "stdout",
     "output_type": "stream",
     "text": [
      "Before deduplication: 16853440\n",
      "After deduplication: 16048255 (805185(4.78%) duplicates removed)\n"
     ]
    }
   ],
   "execution_count": 9
  },
  {
   "metadata": {
    "ExecuteTime": {
     "end_time": "2024-11-26T16:01:29.041665Z",
     "start_time": "2024-11-26T15:58:37.829677Z"
    }
   },
   "cell_type": "code",
   "source": "dataset_dedup.save_to_disk(\"E:\\\\2024/datasets_dedup/CORPUS\")",
   "id": "5131434d6244a2dc",
   "outputs": [
    {
     "data": {
      "text/plain": [
       "Saving the dataset (0/104 shards):   0%|          | 0/16048255 [00:00<?, ? examples/s]"
      ],
      "application/vnd.jupyter.widget-view+json": {
       "version_major": 2,
       "version_minor": 0,
       "model_id": "4e5f10730a6a4cbea7afbe992a0b8b10"
      }
     },
     "metadata": {},
     "output_type": "display_data"
    }
   ],
   "execution_count": 10
  },
  {
   "metadata": {},
   "cell_type": "markdown",
   "source": "## upload",
   "id": "976f19ef2f1bca2d"
  },
  {
   "metadata": {
    "ExecuteTime": {
     "end_time": "2024-11-26T16:43:50.056961Z",
     "start_time": "2024-11-26T16:43:31.405098Z"
    }
   },
   "cell_type": "code",
   "source": [
    "from datasets import load_from_disk\n",
    "\n",
    "tasks = ['corpus', 'corpus_spoken']\n",
    "# tasks = ['corpus_spoken']\n",
    "\n",
    "corpus_dedup = {k: load_from_disk(f\"E:\\\\2024/datasets_dedup/{k.upper()}\") for k in tasks}"
   ],
   "id": "b2b0733456c96895",
   "outputs": [
    {
     "data": {
      "text/plain": [
       "Loading dataset from disk:   0%|          | 0/104 [00:00<?, ?it/s]"
      ],
      "application/vnd.jupyter.widget-view+json": {
       "version_major": 2,
       "version_minor": 0,
       "model_id": "cc6a69678c0c4f3986849534eb20a0f9"
      }
     },
     "metadata": {},
     "output_type": "display_data"
    }
   ],
   "execution_count": 1
  },
  {
   "metadata": {
    "ExecuteTime": {
     "end_time": "2024-11-26T16:28:42.297134Z",
     "start_time": "2024-11-26T16:02:47.084386Z"
    }
   },
   "cell_type": "code",
   "source": "corpus_dedup['corpus'].push_to_hub('devngho/korean-corpus', private=True)",
   "id": "d20672e3944bc231",
   "outputs": [
    {
     "data": {
      "text/plain": [
       "Uploading the dataset shards:   0%|          | 0/104 [00:00<?, ?it/s]"
      ],
      "application/vnd.jupyter.widget-view+json": {
       "version_major": 2,
       "version_minor": 0,
       "model_id": "7e24b53bebde4ee1a85c584ae19040e6"
      }
     },
     "metadata": {},
     "output_type": "display_data"
    },
    {
     "data": {
      "text/plain": [
       "Creating parquet from Arrow format:   0%|          | 0/155 [00:00<?, ?ba/s]"
      ],
      "application/vnd.jupyter.widget-view+json": {
       "version_major": 2,
       "version_minor": 0,
       "model_id": "267bfa3aff42419e975e29fedccee9ec"
      }
     },
     "metadata": {},
     "output_type": "display_data"
    },
    {
     "data": {
      "text/plain": [
       "Creating parquet from Arrow format:   0%|          | 0/155 [00:00<?, ?ba/s]"
      ],
      "application/vnd.jupyter.widget-view+json": {
       "version_major": 2,
       "version_minor": 0,
       "model_id": "62377c543548455caf47dec3317e5c16"
      }
     },
     "metadata": {},
     "output_type": "display_data"
    },
    {
     "data": {
      "text/plain": [
       "Creating parquet from Arrow format:   0%|          | 0/155 [00:00<?, ?ba/s]"
      ],
      "application/vnd.jupyter.widget-view+json": {
       "version_major": 2,
       "version_minor": 0,
       "model_id": "7a18dcae55df40eb9bb51d8ac7240f65"
      }
     },
     "metadata": {},
     "output_type": "display_data"
    },
    {
     "data": {
      "text/plain": [
       "Creating parquet from Arrow format:   0%|          | 0/155 [00:00<?, ?ba/s]"
      ],
      "application/vnd.jupyter.widget-view+json": {
       "version_major": 2,
       "version_minor": 0,
       "model_id": "f165643998844e16abf5a9ce242e8cf5"
      }
     },
     "metadata": {},
     "output_type": "display_data"
    },
    {
     "data": {
      "text/plain": [
       "Creating parquet from Arrow format:   0%|          | 0/155 [00:00<?, ?ba/s]"
      ],
      "application/vnd.jupyter.widget-view+json": {
       "version_major": 2,
       "version_minor": 0,
       "model_id": "4e8a0ae771094d36ac0738a91b121fad"
      }
     },
     "metadata": {},
     "output_type": "display_data"
    },
    {
     "data": {
      "text/plain": [
       "Creating parquet from Arrow format:   0%|          | 0/155 [00:00<?, ?ba/s]"
      ],
      "application/vnd.jupyter.widget-view+json": {
       "version_major": 2,
       "version_minor": 0,
       "model_id": "172d8a8c9e51413b93c8d0d2351a76e6"
      }
     },
     "metadata": {},
     "output_type": "display_data"
    },
    {
     "data": {
      "text/plain": [
       "Creating parquet from Arrow format:   0%|          | 0/155 [00:00<?, ?ba/s]"
      ],
      "application/vnd.jupyter.widget-view+json": {
       "version_major": 2,
       "version_minor": 0,
       "model_id": "8fee9240b6404ce7a108f6d9cf898b26"
      }
     },
     "metadata": {},
     "output_type": "display_data"
    },
    {
     "data": {
      "text/plain": [
       "Creating parquet from Arrow format:   0%|          | 0/155 [00:00<?, ?ba/s]"
      ],
      "application/vnd.jupyter.widget-view+json": {
       "version_major": 2,
       "version_minor": 0,
       "model_id": "acc0aef512dd4ef9824d2bd63493ae39"
      }
     },
     "metadata": {},
     "output_type": "display_data"
    },
    {
     "data": {
      "text/plain": [
       "Creating parquet from Arrow format:   0%|          | 0/155 [00:00<?, ?ba/s]"
      ],
      "application/vnd.jupyter.widget-view+json": {
       "version_major": 2,
       "version_minor": 0,
       "model_id": "e4d1391e1ee646978827932504e7f91d"
      }
     },
     "metadata": {},
     "output_type": "display_data"
    },
    {
     "data": {
      "text/plain": [
       "Creating parquet from Arrow format:   0%|          | 0/155 [00:00<?, ?ba/s]"
      ],
      "application/vnd.jupyter.widget-view+json": {
       "version_major": 2,
       "version_minor": 0,
       "model_id": "732c5388322a47b79c8964caf6fd221b"
      }
     },
     "metadata": {},
     "output_type": "display_data"
    },
    {
     "data": {
      "text/plain": [
       "Creating parquet from Arrow format:   0%|          | 0/155 [00:00<?, ?ba/s]"
      ],
      "application/vnd.jupyter.widget-view+json": {
       "version_major": 2,
       "version_minor": 0,
       "model_id": "1e738abb679046adbd1c685ec9c4c80d"
      }
     },
     "metadata": {},
     "output_type": "display_data"
    },
    {
     "data": {
      "text/plain": [
       "Creating parquet from Arrow format:   0%|          | 0/155 [00:00<?, ?ba/s]"
      ],
      "application/vnd.jupyter.widget-view+json": {
       "version_major": 2,
       "version_minor": 0,
       "model_id": "0b75b9c0c0c84304be46ddaf177a87bf"
      }
     },
     "metadata": {},
     "output_type": "display_data"
    },
    {
     "data": {
      "text/plain": [
       "Creating parquet from Arrow format:   0%|          | 0/155 [00:00<?, ?ba/s]"
      ],
      "application/vnd.jupyter.widget-view+json": {
       "version_major": 2,
       "version_minor": 0,
       "model_id": "92c06f3fc7fc40bea7bc54041a3ba6ab"
      }
     },
     "metadata": {},
     "output_type": "display_data"
    },
    {
     "data": {
      "text/plain": [
       "Creating parquet from Arrow format:   0%|          | 0/155 [00:00<?, ?ba/s]"
      ],
      "application/vnd.jupyter.widget-view+json": {
       "version_major": 2,
       "version_minor": 0,
       "model_id": "aba2e0a36d76466f9378510b3a80825f"
      }
     },
     "metadata": {},
     "output_type": "display_data"
    },
    {
     "data": {
      "text/plain": [
       "Creating parquet from Arrow format:   0%|          | 0/155 [00:00<?, ?ba/s]"
      ],
      "application/vnd.jupyter.widget-view+json": {
       "version_major": 2,
       "version_minor": 0,
       "model_id": "86464f4aa970417d82433e2bf4e84393"
      }
     },
     "metadata": {},
     "output_type": "display_data"
    },
    {
     "data": {
      "text/plain": [
       "Creating parquet from Arrow format:   0%|          | 0/155 [00:00<?, ?ba/s]"
      ],
      "application/vnd.jupyter.widget-view+json": {
       "version_major": 2,
       "version_minor": 0,
       "model_id": "1c24931934cc434a83ae42cc642b3071"
      }
     },
     "metadata": {},
     "output_type": "display_data"
    },
    {
     "data": {
      "text/plain": [
       "Creating parquet from Arrow format:   0%|          | 0/155 [00:00<?, ?ba/s]"
      ],
      "application/vnd.jupyter.widget-view+json": {
       "version_major": 2,
       "version_minor": 0,
       "model_id": "0c50e697290e457696a30f8ec7a6a3a4"
      }
     },
     "metadata": {},
     "output_type": "display_data"
    },
    {
     "data": {
      "text/plain": [
       "Creating parquet from Arrow format:   0%|          | 0/155 [00:00<?, ?ba/s]"
      ],
      "application/vnd.jupyter.widget-view+json": {
       "version_major": 2,
       "version_minor": 0,
       "model_id": "6f91044b45044fe59872045008e4e67d"
      }
     },
     "metadata": {},
     "output_type": "display_data"
    },
    {
     "data": {
      "text/plain": [
       "Creating parquet from Arrow format:   0%|          | 0/155 [00:00<?, ?ba/s]"
      ],
      "application/vnd.jupyter.widget-view+json": {
       "version_major": 2,
       "version_minor": 0,
       "model_id": "8a0ef1eaa8f64992964b96d48de36166"
      }
     },
     "metadata": {},
     "output_type": "display_data"
    },
    {
     "data": {
      "text/plain": [
       "Creating parquet from Arrow format:   0%|          | 0/155 [00:00<?, ?ba/s]"
      ],
      "application/vnd.jupyter.widget-view+json": {
       "version_major": 2,
       "version_minor": 0,
       "model_id": "d3a36407019a44a6b28216180aea83a2"
      }
     },
     "metadata": {},
     "output_type": "display_data"
    },
    {
     "data": {
      "text/plain": [
       "Creating parquet from Arrow format:   0%|          | 0/155 [00:00<?, ?ba/s]"
      ],
      "application/vnd.jupyter.widget-view+json": {
       "version_major": 2,
       "version_minor": 0,
       "model_id": "6476ad0bac5643b7b918d1ab174b8a8c"
      }
     },
     "metadata": {},
     "output_type": "display_data"
    },
    {
     "data": {
      "text/plain": [
       "Creating parquet from Arrow format:   0%|          | 0/155 [00:00<?, ?ba/s]"
      ],
      "application/vnd.jupyter.widget-view+json": {
       "version_major": 2,
       "version_minor": 0,
       "model_id": "b2e9d211376f4834b61305e0189a667f"
      }
     },
     "metadata": {},
     "output_type": "display_data"
    },
    {
     "data": {
      "text/plain": [
       "Creating parquet from Arrow format:   0%|          | 0/155 [00:00<?, ?ba/s]"
      ],
      "application/vnd.jupyter.widget-view+json": {
       "version_major": 2,
       "version_minor": 0,
       "model_id": "dd13d704786a4df0b9068536587114ba"
      }
     },
     "metadata": {},
     "output_type": "display_data"
    },
    {
     "data": {
      "text/plain": [
       "Creating parquet from Arrow format:   0%|          | 0/155 [00:00<?, ?ba/s]"
      ],
      "application/vnd.jupyter.widget-view+json": {
       "version_major": 2,
       "version_minor": 0,
       "model_id": "5b100304af16451d809524f0ebcbc768"
      }
     },
     "metadata": {},
     "output_type": "display_data"
    },
    {
     "data": {
      "text/plain": [
       "Creating parquet from Arrow format:   0%|          | 0/155 [00:00<?, ?ba/s]"
      ],
      "application/vnd.jupyter.widget-view+json": {
       "version_major": 2,
       "version_minor": 0,
       "model_id": "d4c12a24090e4f47a165ba4e5d85b047"
      }
     },
     "metadata": {},
     "output_type": "display_data"
    },
    {
     "data": {
      "text/plain": [
       "Creating parquet from Arrow format:   0%|          | 0/155 [00:00<?, ?ba/s]"
      ],
      "application/vnd.jupyter.widget-view+json": {
       "version_major": 2,
       "version_minor": 0,
       "model_id": "93c48969413a44dca8523cb55112d2c7"
      }
     },
     "metadata": {},
     "output_type": "display_data"
    },
    {
     "data": {
      "text/plain": [
       "Creating parquet from Arrow format:   0%|          | 0/155 [00:00<?, ?ba/s]"
      ],
      "application/vnd.jupyter.widget-view+json": {
       "version_major": 2,
       "version_minor": 0,
       "model_id": "6fbcec072c3e477eb54908985b36c700"
      }
     },
     "metadata": {},
     "output_type": "display_data"
    },
    {
     "data": {
      "text/plain": [
       "Creating parquet from Arrow format:   0%|          | 0/155 [00:00<?, ?ba/s]"
      ],
      "application/vnd.jupyter.widget-view+json": {
       "version_major": 2,
       "version_minor": 0,
       "model_id": "ad4b3796c90d482fa17f8b83a97b9aa5"
      }
     },
     "metadata": {},
     "output_type": "display_data"
    },
    {
     "data": {
      "text/plain": [
       "Creating parquet from Arrow format:   0%|          | 0/155 [00:00<?, ?ba/s]"
      ],
      "application/vnd.jupyter.widget-view+json": {
       "version_major": 2,
       "version_minor": 0,
       "model_id": "ff3263e1e78244a9b34d7653beeec64c"
      }
     },
     "metadata": {},
     "output_type": "display_data"
    },
    {
     "data": {
      "text/plain": [
       "Creating parquet from Arrow format:   0%|          | 0/155 [00:00<?, ?ba/s]"
      ],
      "application/vnd.jupyter.widget-view+json": {
       "version_major": 2,
       "version_minor": 0,
       "model_id": "c3809b9817484e7d9ea56fd70841da02"
      }
     },
     "metadata": {},
     "output_type": "display_data"
    },
    {
     "data": {
      "text/plain": [
       "Creating parquet from Arrow format:   0%|          | 0/155 [00:00<?, ?ba/s]"
      ],
      "application/vnd.jupyter.widget-view+json": {
       "version_major": 2,
       "version_minor": 0,
       "model_id": "5b048af4f64748e090a24100474aa214"
      }
     },
     "metadata": {},
     "output_type": "display_data"
    },
    {
     "data": {
      "text/plain": [
       "Creating parquet from Arrow format:   0%|          | 0/155 [00:00<?, ?ba/s]"
      ],
      "application/vnd.jupyter.widget-view+json": {
       "version_major": 2,
       "version_minor": 0,
       "model_id": "9578dc9a2df64f07ba9359efb2d2998a"
      }
     },
     "metadata": {},
     "output_type": "display_data"
    },
    {
     "data": {
      "text/plain": [
       "Creating parquet from Arrow format:   0%|          | 0/155 [00:00<?, ?ba/s]"
      ],
      "application/vnd.jupyter.widget-view+json": {
       "version_major": 2,
       "version_minor": 0,
       "model_id": "189f567740a44018a14272cf1af52d04"
      }
     },
     "metadata": {},
     "output_type": "display_data"
    },
    {
     "data": {
      "text/plain": [
       "Creating parquet from Arrow format:   0%|          | 0/155 [00:00<?, ?ba/s]"
      ],
      "application/vnd.jupyter.widget-view+json": {
       "version_major": 2,
       "version_minor": 0,
       "model_id": "f0df859994d8493f9a39fc1129861890"
      }
     },
     "metadata": {},
     "output_type": "display_data"
    },
    {
     "data": {
      "text/plain": [
       "Creating parquet from Arrow format:   0%|          | 0/155 [00:00<?, ?ba/s]"
      ],
      "application/vnd.jupyter.widget-view+json": {
       "version_major": 2,
       "version_minor": 0,
       "model_id": "56162b4c9c744cdba74cc083e6c51681"
      }
     },
     "metadata": {},
     "output_type": "display_data"
    },
    {
     "data": {
      "text/plain": [
       "Creating parquet from Arrow format:   0%|          | 0/155 [00:00<?, ?ba/s]"
      ],
      "application/vnd.jupyter.widget-view+json": {
       "version_major": 2,
       "version_minor": 0,
       "model_id": "4a7bbae93f34480ca94d30c8cc34a702"
      }
     },
     "metadata": {},
     "output_type": "display_data"
    },
    {
     "data": {
      "text/plain": [
       "Creating parquet from Arrow format:   0%|          | 0/155 [00:00<?, ?ba/s]"
      ],
      "application/vnd.jupyter.widget-view+json": {
       "version_major": 2,
       "version_minor": 0,
       "model_id": "73cddf93c1524809addcdf14ab79cdaf"
      }
     },
     "metadata": {},
     "output_type": "display_data"
    },
    {
     "data": {
      "text/plain": [
       "Creating parquet from Arrow format:   0%|          | 0/155 [00:00<?, ?ba/s]"
      ],
      "application/vnd.jupyter.widget-view+json": {
       "version_major": 2,
       "version_minor": 0,
       "model_id": "572ccb5b5b134c89b966635ce9084016"
      }
     },
     "metadata": {},
     "output_type": "display_data"
    },
    {
     "data": {
      "text/plain": [
       "Creating parquet from Arrow format:   0%|          | 0/155 [00:00<?, ?ba/s]"
      ],
      "application/vnd.jupyter.widget-view+json": {
       "version_major": 2,
       "version_minor": 0,
       "model_id": "e82e955101ca4a8da04c9381d3ecb21d"
      }
     },
     "metadata": {},
     "output_type": "display_data"
    },
    {
     "data": {
      "text/plain": [
       "Creating parquet from Arrow format:   0%|          | 0/155 [00:00<?, ?ba/s]"
      ],
      "application/vnd.jupyter.widget-view+json": {
       "version_major": 2,
       "version_minor": 0,
       "model_id": "14482f06e6cf4ee58298c00a6e9d965c"
      }
     },
     "metadata": {},
     "output_type": "display_data"
    },
    {
     "data": {
      "text/plain": [
       "Creating parquet from Arrow format:   0%|          | 0/155 [00:00<?, ?ba/s]"
      ],
      "application/vnd.jupyter.widget-view+json": {
       "version_major": 2,
       "version_minor": 0,
       "model_id": "1e2e9b2ce2984348a005bef8ec221225"
      }
     },
     "metadata": {},
     "output_type": "display_data"
    },
    {
     "data": {
      "text/plain": [
       "Creating parquet from Arrow format:   0%|          | 0/155 [00:00<?, ?ba/s]"
      ],
      "application/vnd.jupyter.widget-view+json": {
       "version_major": 2,
       "version_minor": 0,
       "model_id": "4ee06e0dd223431e902c221978431d70"
      }
     },
     "metadata": {},
     "output_type": "display_data"
    },
    {
     "data": {
      "text/plain": [
       "Creating parquet from Arrow format:   0%|          | 0/155 [00:00<?, ?ba/s]"
      ],
      "application/vnd.jupyter.widget-view+json": {
       "version_major": 2,
       "version_minor": 0,
       "model_id": "5c020afd97dc4d4ebf07c92b27ac49a6"
      }
     },
     "metadata": {},
     "output_type": "display_data"
    },
    {
     "data": {
      "text/plain": [
       "Creating parquet from Arrow format:   0%|          | 0/155 [00:00<?, ?ba/s]"
      ],
      "application/vnd.jupyter.widget-view+json": {
       "version_major": 2,
       "version_minor": 0,
       "model_id": "2030825b15a84f56b6b40d7cf2ff9df7"
      }
     },
     "metadata": {},
     "output_type": "display_data"
    },
    {
     "data": {
      "text/plain": [
       "Creating parquet from Arrow format:   0%|          | 0/155 [00:00<?, ?ba/s]"
      ],
      "application/vnd.jupyter.widget-view+json": {
       "version_major": 2,
       "version_minor": 0,
       "model_id": "95283f5a9e324587b3986ef3f2c7ecba"
      }
     },
     "metadata": {},
     "output_type": "display_data"
    },
    {
     "data": {
      "text/plain": [
       "Creating parquet from Arrow format:   0%|          | 0/155 [00:00<?, ?ba/s]"
      ],
      "application/vnd.jupyter.widget-view+json": {
       "version_major": 2,
       "version_minor": 0,
       "model_id": "8ba3c1b9c2e644e5aa82ffefc02ddc6d"
      }
     },
     "metadata": {},
     "output_type": "display_data"
    },
    {
     "data": {
      "text/plain": [
       "Creating parquet from Arrow format:   0%|          | 0/155 [00:00<?, ?ba/s]"
      ],
      "application/vnd.jupyter.widget-view+json": {
       "version_major": 2,
       "version_minor": 0,
       "model_id": "c9f4a77552e7430eaeb2283c94346a2e"
      }
     },
     "metadata": {},
     "output_type": "display_data"
    },
    {
     "data": {
      "text/plain": [
       "Creating parquet from Arrow format:   0%|          | 0/155 [00:00<?, ?ba/s]"
      ],
      "application/vnd.jupyter.widget-view+json": {
       "version_major": 2,
       "version_minor": 0,
       "model_id": "971fb18bed044828a38bfa561479c07c"
      }
     },
     "metadata": {},
     "output_type": "display_data"
    },
    {
     "data": {
      "text/plain": [
       "Creating parquet from Arrow format:   0%|          | 0/155 [00:00<?, ?ba/s]"
      ],
      "application/vnd.jupyter.widget-view+json": {
       "version_major": 2,
       "version_minor": 0,
       "model_id": "0116d631132f4e85bcc6da0a0960bc72"
      }
     },
     "metadata": {},
     "output_type": "display_data"
    },
    {
     "data": {
      "text/plain": [
       "Creating parquet from Arrow format:   0%|          | 0/155 [00:00<?, ?ba/s]"
      ],
      "application/vnd.jupyter.widget-view+json": {
       "version_major": 2,
       "version_minor": 0,
       "model_id": "fabcd824a31e457eb439b8a0ca8abb69"
      }
     },
     "metadata": {},
     "output_type": "display_data"
    },
    {
     "data": {
      "text/plain": [
       "Creating parquet from Arrow format:   0%|          | 0/155 [00:00<?, ?ba/s]"
      ],
      "application/vnd.jupyter.widget-view+json": {
       "version_major": 2,
       "version_minor": 0,
       "model_id": "8ba257e529f045e48a7593c3c4a2e4bf"
      }
     },
     "metadata": {},
     "output_type": "display_data"
    },
    {
     "data": {
      "text/plain": [
       "Creating parquet from Arrow format:   0%|          | 0/155 [00:00<?, ?ba/s]"
      ],
      "application/vnd.jupyter.widget-view+json": {
       "version_major": 2,
       "version_minor": 0,
       "model_id": "3bb99afaa38d4d4d9af8e4515a36a866"
      }
     },
     "metadata": {},
     "output_type": "display_data"
    },
    {
     "data": {
      "text/plain": [
       "Creating parquet from Arrow format:   0%|          | 0/155 [00:00<?, ?ba/s]"
      ],
      "application/vnd.jupyter.widget-view+json": {
       "version_major": 2,
       "version_minor": 0,
       "model_id": "6ff8aa125e7e4133b1e5107abb7af756"
      }
     },
     "metadata": {},
     "output_type": "display_data"
    },
    {
     "data": {
      "text/plain": [
       "Creating parquet from Arrow format:   0%|          | 0/155 [00:00<?, ?ba/s]"
      ],
      "application/vnd.jupyter.widget-view+json": {
       "version_major": 2,
       "version_minor": 0,
       "model_id": "354b35493e264555b0121db155293079"
      }
     },
     "metadata": {},
     "output_type": "display_data"
    },
    {
     "data": {
      "text/plain": [
       "Creating parquet from Arrow format:   0%|          | 0/155 [00:00<?, ?ba/s]"
      ],
      "application/vnd.jupyter.widget-view+json": {
       "version_major": 2,
       "version_minor": 0,
       "model_id": "d60036ee246846d6a38479b100085179"
      }
     },
     "metadata": {},
     "output_type": "display_data"
    },
    {
     "data": {
      "text/plain": [
       "Creating parquet from Arrow format:   0%|          | 0/155 [00:00<?, ?ba/s]"
      ],
      "application/vnd.jupyter.widget-view+json": {
       "version_major": 2,
       "version_minor": 0,
       "model_id": "7e48ac2f1be047e1932c8cd4562e48d8"
      }
     },
     "metadata": {},
     "output_type": "display_data"
    },
    {
     "data": {
      "text/plain": [
       "Creating parquet from Arrow format:   0%|          | 0/155 [00:00<?, ?ba/s]"
      ],
      "application/vnd.jupyter.widget-view+json": {
       "version_major": 2,
       "version_minor": 0,
       "model_id": "972b5c039e0b4764b76cfb34d3fd718d"
      }
     },
     "metadata": {},
     "output_type": "display_data"
    },
    {
     "data": {
      "text/plain": [
       "Creating parquet from Arrow format:   0%|          | 0/155 [00:00<?, ?ba/s]"
      ],
      "application/vnd.jupyter.widget-view+json": {
       "version_major": 2,
       "version_minor": 0,
       "model_id": "491649ea50954caab59a094e5c39a158"
      }
     },
     "metadata": {},
     "output_type": "display_data"
    },
    {
     "data": {
      "text/plain": [
       "Creating parquet from Arrow format:   0%|          | 0/155 [00:00<?, ?ba/s]"
      ],
      "application/vnd.jupyter.widget-view+json": {
       "version_major": 2,
       "version_minor": 0,
       "model_id": "930809f47c0947bb9b566350b3fdd7e6"
      }
     },
     "metadata": {},
     "output_type": "display_data"
    },
    {
     "data": {
      "text/plain": [
       "Creating parquet from Arrow format:   0%|          | 0/155 [00:00<?, ?ba/s]"
      ],
      "application/vnd.jupyter.widget-view+json": {
       "version_major": 2,
       "version_minor": 0,
       "model_id": "759d5afee874404f9f4e201cf4b80015"
      }
     },
     "metadata": {},
     "output_type": "display_data"
    },
    {
     "data": {
      "text/plain": [
       "Creating parquet from Arrow format:   0%|          | 0/155 [00:00<?, ?ba/s]"
      ],
      "application/vnd.jupyter.widget-view+json": {
       "version_major": 2,
       "version_minor": 0,
       "model_id": "660d54637fd74d55840676d03a03f97a"
      }
     },
     "metadata": {},
     "output_type": "display_data"
    },
    {
     "data": {
      "text/plain": [
       "Creating parquet from Arrow format:   0%|          | 0/155 [00:00<?, ?ba/s]"
      ],
      "application/vnd.jupyter.widget-view+json": {
       "version_major": 2,
       "version_minor": 0,
       "model_id": "78e299fc0afd4f8b99284b066f816947"
      }
     },
     "metadata": {},
     "output_type": "display_data"
    },
    {
     "data": {
      "text/plain": [
       "Creating parquet from Arrow format:   0%|          | 0/155 [00:00<?, ?ba/s]"
      ],
      "application/vnd.jupyter.widget-view+json": {
       "version_major": 2,
       "version_minor": 0,
       "model_id": "d44cb55a9aac4316bb519a32907af319"
      }
     },
     "metadata": {},
     "output_type": "display_data"
    },
    {
     "data": {
      "text/plain": [
       "Creating parquet from Arrow format:   0%|          | 0/155 [00:00<?, ?ba/s]"
      ],
      "application/vnd.jupyter.widget-view+json": {
       "version_major": 2,
       "version_minor": 0,
       "model_id": "8029c4c3b2cb4248973b5afce684c30c"
      }
     },
     "metadata": {},
     "output_type": "display_data"
    },
    {
     "data": {
      "text/plain": [
       "Creating parquet from Arrow format:   0%|          | 0/155 [00:00<?, ?ba/s]"
      ],
      "application/vnd.jupyter.widget-view+json": {
       "version_major": 2,
       "version_minor": 0,
       "model_id": "295f50655a1c438ea45fe32d7440f2c6"
      }
     },
     "metadata": {},
     "output_type": "display_data"
    },
    {
     "data": {
      "text/plain": [
       "Creating parquet from Arrow format:   0%|          | 0/155 [00:00<?, ?ba/s]"
      ],
      "application/vnd.jupyter.widget-view+json": {
       "version_major": 2,
       "version_minor": 0,
       "model_id": "8d5385947aaa4caead47ab58145cc3e6"
      }
     },
     "metadata": {},
     "output_type": "display_data"
    },
    {
     "data": {
      "text/plain": [
       "Creating parquet from Arrow format:   0%|          | 0/155 [00:00<?, ?ba/s]"
      ],
      "application/vnd.jupyter.widget-view+json": {
       "version_major": 2,
       "version_minor": 0,
       "model_id": "f13f22c4919e420f8ec1b28416871d51"
      }
     },
     "metadata": {},
     "output_type": "display_data"
    },
    {
     "data": {
      "text/plain": [
       "Creating parquet from Arrow format:   0%|          | 0/155 [00:00<?, ?ba/s]"
      ],
      "application/vnd.jupyter.widget-view+json": {
       "version_major": 2,
       "version_minor": 0,
       "model_id": "ca0264bab04c40bfa10944a2a4748a66"
      }
     },
     "metadata": {},
     "output_type": "display_data"
    },
    {
     "data": {
      "text/plain": [
       "Creating parquet from Arrow format:   0%|          | 0/155 [00:00<?, ?ba/s]"
      ],
      "application/vnd.jupyter.widget-view+json": {
       "version_major": 2,
       "version_minor": 0,
       "model_id": "f3850a13b5a743a69c7ac9c02c63014c"
      }
     },
     "metadata": {},
     "output_type": "display_data"
    },
    {
     "data": {
      "text/plain": [
       "Creating parquet from Arrow format:   0%|          | 0/155 [00:00<?, ?ba/s]"
      ],
      "application/vnd.jupyter.widget-view+json": {
       "version_major": 2,
       "version_minor": 0,
       "model_id": "740f91e084ee4270b80fefdbd07824f4"
      }
     },
     "metadata": {},
     "output_type": "display_data"
    },
    {
     "data": {
      "text/plain": [
       "Creating parquet from Arrow format:   0%|          | 0/155 [00:00<?, ?ba/s]"
      ],
      "application/vnd.jupyter.widget-view+json": {
       "version_major": 2,
       "version_minor": 0,
       "model_id": "067ad2aa311147c4a7a100cdfa0f879b"
      }
     },
     "metadata": {},
     "output_type": "display_data"
    },
    {
     "data": {
      "text/plain": [
       "Creating parquet from Arrow format:   0%|          | 0/155 [00:00<?, ?ba/s]"
      ],
      "application/vnd.jupyter.widget-view+json": {
       "version_major": 2,
       "version_minor": 0,
       "model_id": "0e0eab1787e84d91b1905a39b100a1c7"
      }
     },
     "metadata": {},
     "output_type": "display_data"
    },
    {
     "data": {
      "text/plain": [
       "Creating parquet from Arrow format:   0%|          | 0/155 [00:00<?, ?ba/s]"
      ],
      "application/vnd.jupyter.widget-view+json": {
       "version_major": 2,
       "version_minor": 0,
       "model_id": "be897a1b4fd04ef69e5b5a8882337216"
      }
     },
     "metadata": {},
     "output_type": "display_data"
    },
    {
     "data": {
      "text/plain": [
       "Creating parquet from Arrow format:   0%|          | 0/155 [00:00<?, ?ba/s]"
      ],
      "application/vnd.jupyter.widget-view+json": {
       "version_major": 2,
       "version_minor": 0,
       "model_id": "26fce45efad24527b0feb71e3606d5f3"
      }
     },
     "metadata": {},
     "output_type": "display_data"
    },
    {
     "data": {
      "text/plain": [
       "Creating parquet from Arrow format:   0%|          | 0/155 [00:00<?, ?ba/s]"
      ],
      "application/vnd.jupyter.widget-view+json": {
       "version_major": 2,
       "version_minor": 0,
       "model_id": "1296323117af4de6972b01a164ee8342"
      }
     },
     "metadata": {},
     "output_type": "display_data"
    },
    {
     "data": {
      "text/plain": [
       "Creating parquet from Arrow format:   0%|          | 0/155 [00:00<?, ?ba/s]"
      ],
      "application/vnd.jupyter.widget-view+json": {
       "version_major": 2,
       "version_minor": 0,
       "model_id": "34a380cdf1d549b1802df1c80e54636c"
      }
     },
     "metadata": {},
     "output_type": "display_data"
    },
    {
     "data": {
      "text/plain": [
       "Creating parquet from Arrow format:   0%|          | 0/155 [00:00<?, ?ba/s]"
      ],
      "application/vnd.jupyter.widget-view+json": {
       "version_major": 2,
       "version_minor": 0,
       "model_id": "e22bd709acff4689a1e134211066c984"
      }
     },
     "metadata": {},
     "output_type": "display_data"
    },
    {
     "data": {
      "text/plain": [
       "Creating parquet from Arrow format:   0%|          | 0/155 [00:00<?, ?ba/s]"
      ],
      "application/vnd.jupyter.widget-view+json": {
       "version_major": 2,
       "version_minor": 0,
       "model_id": "ae82e54e805b4afd98ba2b69217dab93"
      }
     },
     "metadata": {},
     "output_type": "display_data"
    },
    {
     "data": {
      "text/plain": [
       "Creating parquet from Arrow format:   0%|          | 0/155 [00:00<?, ?ba/s]"
      ],
      "application/vnd.jupyter.widget-view+json": {
       "version_major": 2,
       "version_minor": 0,
       "model_id": "ce00b72604e94d479ffa04c56cb82f4a"
      }
     },
     "metadata": {},
     "output_type": "display_data"
    },
    {
     "data": {
      "text/plain": [
       "Creating parquet from Arrow format:   0%|          | 0/155 [00:00<?, ?ba/s]"
      ],
      "application/vnd.jupyter.widget-view+json": {
       "version_major": 2,
       "version_minor": 0,
       "model_id": "a2b207e400764991a77bf8c5dec7e8f9"
      }
     },
     "metadata": {},
     "output_type": "display_data"
    },
    {
     "data": {
      "text/plain": [
       "Creating parquet from Arrow format:   0%|          | 0/155 [00:00<?, ?ba/s]"
      ],
      "application/vnd.jupyter.widget-view+json": {
       "version_major": 2,
       "version_minor": 0,
       "model_id": "5d1919f037284ea989473d62e8d611fa"
      }
     },
     "metadata": {},
     "output_type": "display_data"
    },
    {
     "data": {
      "text/plain": [
       "Creating parquet from Arrow format:   0%|          | 0/155 [00:00<?, ?ba/s]"
      ],
      "application/vnd.jupyter.widget-view+json": {
       "version_major": 2,
       "version_minor": 0,
       "model_id": "d8e1764fe3674d6f869200872cb909a2"
      }
     },
     "metadata": {},
     "output_type": "display_data"
    },
    {
     "data": {
      "text/plain": [
       "Creating parquet from Arrow format:   0%|          | 0/155 [00:00<?, ?ba/s]"
      ],
      "application/vnd.jupyter.widget-view+json": {
       "version_major": 2,
       "version_minor": 0,
       "model_id": "ec8ce80052504eefb77715ea7a069b63"
      }
     },
     "metadata": {},
     "output_type": "display_data"
    },
    {
     "data": {
      "text/plain": [
       "Creating parquet from Arrow format:   0%|          | 0/155 [00:00<?, ?ba/s]"
      ],
      "application/vnd.jupyter.widget-view+json": {
       "version_major": 2,
       "version_minor": 0,
       "model_id": "d3e594879bef42c3bb1d94f59a11bcc0"
      }
     },
     "metadata": {},
     "output_type": "display_data"
    },
    {
     "data": {
      "text/plain": [
       "Creating parquet from Arrow format:   0%|          | 0/155 [00:00<?, ?ba/s]"
      ],
      "application/vnd.jupyter.widget-view+json": {
       "version_major": 2,
       "version_minor": 0,
       "model_id": "85c8caee8eb04aa2958bd3304aa9f627"
      }
     },
     "metadata": {},
     "output_type": "display_data"
    },
    {
     "data": {
      "text/plain": [
       "Creating parquet from Arrow format:   0%|          | 0/155 [00:00<?, ?ba/s]"
      ],
      "application/vnd.jupyter.widget-view+json": {
       "version_major": 2,
       "version_minor": 0,
       "model_id": "e7d57bde08694e799fcac04fde1b80b1"
      }
     },
     "metadata": {},
     "output_type": "display_data"
    },
    {
     "data": {
      "text/plain": [
       "Creating parquet from Arrow format:   0%|          | 0/155 [00:00<?, ?ba/s]"
      ],
      "application/vnd.jupyter.widget-view+json": {
       "version_major": 2,
       "version_minor": 0,
       "model_id": "18a08631e8244a91a837389d1fe5d862"
      }
     },
     "metadata": {},
     "output_type": "display_data"
    },
    {
     "data": {
      "text/plain": [
       "Creating parquet from Arrow format:   0%|          | 0/155 [00:00<?, ?ba/s]"
      ],
      "application/vnd.jupyter.widget-view+json": {
       "version_major": 2,
       "version_minor": 0,
       "model_id": "e1596bee00d943cf8e041c027907ef01"
      }
     },
     "metadata": {},
     "output_type": "display_data"
    },
    {
     "data": {
      "text/plain": [
       "Creating parquet from Arrow format:   0%|          | 0/155 [00:00<?, ?ba/s]"
      ],
      "application/vnd.jupyter.widget-view+json": {
       "version_major": 2,
       "version_minor": 0,
       "model_id": "1258e74f276e4becab818903ce22c581"
      }
     },
     "metadata": {},
     "output_type": "display_data"
    },
    {
     "data": {
      "text/plain": [
       "Creating parquet from Arrow format:   0%|          | 0/155 [00:00<?, ?ba/s]"
      ],
      "application/vnd.jupyter.widget-view+json": {
       "version_major": 2,
       "version_minor": 0,
       "model_id": "76ec0cfd32c144038ae57dc52d0c4e6b"
      }
     },
     "metadata": {},
     "output_type": "display_data"
    },
    {
     "data": {
      "text/plain": [
       "Creating parquet from Arrow format:   0%|          | 0/155 [00:00<?, ?ba/s]"
      ],
      "application/vnd.jupyter.widget-view+json": {
       "version_major": 2,
       "version_minor": 0,
       "model_id": "456f9ab2546b416880cece0f7a435238"
      }
     },
     "metadata": {},
     "output_type": "display_data"
    },
    {
     "data": {
      "text/plain": [
       "Creating parquet from Arrow format:   0%|          | 0/155 [00:00<?, ?ba/s]"
      ],
      "application/vnd.jupyter.widget-view+json": {
       "version_major": 2,
       "version_minor": 0,
       "model_id": "7e6d19189a3a40cdb0aebaf6692e3a3e"
      }
     },
     "metadata": {},
     "output_type": "display_data"
    },
    {
     "data": {
      "text/plain": [
       "Creating parquet from Arrow format:   0%|          | 0/155 [00:00<?, ?ba/s]"
      ],
      "application/vnd.jupyter.widget-view+json": {
       "version_major": 2,
       "version_minor": 0,
       "model_id": "d1ce1842a6cc4ba3b34236f9671331ea"
      }
     },
     "metadata": {},
     "output_type": "display_data"
    },
    {
     "data": {
      "text/plain": [
       "Creating parquet from Arrow format:   0%|          | 0/155 [00:00<?, ?ba/s]"
      ],
      "application/vnd.jupyter.widget-view+json": {
       "version_major": 2,
       "version_minor": 0,
       "model_id": "4574c1e9d4c34f36b54490cc2344405c"
      }
     },
     "metadata": {},
     "output_type": "display_data"
    },
    {
     "data": {
      "text/plain": [
       "Creating parquet from Arrow format:   0%|          | 0/155 [00:00<?, ?ba/s]"
      ],
      "application/vnd.jupyter.widget-view+json": {
       "version_major": 2,
       "version_minor": 0,
       "model_id": "541158ef451145f9aaa6c10e4a2ce011"
      }
     },
     "metadata": {},
     "output_type": "display_data"
    },
    {
     "data": {
      "text/plain": [
       "Creating parquet from Arrow format:   0%|          | 0/155 [00:00<?, ?ba/s]"
      ],
      "application/vnd.jupyter.widget-view+json": {
       "version_major": 2,
       "version_minor": 0,
       "model_id": "d894e3c0f640487c8a5a11fbc28faa16"
      }
     },
     "metadata": {},
     "output_type": "display_data"
    },
    {
     "data": {
      "text/plain": [
       "Creating parquet from Arrow format:   0%|          | 0/155 [00:00<?, ?ba/s]"
      ],
      "application/vnd.jupyter.widget-view+json": {
       "version_major": 2,
       "version_minor": 0,
       "model_id": "4c956b15a2a642d090d06c4ec8f28e7a"
      }
     },
     "metadata": {},
     "output_type": "display_data"
    },
    {
     "data": {
      "text/plain": [
       "Creating parquet from Arrow format:   0%|          | 0/155 [00:00<?, ?ba/s]"
      ],
      "application/vnd.jupyter.widget-view+json": {
       "version_major": 2,
       "version_minor": 0,
       "model_id": "02996b76514848f8a87292079fb5fdc4"
      }
     },
     "metadata": {},
     "output_type": "display_data"
    },
    {
     "data": {
      "text/plain": [
       "Creating parquet from Arrow format:   0%|          | 0/155 [00:00<?, ?ba/s]"
      ],
      "application/vnd.jupyter.widget-view+json": {
       "version_major": 2,
       "version_minor": 0,
       "model_id": "cd55c9fd646a416e9acc860713583544"
      }
     },
     "metadata": {},
     "output_type": "display_data"
    },
    {
     "data": {
      "text/plain": [
       "Creating parquet from Arrow format:   0%|          | 0/155 [00:00<?, ?ba/s]"
      ],
      "application/vnd.jupyter.widget-view+json": {
       "version_major": 2,
       "version_minor": 0,
       "model_id": "24911bc633c74946bf8f07e85364d1e0"
      }
     },
     "metadata": {},
     "output_type": "display_data"
    },
    {
     "data": {
      "text/plain": [
       "Creating parquet from Arrow format:   0%|          | 0/155 [00:00<?, ?ba/s]"
      ],
      "application/vnd.jupyter.widget-view+json": {
       "version_major": 2,
       "version_minor": 0,
       "model_id": "4ee86d8eb2c14439b928344d420358a8"
      }
     },
     "metadata": {},
     "output_type": "display_data"
    },
    {
     "data": {
      "text/plain": [
       "Creating parquet from Arrow format:   0%|          | 0/155 [00:00<?, ?ba/s]"
      ],
      "application/vnd.jupyter.widget-view+json": {
       "version_major": 2,
       "version_minor": 0,
       "model_id": "d2af1ebe112d4329bac300b00078605e"
      }
     },
     "metadata": {},
     "output_type": "display_data"
    },
    {
     "data": {
      "text/plain": [
       "Creating parquet from Arrow format:   0%|          | 0/155 [00:00<?, ?ba/s]"
      ],
      "application/vnd.jupyter.widget-view+json": {
       "version_major": 2,
       "version_minor": 0,
       "model_id": "5d93f1fbbdf0435ebac1ea9d5e90856e"
      }
     },
     "metadata": {},
     "output_type": "display_data"
    },
    {
     "data": {
      "text/plain": [
       "Creating parquet from Arrow format:   0%|          | 0/155 [00:00<?, ?ba/s]"
      ],
      "application/vnd.jupyter.widget-view+json": {
       "version_major": 2,
       "version_minor": 0,
       "model_id": "6b5f59cd2e3c478a93b8fb6a6746293a"
      }
     },
     "metadata": {},
     "output_type": "display_data"
    },
    {
     "data": {
      "text/plain": [
       "CommitInfo(commit_url='https://huggingface.co/datasets/devngho/korean-corpus/commit/6006c0b6212beb384688026a6b3985bada0f663f', commit_message='Upload dataset (part 00002-of-00003)', commit_description='', oid='6006c0b6212beb384688026a6b3985bada0f663f', pr_url=None, pr_revision=None, pr_num=None)"
      ]
     },
     "execution_count": 12,
     "metadata": {},
     "output_type": "execute_result"
    }
   ],
   "execution_count": 12
  },
  {
   "metadata": {
    "ExecuteTime": {
     "end_time": "2024-11-25T14:40:12.468086Z",
     "start_time": "2024-11-25T14:40:06.162543Z"
    }
   },
   "cell_type": "code",
   "source": "corpus_dedup['corpus_spoken'].push_to_hub('devngho/korean-corpus-spoken', private=True)",
   "id": "6d09d56be97e80e6",
   "outputs": [
    {
     "data": {
      "text/plain": [
       "Uploading the dataset shards:   0%|          | 0/1 [00:00<?, ?it/s]"
      ],
      "application/vnd.jupyter.widget-view+json": {
       "version_major": 2,
       "version_minor": 0,
       "model_id": "627ffcc2e9234d30becd011b6cf97e12"
      }
     },
     "metadata": {},
     "output_type": "display_data"
    },
    {
     "data": {
      "text/plain": [
       "Creating parquet from Arrow format:   0%|          | 0/372 [00:00<?, ?ba/s]"
      ],
      "application/vnd.jupyter.widget-view+json": {
       "version_major": 2,
       "version_minor": 0,
       "model_id": "28c052601c1d4c22a9d1780abbfc807f"
      }
     },
     "metadata": {},
     "output_type": "display_data"
    },
    {
     "data": {
      "text/plain": [
       "CommitInfo(commit_url='https://huggingface.co/datasets/devngho/korean-corpus-spoken/commit/dee5e7ba591af8f755666ed3eca7eb679911df6b', commit_message='Upload dataset', commit_description='', oid='dee5e7ba591af8f755666ed3eca7eb679911df6b', pr_url=None, pr_revision=None, pr_num=None)"
      ]
     },
     "execution_count": 6,
     "metadata": {},
     "output_type": "execute_result"
    }
   ],
   "execution_count": 6
  },
  {
   "metadata": {},
   "cell_type": "markdown",
   "source": "## Shuffle",
   "id": "9fc6ca6f10139a98"
  },
  {
   "metadata": {
    "ExecuteTime": {
     "end_time": "2024-11-26T17:55:24.050673Z",
     "start_time": "2024-11-26T16:43:50.069468Z"
    }
   },
   "cell_type": "code",
   "source": "corpus_shuffled = {k: v.shuffle(seed=42).flatten_indices(num_proc=4) for k, v in corpus_dedup.items()}",
   "id": "e252ca641fa6f7d5",
   "outputs": [
    {
     "data": {
      "text/plain": [
       "Flattening the indices (num_proc=4):   0%|          | 0/16048255 [00:00<?, ? examples/s]"
      ],
      "application/vnd.jupyter.widget-view+json": {
       "version_major": 2,
       "version_minor": 0,
       "model_id": "d74ac359e6954c6980e1935f002f2c5d"
      }
     },
     "metadata": {},
     "output_type": "display_data"
    },
    {
     "data": {
      "text/plain": [
       "Flattening the indices (num_proc=4):   0%|          | 0/371895 [00:00<?, ? examples/s]"
      ],
      "application/vnd.jupyter.widget-view+json": {
       "version_major": 2,
       "version_minor": 0,
       "model_id": "bc59a76fb66049aab6989edc3a2aeac6"
      }
     },
     "metadata": {},
     "output_type": "display_data"
    }
   ],
   "execution_count": 2
  },
  {
   "metadata": {
    "ExecuteTime": {
     "end_time": "2024-11-26T18:09:28.990945Z",
     "start_time": "2024-11-26T18:05:03.816569Z"
    }
   },
   "cell_type": "code",
   "source": [
    "for task in tasks:\n",
    "    corpus_shuffled[task].save_to_disk(f\"E:\\\\2024/datasets_final/{task.upper()}\")"
   ],
   "id": "2bd031bdc2a325d3",
   "outputs": [
    {
     "data": {
      "text/plain": [
       "Saving the dataset (0/104 shards):   0%|          | 0/16048255 [00:00<?, ? examples/s]"
      ],
      "application/vnd.jupyter.widget-view+json": {
       "version_major": 2,
       "version_minor": 0,
       "model_id": "3c177c17c7984c589ed31f83b8740c49"
      }
     },
     "metadata": {},
     "output_type": "display_data"
    },
    {
     "data": {
      "text/plain": [
       "Saving the dataset (0/1 shards):   0%|          | 0/371895 [00:00<?, ? examples/s]"
      ],
      "application/vnd.jupyter.widget-view+json": {
       "version_major": 2,
       "version_minor": 0,
       "model_id": "6f9e23d7969d4a83b731c891123ef9a0"
      }
     },
     "metadata": {},
     "output_type": "display_data"
    }
   ],
   "execution_count": 3
  },
  {
   "metadata": {
    "ExecuteTime": {
     "end_time": "2024-11-26T18:33:36.448614Z",
     "start_time": "2024-11-26T18:09:32.192828Z"
    }
   },
   "cell_type": "code",
   "source": [
    "corpus_shuffled['corpus'].push_to_hub('devngho/korean-corpus-shuffled', private=True)\n",
    "corpus_shuffled['corpus_spoken'].push_to_hub('devngho/korean-corpus-spoken-shuffled', private=True)"
   ],
   "id": "1841730ddb98251a",
   "outputs": [
    {
     "data": {
      "text/plain": [
       "Uploading the dataset shards:   0%|          | 0/104 [00:00<?, ?it/s]"
      ],
      "application/vnd.jupyter.widget-view+json": {
       "version_major": 2,
       "version_minor": 0,
       "model_id": "5bb3e7602c05460681f54ccac261e8dc"
      }
     },
     "metadata": {},
     "output_type": "display_data"
    },
    {
     "data": {
      "text/plain": [
       "Creating parquet from Arrow format:   0%|          | 0/155 [00:00<?, ?ba/s]"
      ],
      "application/vnd.jupyter.widget-view+json": {
       "version_major": 2,
       "version_minor": 0,
       "model_id": "a6e490202a6e48868c4039a07a915067"
      }
     },
     "metadata": {},
     "output_type": "display_data"
    },
    {
     "data": {
      "text/plain": [
       "Creating parquet from Arrow format:   0%|          | 0/155 [00:00<?, ?ba/s]"
      ],
      "application/vnd.jupyter.widget-view+json": {
       "version_major": 2,
       "version_minor": 0,
       "model_id": "f50adae8ddd64e71babc97456383a581"
      }
     },
     "metadata": {},
     "output_type": "display_data"
    },
    {
     "data": {
      "text/plain": [
       "Creating parquet from Arrow format:   0%|          | 0/155 [00:00<?, ?ba/s]"
      ],
      "application/vnd.jupyter.widget-view+json": {
       "version_major": 2,
       "version_minor": 0,
       "model_id": "1835f9959b2f40e7b2e6924e8ec6c5fc"
      }
     },
     "metadata": {},
     "output_type": "display_data"
    },
    {
     "data": {
      "text/plain": [
       "Creating parquet from Arrow format:   0%|          | 0/155 [00:00<?, ?ba/s]"
      ],
      "application/vnd.jupyter.widget-view+json": {
       "version_major": 2,
       "version_minor": 0,
       "model_id": "151d73b45d0a490191dbcf101bbf88b6"
      }
     },
     "metadata": {},
     "output_type": "display_data"
    },
    {
     "data": {
      "text/plain": [
       "Creating parquet from Arrow format:   0%|          | 0/155 [00:00<?, ?ba/s]"
      ],
      "application/vnd.jupyter.widget-view+json": {
       "version_major": 2,
       "version_minor": 0,
       "model_id": "9bfeb178f9ff4c7fb05ea50a2e48bf02"
      }
     },
     "metadata": {},
     "output_type": "display_data"
    },
    {
     "data": {
      "text/plain": [
       "Creating parquet from Arrow format:   0%|          | 0/155 [00:00<?, ?ba/s]"
      ],
      "application/vnd.jupyter.widget-view+json": {
       "version_major": 2,
       "version_minor": 0,
       "model_id": "fdb2ca131d61489b96cef47cc38afc48"
      }
     },
     "metadata": {},
     "output_type": "display_data"
    },
    {
     "data": {
      "text/plain": [
       "Creating parquet from Arrow format:   0%|          | 0/155 [00:00<?, ?ba/s]"
      ],
      "application/vnd.jupyter.widget-view+json": {
       "version_major": 2,
       "version_minor": 0,
       "model_id": "4f093500bfbe468d8e386ca15d8e8c69"
      }
     },
     "metadata": {},
     "output_type": "display_data"
    },
    {
     "data": {
      "text/plain": [
       "Creating parquet from Arrow format:   0%|          | 0/155 [00:00<?, ?ba/s]"
      ],
      "application/vnd.jupyter.widget-view+json": {
       "version_major": 2,
       "version_minor": 0,
       "model_id": "fe7611345fb744609eafac2becb42140"
      }
     },
     "metadata": {},
     "output_type": "display_data"
    },
    {
     "data": {
      "text/plain": [
       "Creating parquet from Arrow format:   0%|          | 0/155 [00:00<?, ?ba/s]"
      ],
      "application/vnd.jupyter.widget-view+json": {
       "version_major": 2,
       "version_minor": 0,
       "model_id": "bc1837d3c21a46b6874e61d72f944622"
      }
     },
     "metadata": {},
     "output_type": "display_data"
    },
    {
     "data": {
      "text/plain": [
       "Creating parquet from Arrow format:   0%|          | 0/155 [00:00<?, ?ba/s]"
      ],
      "application/vnd.jupyter.widget-view+json": {
       "version_major": 2,
       "version_minor": 0,
       "model_id": "aa8f2333fe3c499eb571dd656ce55e2d"
      }
     },
     "metadata": {},
     "output_type": "display_data"
    },
    {
     "data": {
      "text/plain": [
       "Creating parquet from Arrow format:   0%|          | 0/155 [00:00<?, ?ba/s]"
      ],
      "application/vnd.jupyter.widget-view+json": {
       "version_major": 2,
       "version_minor": 0,
       "model_id": "b0a7df050ebb4ecf8362e85504493808"
      }
     },
     "metadata": {},
     "output_type": "display_data"
    },
    {
     "data": {
      "text/plain": [
       "Creating parquet from Arrow format:   0%|          | 0/155 [00:00<?, ?ba/s]"
      ],
      "application/vnd.jupyter.widget-view+json": {
       "version_major": 2,
       "version_minor": 0,
       "model_id": "e5a8d3990a6f48d996435d37aac23c49"
      }
     },
     "metadata": {},
     "output_type": "display_data"
    },
    {
     "data": {
      "text/plain": [
       "Creating parquet from Arrow format:   0%|          | 0/155 [00:00<?, ?ba/s]"
      ],
      "application/vnd.jupyter.widget-view+json": {
       "version_major": 2,
       "version_minor": 0,
       "model_id": "d9824700559b4831a8c2d4e6066fbe41"
      }
     },
     "metadata": {},
     "output_type": "display_data"
    },
    {
     "data": {
      "text/plain": [
       "Creating parquet from Arrow format:   0%|          | 0/155 [00:00<?, ?ba/s]"
      ],
      "application/vnd.jupyter.widget-view+json": {
       "version_major": 2,
       "version_minor": 0,
       "model_id": "b9bc3d47c1fc444bbf66d489e88d45f3"
      }
     },
     "metadata": {},
     "output_type": "display_data"
    },
    {
     "data": {
      "text/plain": [
       "Creating parquet from Arrow format:   0%|          | 0/155 [00:00<?, ?ba/s]"
      ],
      "application/vnd.jupyter.widget-view+json": {
       "version_major": 2,
       "version_minor": 0,
       "model_id": "ce3a3dc8d5f04a94b848b4735c3060ec"
      }
     },
     "metadata": {},
     "output_type": "display_data"
    },
    {
     "data": {
      "text/plain": [
       "Creating parquet from Arrow format:   0%|          | 0/155 [00:00<?, ?ba/s]"
      ],
      "application/vnd.jupyter.widget-view+json": {
       "version_major": 2,
       "version_minor": 0,
       "model_id": "72ff881e24ed495bb3768abc2306302f"
      }
     },
     "metadata": {},
     "output_type": "display_data"
    },
    {
     "data": {
      "text/plain": [
       "Creating parquet from Arrow format:   0%|          | 0/155 [00:00<?, ?ba/s]"
      ],
      "application/vnd.jupyter.widget-view+json": {
       "version_major": 2,
       "version_minor": 0,
       "model_id": "5b1b1fc2fb6e411c98fc45d964eac4bd"
      }
     },
     "metadata": {},
     "output_type": "display_data"
    },
    {
     "data": {
      "text/plain": [
       "Creating parquet from Arrow format:   0%|          | 0/155 [00:00<?, ?ba/s]"
      ],
      "application/vnd.jupyter.widget-view+json": {
       "version_major": 2,
       "version_minor": 0,
       "model_id": "7010619031e546559a8fc8162a80a5b6"
      }
     },
     "metadata": {},
     "output_type": "display_data"
    },
    {
     "data": {
      "text/plain": [
       "Creating parquet from Arrow format:   0%|          | 0/155 [00:00<?, ?ba/s]"
      ],
      "application/vnd.jupyter.widget-view+json": {
       "version_major": 2,
       "version_minor": 0,
       "model_id": "6a4a77b75f534486a67cf30d5bc96e3a"
      }
     },
     "metadata": {},
     "output_type": "display_data"
    },
    {
     "data": {
      "text/plain": [
       "Creating parquet from Arrow format:   0%|          | 0/155 [00:00<?, ?ba/s]"
      ],
      "application/vnd.jupyter.widget-view+json": {
       "version_major": 2,
       "version_minor": 0,
       "model_id": "bdfd13961aa3400a8d6af8eb7d32fe14"
      }
     },
     "metadata": {},
     "output_type": "display_data"
    },
    {
     "data": {
      "text/plain": [
       "Creating parquet from Arrow format:   0%|          | 0/155 [00:00<?, ?ba/s]"
      ],
      "application/vnd.jupyter.widget-view+json": {
       "version_major": 2,
       "version_minor": 0,
       "model_id": "28301404bd4843a8b778692ed292f4b0"
      }
     },
     "metadata": {},
     "output_type": "display_data"
    },
    {
     "data": {
      "text/plain": [
       "Creating parquet from Arrow format:   0%|          | 0/155 [00:00<?, ?ba/s]"
      ],
      "application/vnd.jupyter.widget-view+json": {
       "version_major": 2,
       "version_minor": 0,
       "model_id": "ae2ed9baf20f46de80e7a35f960cc2dd"
      }
     },
     "metadata": {},
     "output_type": "display_data"
    },
    {
     "data": {
      "text/plain": [
       "Creating parquet from Arrow format:   0%|          | 0/155 [00:00<?, ?ba/s]"
      ],
      "application/vnd.jupyter.widget-view+json": {
       "version_major": 2,
       "version_minor": 0,
       "model_id": "68704433c9994025b99d9d59fc3da2c7"
      }
     },
     "metadata": {},
     "output_type": "display_data"
    },
    {
     "data": {
      "text/plain": [
       "Creating parquet from Arrow format:   0%|          | 0/155 [00:00<?, ?ba/s]"
      ],
      "application/vnd.jupyter.widget-view+json": {
       "version_major": 2,
       "version_minor": 0,
       "model_id": "a840b9c5256a45a9972972028b89b514"
      }
     },
     "metadata": {},
     "output_type": "display_data"
    },
    {
     "data": {
      "text/plain": [
       "Creating parquet from Arrow format:   0%|          | 0/155 [00:00<?, ?ba/s]"
      ],
      "application/vnd.jupyter.widget-view+json": {
       "version_major": 2,
       "version_minor": 0,
       "model_id": "fccb5e3953404d609d5bd91ef151fe3e"
      }
     },
     "metadata": {},
     "output_type": "display_data"
    },
    {
     "data": {
      "text/plain": [
       "Creating parquet from Arrow format:   0%|          | 0/155 [00:00<?, ?ba/s]"
      ],
      "application/vnd.jupyter.widget-view+json": {
       "version_major": 2,
       "version_minor": 0,
       "model_id": "6f293c846f95455f8390881391083602"
      }
     },
     "metadata": {},
     "output_type": "display_data"
    },
    {
     "data": {
      "text/plain": [
       "Creating parquet from Arrow format:   0%|          | 0/155 [00:00<?, ?ba/s]"
      ],
      "application/vnd.jupyter.widget-view+json": {
       "version_major": 2,
       "version_minor": 0,
       "model_id": "032837d37fd2455d9e21f36740df37b5"
      }
     },
     "metadata": {},
     "output_type": "display_data"
    },
    {
     "data": {
      "text/plain": [
       "Creating parquet from Arrow format:   0%|          | 0/155 [00:00<?, ?ba/s]"
      ],
      "application/vnd.jupyter.widget-view+json": {
       "version_major": 2,
       "version_minor": 0,
       "model_id": "7c4171277f62411682fd6d1a9921bf9d"
      }
     },
     "metadata": {},
     "output_type": "display_data"
    },
    {
     "data": {
      "text/plain": [
       "Creating parquet from Arrow format:   0%|          | 0/155 [00:00<?, ?ba/s]"
      ],
      "application/vnd.jupyter.widget-view+json": {
       "version_major": 2,
       "version_minor": 0,
       "model_id": "cb3e62853833458091c15c1e593665c0"
      }
     },
     "metadata": {},
     "output_type": "display_data"
    },
    {
     "data": {
      "text/plain": [
       "Creating parquet from Arrow format:   0%|          | 0/155 [00:00<?, ?ba/s]"
      ],
      "application/vnd.jupyter.widget-view+json": {
       "version_major": 2,
       "version_minor": 0,
       "model_id": "89c22a005f6644a5b66bcab86bbf842e"
      }
     },
     "metadata": {},
     "output_type": "display_data"
    },
    {
     "data": {
      "text/plain": [
       "Creating parquet from Arrow format:   0%|          | 0/155 [00:00<?, ?ba/s]"
      ],
      "application/vnd.jupyter.widget-view+json": {
       "version_major": 2,
       "version_minor": 0,
       "model_id": "9d3fd725e4b84ec394f7ccf0bb79c876"
      }
     },
     "metadata": {},
     "output_type": "display_data"
    },
    {
     "data": {
      "text/plain": [
       "Creating parquet from Arrow format:   0%|          | 0/155 [00:00<?, ?ba/s]"
      ],
      "application/vnd.jupyter.widget-view+json": {
       "version_major": 2,
       "version_minor": 0,
       "model_id": "802bf9666c81458c8a91593124b7d0b3"
      }
     },
     "metadata": {},
     "output_type": "display_data"
    },
    {
     "data": {
      "text/plain": [
       "Creating parquet from Arrow format:   0%|          | 0/155 [00:00<?, ?ba/s]"
      ],
      "application/vnd.jupyter.widget-view+json": {
       "version_major": 2,
       "version_minor": 0,
       "model_id": "eed082681ef842faa76ca3c5e7a24c9d"
      }
     },
     "metadata": {},
     "output_type": "display_data"
    },
    {
     "data": {
      "text/plain": [
       "Creating parquet from Arrow format:   0%|          | 0/155 [00:00<?, ?ba/s]"
      ],
      "application/vnd.jupyter.widget-view+json": {
       "version_major": 2,
       "version_minor": 0,
       "model_id": "2ae59b1a12184b85a7e384d990e6f8f1"
      }
     },
     "metadata": {},
     "output_type": "display_data"
    },
    {
     "data": {
      "text/plain": [
       "Creating parquet from Arrow format:   0%|          | 0/155 [00:00<?, ?ba/s]"
      ],
      "application/vnd.jupyter.widget-view+json": {
       "version_major": 2,
       "version_minor": 0,
       "model_id": "ef5f2afd91da40e2a7941bc8895491c2"
      }
     },
     "metadata": {},
     "output_type": "display_data"
    },
    {
     "data": {
      "text/plain": [
       "Creating parquet from Arrow format:   0%|          | 0/155 [00:00<?, ?ba/s]"
      ],
      "application/vnd.jupyter.widget-view+json": {
       "version_major": 2,
       "version_minor": 0,
       "model_id": "bad16810070e4ee6b0ce854cd666c453"
      }
     },
     "metadata": {},
     "output_type": "display_data"
    },
    {
     "data": {
      "text/plain": [
       "Creating parquet from Arrow format:   0%|          | 0/155 [00:00<?, ?ba/s]"
      ],
      "application/vnd.jupyter.widget-view+json": {
       "version_major": 2,
       "version_minor": 0,
       "model_id": "bb495afd87df424b860f10d8c02255af"
      }
     },
     "metadata": {},
     "output_type": "display_data"
    },
    {
     "data": {
      "text/plain": [
       "Creating parquet from Arrow format:   0%|          | 0/155 [00:00<?, ?ba/s]"
      ],
      "application/vnd.jupyter.widget-view+json": {
       "version_major": 2,
       "version_minor": 0,
       "model_id": "c8c73a83e499458eae2842dadb7a0988"
      }
     },
     "metadata": {},
     "output_type": "display_data"
    },
    {
     "data": {
      "text/plain": [
       "Creating parquet from Arrow format:   0%|          | 0/155 [00:00<?, ?ba/s]"
      ],
      "application/vnd.jupyter.widget-view+json": {
       "version_major": 2,
       "version_minor": 0,
       "model_id": "ccf68279764b485c95bfc9cb62ba6af4"
      }
     },
     "metadata": {},
     "output_type": "display_data"
    },
    {
     "data": {
      "text/plain": [
       "Creating parquet from Arrow format:   0%|          | 0/155 [00:00<?, ?ba/s]"
      ],
      "application/vnd.jupyter.widget-view+json": {
       "version_major": 2,
       "version_minor": 0,
       "model_id": "1b81ab04fa3748b5831e8e5d3f8f44ab"
      }
     },
     "metadata": {},
     "output_type": "display_data"
    },
    {
     "data": {
      "text/plain": [
       "Creating parquet from Arrow format:   0%|          | 0/155 [00:00<?, ?ba/s]"
      ],
      "application/vnd.jupyter.widget-view+json": {
       "version_major": 2,
       "version_minor": 0,
       "model_id": "4c426370c74a42b2b68e8186a26eeb71"
      }
     },
     "metadata": {},
     "output_type": "display_data"
    },
    {
     "data": {
      "text/plain": [
       "Creating parquet from Arrow format:   0%|          | 0/155 [00:00<?, ?ba/s]"
      ],
      "application/vnd.jupyter.widget-view+json": {
       "version_major": 2,
       "version_minor": 0,
       "model_id": "9c53636b00134bd3abc36147d3deb97c"
      }
     },
     "metadata": {},
     "output_type": "display_data"
    },
    {
     "data": {
      "text/plain": [
       "Creating parquet from Arrow format:   0%|          | 0/155 [00:00<?, ?ba/s]"
      ],
      "application/vnd.jupyter.widget-view+json": {
       "version_major": 2,
       "version_minor": 0,
       "model_id": "6e84242566c948a9b39e42740ed1e3c9"
      }
     },
     "metadata": {},
     "output_type": "display_data"
    },
    {
     "data": {
      "text/plain": [
       "Creating parquet from Arrow format:   0%|          | 0/155 [00:00<?, ?ba/s]"
      ],
      "application/vnd.jupyter.widget-view+json": {
       "version_major": 2,
       "version_minor": 0,
       "model_id": "73e9182ae2bf44e0b2a895ddf5c6c4db"
      }
     },
     "metadata": {},
     "output_type": "display_data"
    },
    {
     "data": {
      "text/plain": [
       "Creating parquet from Arrow format:   0%|          | 0/155 [00:00<?, ?ba/s]"
      ],
      "application/vnd.jupyter.widget-view+json": {
       "version_major": 2,
       "version_minor": 0,
       "model_id": "d5f058422b6248ceaeed368a666e6ed6"
      }
     },
     "metadata": {},
     "output_type": "display_data"
    },
    {
     "data": {
      "text/plain": [
       "Creating parquet from Arrow format:   0%|          | 0/155 [00:00<?, ?ba/s]"
      ],
      "application/vnd.jupyter.widget-view+json": {
       "version_major": 2,
       "version_minor": 0,
       "model_id": "d1304fcbb746470f94fcbbce7393b0cd"
      }
     },
     "metadata": {},
     "output_type": "display_data"
    },
    {
     "data": {
      "text/plain": [
       "Creating parquet from Arrow format:   0%|          | 0/155 [00:00<?, ?ba/s]"
      ],
      "application/vnd.jupyter.widget-view+json": {
       "version_major": 2,
       "version_minor": 0,
       "model_id": "421b055d17a146daa936f41d5909c8f2"
      }
     },
     "metadata": {},
     "output_type": "display_data"
    },
    {
     "data": {
      "text/plain": [
       "Creating parquet from Arrow format:   0%|          | 0/155 [00:00<?, ?ba/s]"
      ],
      "application/vnd.jupyter.widget-view+json": {
       "version_major": 2,
       "version_minor": 0,
       "model_id": "fd4cd21669f643859caa7b5095d16527"
      }
     },
     "metadata": {},
     "output_type": "display_data"
    },
    {
     "data": {
      "text/plain": [
       "Creating parquet from Arrow format:   0%|          | 0/155 [00:00<?, ?ba/s]"
      ],
      "application/vnd.jupyter.widget-view+json": {
       "version_major": 2,
       "version_minor": 0,
       "model_id": "fb59316b8c6b4d4d92154093a57fc393"
      }
     },
     "metadata": {},
     "output_type": "display_data"
    },
    {
     "data": {
      "text/plain": [
       "Creating parquet from Arrow format:   0%|          | 0/155 [00:00<?, ?ba/s]"
      ],
      "application/vnd.jupyter.widget-view+json": {
       "version_major": 2,
       "version_minor": 0,
       "model_id": "67b49fa930e947bcb89382d722fbc6f0"
      }
     },
     "metadata": {},
     "output_type": "display_data"
    },
    {
     "data": {
      "text/plain": [
       "Creating parquet from Arrow format:   0%|          | 0/155 [00:00<?, ?ba/s]"
      ],
      "application/vnd.jupyter.widget-view+json": {
       "version_major": 2,
       "version_minor": 0,
       "model_id": "334cbe33b2a243c7940cf2b4d2603517"
      }
     },
     "metadata": {},
     "output_type": "display_data"
    },
    {
     "data": {
      "text/plain": [
       "Creating parquet from Arrow format:   0%|          | 0/155 [00:00<?, ?ba/s]"
      ],
      "application/vnd.jupyter.widget-view+json": {
       "version_major": 2,
       "version_minor": 0,
       "model_id": "359b7edbf1064ac5b27459e879be1863"
      }
     },
     "metadata": {},
     "output_type": "display_data"
    },
    {
     "data": {
      "text/plain": [
       "Creating parquet from Arrow format:   0%|          | 0/155 [00:00<?, ?ba/s]"
      ],
      "application/vnd.jupyter.widget-view+json": {
       "version_major": 2,
       "version_minor": 0,
       "model_id": "0e5894a35da6452186a60fe6cfff562f"
      }
     },
     "metadata": {},
     "output_type": "display_data"
    },
    {
     "data": {
      "text/plain": [
       "Creating parquet from Arrow format:   0%|          | 0/155 [00:00<?, ?ba/s]"
      ],
      "application/vnd.jupyter.widget-view+json": {
       "version_major": 2,
       "version_minor": 0,
       "model_id": "fa94a17f9b434b46af9ed5127aac7507"
      }
     },
     "metadata": {},
     "output_type": "display_data"
    },
    {
     "data": {
      "text/plain": [
       "Creating parquet from Arrow format:   0%|          | 0/155 [00:00<?, ?ba/s]"
      ],
      "application/vnd.jupyter.widget-view+json": {
       "version_major": 2,
       "version_minor": 0,
       "model_id": "3f3071ac7c2d4eb9bcc7880e78b38390"
      }
     },
     "metadata": {},
     "output_type": "display_data"
    },
    {
     "data": {
      "text/plain": [
       "Creating parquet from Arrow format:   0%|          | 0/155 [00:00<?, ?ba/s]"
      ],
      "application/vnd.jupyter.widget-view+json": {
       "version_major": 2,
       "version_minor": 0,
       "model_id": "6a631af1d8714604aeeb9cc4212cffe8"
      }
     },
     "metadata": {},
     "output_type": "display_data"
    },
    {
     "data": {
      "text/plain": [
       "Creating parquet from Arrow format:   0%|          | 0/155 [00:00<?, ?ba/s]"
      ],
      "application/vnd.jupyter.widget-view+json": {
       "version_major": 2,
       "version_minor": 0,
       "model_id": "15ab13bd722d4c9690afc97b2bc0f2a7"
      }
     },
     "metadata": {},
     "output_type": "display_data"
    },
    {
     "data": {
      "text/plain": [
       "Creating parquet from Arrow format:   0%|          | 0/155 [00:00<?, ?ba/s]"
      ],
      "application/vnd.jupyter.widget-view+json": {
       "version_major": 2,
       "version_minor": 0,
       "model_id": "ec9096e451564d03978e1166d5981cc9"
      }
     },
     "metadata": {},
     "output_type": "display_data"
    },
    {
     "data": {
      "text/plain": [
       "Creating parquet from Arrow format:   0%|          | 0/155 [00:00<?, ?ba/s]"
      ],
      "application/vnd.jupyter.widget-view+json": {
       "version_major": 2,
       "version_minor": 0,
       "model_id": "85bc0988bed446a3a9c2e7c916732723"
      }
     },
     "metadata": {},
     "output_type": "display_data"
    },
    {
     "data": {
      "text/plain": [
       "Creating parquet from Arrow format:   0%|          | 0/155 [00:00<?, ?ba/s]"
      ],
      "application/vnd.jupyter.widget-view+json": {
       "version_major": 2,
       "version_minor": 0,
       "model_id": "dfc7e764c4454e549f85863992b26b1e"
      }
     },
     "metadata": {},
     "output_type": "display_data"
    },
    {
     "data": {
      "text/plain": [
       "Creating parquet from Arrow format:   0%|          | 0/155 [00:00<?, ?ba/s]"
      ],
      "application/vnd.jupyter.widget-view+json": {
       "version_major": 2,
       "version_minor": 0,
       "model_id": "91280b2c9a324465ae14e4757c48bd03"
      }
     },
     "metadata": {},
     "output_type": "display_data"
    },
    {
     "data": {
      "text/plain": [
       "Creating parquet from Arrow format:   0%|          | 0/155 [00:00<?, ?ba/s]"
      ],
      "application/vnd.jupyter.widget-view+json": {
       "version_major": 2,
       "version_minor": 0,
       "model_id": "5170276461e9455f962b6b01f0cf0785"
      }
     },
     "metadata": {},
     "output_type": "display_data"
    },
    {
     "data": {
      "text/plain": [
       "Creating parquet from Arrow format:   0%|          | 0/155 [00:00<?, ?ba/s]"
      ],
      "application/vnd.jupyter.widget-view+json": {
       "version_major": 2,
       "version_minor": 0,
       "model_id": "a10b296d465b45e88fa14615d0db4818"
      }
     },
     "metadata": {},
     "output_type": "display_data"
    },
    {
     "data": {
      "text/plain": [
       "Creating parquet from Arrow format:   0%|          | 0/155 [00:00<?, ?ba/s]"
      ],
      "application/vnd.jupyter.widget-view+json": {
       "version_major": 2,
       "version_minor": 0,
       "model_id": "2093f5e8635d4847ba0dc1d9e6966a76"
      }
     },
     "metadata": {},
     "output_type": "display_data"
    },
    {
     "data": {
      "text/plain": [
       "Creating parquet from Arrow format:   0%|          | 0/155 [00:00<?, ?ba/s]"
      ],
      "application/vnd.jupyter.widget-view+json": {
       "version_major": 2,
       "version_minor": 0,
       "model_id": "4442620347b642d58c095edf887eb054"
      }
     },
     "metadata": {},
     "output_type": "display_data"
    },
    {
     "data": {
      "text/plain": [
       "Creating parquet from Arrow format:   0%|          | 0/155 [00:00<?, ?ba/s]"
      ],
      "application/vnd.jupyter.widget-view+json": {
       "version_major": 2,
       "version_minor": 0,
       "model_id": "1da87d0d77ca47b380a9bf11c0c3afc0"
      }
     },
     "metadata": {},
     "output_type": "display_data"
    },
    {
     "data": {
      "text/plain": [
       "Creating parquet from Arrow format:   0%|          | 0/155 [00:00<?, ?ba/s]"
      ],
      "application/vnd.jupyter.widget-view+json": {
       "version_major": 2,
       "version_minor": 0,
       "model_id": "c090a609b9f7499bacdf9a0a3b17eb77"
      }
     },
     "metadata": {},
     "output_type": "display_data"
    },
    {
     "data": {
      "text/plain": [
       "Creating parquet from Arrow format:   0%|          | 0/155 [00:00<?, ?ba/s]"
      ],
      "application/vnd.jupyter.widget-view+json": {
       "version_major": 2,
       "version_minor": 0,
       "model_id": "28468d73877a4671a4d8b71088400568"
      }
     },
     "metadata": {},
     "output_type": "display_data"
    },
    {
     "data": {
      "text/plain": [
       "Creating parquet from Arrow format:   0%|          | 0/155 [00:00<?, ?ba/s]"
      ],
      "application/vnd.jupyter.widget-view+json": {
       "version_major": 2,
       "version_minor": 0,
       "model_id": "08bc806ac4634947913608df27e27f80"
      }
     },
     "metadata": {},
     "output_type": "display_data"
    },
    {
     "data": {
      "text/plain": [
       "Creating parquet from Arrow format:   0%|          | 0/155 [00:00<?, ?ba/s]"
      ],
      "application/vnd.jupyter.widget-view+json": {
       "version_major": 2,
       "version_minor": 0,
       "model_id": "7e3993f96c2a4586b26e8fa14032b107"
      }
     },
     "metadata": {},
     "output_type": "display_data"
    },
    {
     "data": {
      "text/plain": [
       "Creating parquet from Arrow format:   0%|          | 0/155 [00:00<?, ?ba/s]"
      ],
      "application/vnd.jupyter.widget-view+json": {
       "version_major": 2,
       "version_minor": 0,
       "model_id": "601f86f5a79344e19e01fc272ab7818a"
      }
     },
     "metadata": {},
     "output_type": "display_data"
    },
    {
     "data": {
      "text/plain": [
       "Creating parquet from Arrow format:   0%|          | 0/155 [00:00<?, ?ba/s]"
      ],
      "application/vnd.jupyter.widget-view+json": {
       "version_major": 2,
       "version_minor": 0,
       "model_id": "81e27e18a97c4ca8ab3a110ecc77d2d0"
      }
     },
     "metadata": {},
     "output_type": "display_data"
    },
    {
     "data": {
      "text/plain": [
       "Creating parquet from Arrow format:   0%|          | 0/155 [00:00<?, ?ba/s]"
      ],
      "application/vnd.jupyter.widget-view+json": {
       "version_major": 2,
       "version_minor": 0,
       "model_id": "15d1fbf7781c4124b0292724bcadc6b2"
      }
     },
     "metadata": {},
     "output_type": "display_data"
    },
    {
     "data": {
      "text/plain": [
       "Creating parquet from Arrow format:   0%|          | 0/155 [00:00<?, ?ba/s]"
      ],
      "application/vnd.jupyter.widget-view+json": {
       "version_major": 2,
       "version_minor": 0,
       "model_id": "27fbe3b4620c41e4beae74e6b90eb277"
      }
     },
     "metadata": {},
     "output_type": "display_data"
    },
    {
     "data": {
      "text/plain": [
       "Creating parquet from Arrow format:   0%|          | 0/155 [00:00<?, ?ba/s]"
      ],
      "application/vnd.jupyter.widget-view+json": {
       "version_major": 2,
       "version_minor": 0,
       "model_id": "70e2eadf488041c9a3bf36d2275eccff"
      }
     },
     "metadata": {},
     "output_type": "display_data"
    },
    {
     "data": {
      "text/plain": [
       "Creating parquet from Arrow format:   0%|          | 0/155 [00:00<?, ?ba/s]"
      ],
      "application/vnd.jupyter.widget-view+json": {
       "version_major": 2,
       "version_minor": 0,
       "model_id": "e759615fa5ba4574b14a12f601e1d7ad"
      }
     },
     "metadata": {},
     "output_type": "display_data"
    },
    {
     "data": {
      "text/plain": [
       "Creating parquet from Arrow format:   0%|          | 0/155 [00:00<?, ?ba/s]"
      ],
      "application/vnd.jupyter.widget-view+json": {
       "version_major": 2,
       "version_minor": 0,
       "model_id": "44b17cb1350543a096ba000882921cd6"
      }
     },
     "metadata": {},
     "output_type": "display_data"
    },
    {
     "data": {
      "text/plain": [
       "Creating parquet from Arrow format:   0%|          | 0/155 [00:00<?, ?ba/s]"
      ],
      "application/vnd.jupyter.widget-view+json": {
       "version_major": 2,
       "version_minor": 0,
       "model_id": "152a2efe741c44cc977e0551c9a7d8f8"
      }
     },
     "metadata": {},
     "output_type": "display_data"
    },
    {
     "data": {
      "text/plain": [
       "Creating parquet from Arrow format:   0%|          | 0/155 [00:00<?, ?ba/s]"
      ],
      "application/vnd.jupyter.widget-view+json": {
       "version_major": 2,
       "version_minor": 0,
       "model_id": "ee8c5778eabc4d9089b3a4061022e789"
      }
     },
     "metadata": {},
     "output_type": "display_data"
    },
    {
     "data": {
      "text/plain": [
       "Creating parquet from Arrow format:   0%|          | 0/155 [00:00<?, ?ba/s]"
      ],
      "application/vnd.jupyter.widget-view+json": {
       "version_major": 2,
       "version_minor": 0,
       "model_id": "b0d6468708ce44798dd1632e592bdc2b"
      }
     },
     "metadata": {},
     "output_type": "display_data"
    },
    {
     "data": {
      "text/plain": [
       "Creating parquet from Arrow format:   0%|          | 0/155 [00:00<?, ?ba/s]"
      ],
      "application/vnd.jupyter.widget-view+json": {
       "version_major": 2,
       "version_minor": 0,
       "model_id": "6eb6ea36176742808a8ab4b68b231403"
      }
     },
     "metadata": {},
     "output_type": "display_data"
    },
    {
     "data": {
      "text/plain": [
       "Creating parquet from Arrow format:   0%|          | 0/155 [00:00<?, ?ba/s]"
      ],
      "application/vnd.jupyter.widget-view+json": {
       "version_major": 2,
       "version_minor": 0,
       "model_id": "fda404b743744d79a5a1a551bba45d22"
      }
     },
     "metadata": {},
     "output_type": "display_data"
    },
    {
     "data": {
      "text/plain": [
       "Creating parquet from Arrow format:   0%|          | 0/155 [00:00<?, ?ba/s]"
      ],
      "application/vnd.jupyter.widget-view+json": {
       "version_major": 2,
       "version_minor": 0,
       "model_id": "5255531d7437408ca26b666bba53f5d4"
      }
     },
     "metadata": {},
     "output_type": "display_data"
    },
    {
     "data": {
      "text/plain": [
       "Creating parquet from Arrow format:   0%|          | 0/155 [00:00<?, ?ba/s]"
      ],
      "application/vnd.jupyter.widget-view+json": {
       "version_major": 2,
       "version_minor": 0,
       "model_id": "23b3e35c87894e18aeb29086011e00c7"
      }
     },
     "metadata": {},
     "output_type": "display_data"
    },
    {
     "data": {
      "text/plain": [
       "Creating parquet from Arrow format:   0%|          | 0/155 [00:00<?, ?ba/s]"
      ],
      "application/vnd.jupyter.widget-view+json": {
       "version_major": 2,
       "version_minor": 0,
       "model_id": "ad3b94c4f7354e2cbd5b1c78f7781479"
      }
     },
     "metadata": {},
     "output_type": "display_data"
    },
    {
     "data": {
      "text/plain": [
       "Creating parquet from Arrow format:   0%|          | 0/155 [00:00<?, ?ba/s]"
      ],
      "application/vnd.jupyter.widget-view+json": {
       "version_major": 2,
       "version_minor": 0,
       "model_id": "7c6e6bf7d63c49e69fbada74b0d83dce"
      }
     },
     "metadata": {},
     "output_type": "display_data"
    },
    {
     "data": {
      "text/plain": [
       "Creating parquet from Arrow format:   0%|          | 0/155 [00:00<?, ?ba/s]"
      ],
      "application/vnd.jupyter.widget-view+json": {
       "version_major": 2,
       "version_minor": 0,
       "model_id": "f7f93a6afa064462a98d8a6a6acb7b50"
      }
     },
     "metadata": {},
     "output_type": "display_data"
    },
    {
     "data": {
      "text/plain": [
       "Creating parquet from Arrow format:   0%|          | 0/155 [00:00<?, ?ba/s]"
      ],
      "application/vnd.jupyter.widget-view+json": {
       "version_major": 2,
       "version_minor": 0,
       "model_id": "5598c6f1e29541028eb3acd4a9731e33"
      }
     },
     "metadata": {},
     "output_type": "display_data"
    },
    {
     "data": {
      "text/plain": [
       "Creating parquet from Arrow format:   0%|          | 0/155 [00:00<?, ?ba/s]"
      ],
      "application/vnd.jupyter.widget-view+json": {
       "version_major": 2,
       "version_minor": 0,
       "model_id": "6a56fca60d0948de86e2a2b165b9cf18"
      }
     },
     "metadata": {},
     "output_type": "display_data"
    },
    {
     "data": {
      "text/plain": [
       "Creating parquet from Arrow format:   0%|          | 0/155 [00:00<?, ?ba/s]"
      ],
      "application/vnd.jupyter.widget-view+json": {
       "version_major": 2,
       "version_minor": 0,
       "model_id": "3f59790f206e4119bd43d2b8e4647851"
      }
     },
     "metadata": {},
     "output_type": "display_data"
    },
    {
     "data": {
      "text/plain": [
       "Creating parquet from Arrow format:   0%|          | 0/155 [00:00<?, ?ba/s]"
      ],
      "application/vnd.jupyter.widget-view+json": {
       "version_major": 2,
       "version_minor": 0,
       "model_id": "60b5e111673a4eb49b736f4128f38814"
      }
     },
     "metadata": {},
     "output_type": "display_data"
    },
    {
     "data": {
      "text/plain": [
       "Creating parquet from Arrow format:   0%|          | 0/155 [00:00<?, ?ba/s]"
      ],
      "application/vnd.jupyter.widget-view+json": {
       "version_major": 2,
       "version_minor": 0,
       "model_id": "03ef51c418a64011973b20afc0d8dc1f"
      }
     },
     "metadata": {},
     "output_type": "display_data"
    },
    {
     "data": {
      "text/plain": [
       "Creating parquet from Arrow format:   0%|          | 0/155 [00:00<?, ?ba/s]"
      ],
      "application/vnd.jupyter.widget-view+json": {
       "version_major": 2,
       "version_minor": 0,
       "model_id": "eb8bd5725fd3487ebc4fb8be5d68c7f5"
      }
     },
     "metadata": {},
     "output_type": "display_data"
    },
    {
     "data": {
      "text/plain": [
       "Creating parquet from Arrow format:   0%|          | 0/155 [00:00<?, ?ba/s]"
      ],
      "application/vnd.jupyter.widget-view+json": {
       "version_major": 2,
       "version_minor": 0,
       "model_id": "cf0f0a487bbd4e348a7d34a488cd46a6"
      }
     },
     "metadata": {},
     "output_type": "display_data"
    },
    {
     "data": {
      "text/plain": [
       "Creating parquet from Arrow format:   0%|          | 0/155 [00:00<?, ?ba/s]"
      ],
      "application/vnd.jupyter.widget-view+json": {
       "version_major": 2,
       "version_minor": 0,
       "model_id": "083c41fa1a684633b659f1928691412d"
      }
     },
     "metadata": {},
     "output_type": "display_data"
    },
    {
     "data": {
      "text/plain": [
       "Creating parquet from Arrow format:   0%|          | 0/155 [00:00<?, ?ba/s]"
      ],
      "application/vnd.jupyter.widget-view+json": {
       "version_major": 2,
       "version_minor": 0,
       "model_id": "15e476a8cab8496199419011ee313091"
      }
     },
     "metadata": {},
     "output_type": "display_data"
    },
    {
     "data": {
      "text/plain": [
       "Creating parquet from Arrow format:   0%|          | 0/155 [00:00<?, ?ba/s]"
      ],
      "application/vnd.jupyter.widget-view+json": {
       "version_major": 2,
       "version_minor": 0,
       "model_id": "0054a180e4254de8a7a641974aa1fc21"
      }
     },
     "metadata": {},
     "output_type": "display_data"
    },
    {
     "data": {
      "text/plain": [
       "Creating parquet from Arrow format:   0%|          | 0/155 [00:00<?, ?ba/s]"
      ],
      "application/vnd.jupyter.widget-view+json": {
       "version_major": 2,
       "version_minor": 0,
       "model_id": "bf803bebef94432e8558197ece786c1e"
      }
     },
     "metadata": {},
     "output_type": "display_data"
    },
    {
     "data": {
      "text/plain": [
       "Creating parquet from Arrow format:   0%|          | 0/155 [00:00<?, ?ba/s]"
      ],
      "application/vnd.jupyter.widget-view+json": {
       "version_major": 2,
       "version_minor": 0,
       "model_id": "1e7c568273724ca5b5334b522d4fe52e"
      }
     },
     "metadata": {},
     "output_type": "display_data"
    },
    {
     "data": {
      "text/plain": [
       "Creating parquet from Arrow format:   0%|          | 0/155 [00:00<?, ?ba/s]"
      ],
      "application/vnd.jupyter.widget-view+json": {
       "version_major": 2,
       "version_minor": 0,
       "model_id": "51df6869d23846398ab498c310f95533"
      }
     },
     "metadata": {},
     "output_type": "display_data"
    },
    {
     "data": {
      "text/plain": [
       "Creating parquet from Arrow format:   0%|          | 0/155 [00:00<?, ?ba/s]"
      ],
      "application/vnd.jupyter.widget-view+json": {
       "version_major": 2,
       "version_minor": 0,
       "model_id": "24228f3878054046ad36ab262d18376f"
      }
     },
     "metadata": {},
     "output_type": "display_data"
    },
    {
     "data": {
      "text/plain": [
       "Creating parquet from Arrow format:   0%|          | 0/155 [00:00<?, ?ba/s]"
      ],
      "application/vnd.jupyter.widget-view+json": {
       "version_major": 2,
       "version_minor": 0,
       "model_id": "5c1722a8842942659eced692dd5d899c"
      }
     },
     "metadata": {},
     "output_type": "display_data"
    },
    {
     "data": {
      "text/plain": [
       "Creating parquet from Arrow format:   0%|          | 0/155 [00:00<?, ?ba/s]"
      ],
      "application/vnd.jupyter.widget-view+json": {
       "version_major": 2,
       "version_minor": 0,
       "model_id": "c448efa7293d4ab2957cf04cc83cec2d"
      }
     },
     "metadata": {},
     "output_type": "display_data"
    },
    {
     "data": {
      "text/plain": [
       "Creating parquet from Arrow format:   0%|          | 0/155 [00:00<?, ?ba/s]"
      ],
      "application/vnd.jupyter.widget-view+json": {
       "version_major": 2,
       "version_minor": 0,
       "model_id": "69fb0f9a9e2c4e879bf6fb3533a19e98"
      }
     },
     "metadata": {},
     "output_type": "display_data"
    },
    {
     "data": {
      "text/plain": [
       "Uploading the dataset shards:   0%|          | 0/1 [00:00<?, ?it/s]"
      ],
      "application/vnd.jupyter.widget-view+json": {
       "version_major": 2,
       "version_minor": 0,
       "model_id": "22677a9e6b9b40e89f8ae4f6f24b52a0"
      }
     },
     "metadata": {},
     "output_type": "display_data"
    },
    {
     "data": {
      "text/plain": [
       "Creating parquet from Arrow format:   0%|          | 0/372 [00:00<?, ?ba/s]"
      ],
      "application/vnd.jupyter.widget-view+json": {
       "version_major": 2,
       "version_minor": 0,
       "model_id": "8cfde31b791a45df8a8f6adf56ce4f55"
      }
     },
     "metadata": {},
     "output_type": "display_data"
    },
    {
     "data": {
      "text/plain": [
       "CommitInfo(commit_url='https://huggingface.co/datasets/devngho/korean-corpus-spoken-shuffled/commit/b5a7c060185d30cae6381b9738247eb8bca466d5', commit_message='Upload dataset', commit_description='', oid='b5a7c060185d30cae6381b9738247eb8bca466d5', pr_url=None, pr_revision=None, pr_num=None)"
      ]
     },
     "execution_count": 4,
     "metadata": {},
     "output_type": "execute_result"
    }
   ],
   "execution_count": 4
  },
  {
   "metadata": {},
   "cell_type": "code",
   "outputs": [],
   "execution_count": null,
   "source": "",
   "id": "314a3caa517fcfbe"
  }
 ],
 "metadata": {
  "kernelspec": {
   "display_name": "Python 3",
   "language": "python",
   "name": "python3"
  },
  "language_info": {
   "codemirror_mode": {
    "name": "ipython",
    "version": 2
   },
   "file_extension": ".py",
   "mimetype": "text/x-python",
   "name": "python",
   "nbconvert_exporter": "python",
   "pygments_lexer": "ipython2",
   "version": "2.7.6"
  }
 },
 "nbformat": 4,
 "nbformat_minor": 5
}
